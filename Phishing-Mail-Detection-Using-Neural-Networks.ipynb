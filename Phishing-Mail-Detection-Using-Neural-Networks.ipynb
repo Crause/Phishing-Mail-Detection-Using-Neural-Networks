{
 "cells": [
  {
   "cell_type": "markdown",
   "id": "d4e23bd7",
   "metadata": {},
   "source": [
    "# Проектная работа по дисциплине \"Теория обнаружения вторжений с применением искусственного интеллекта\""
   ]
  },
  {
   "cell_type": "markdown",
   "id": "0a11c1f5",
   "metadata": {},
   "source": [
    "#### Тема проекта: \"Обнаружение фишинговых сообщений с помощью нейронных сетей\"\n",
    "#### Команда, работающая над проектом, представлена группой студентов:\n",
    "- **ББМО-02-22 Кузьмин Владимир Дмитриевич**\n",
    "- ББМО-02-22 Исаев Александр Михайлович\n",
    "- ББМО-01-22 Загороднов Егор Алексеевич\n",
    "- ББМО-01-22 Карев Даниил Павлович"
   ]
  },
  {
   "cell_type": "markdown",
   "id": "e3474f14",
   "metadata": {},
   "source": [
    "# Актуальность\n",
    "В 2022 году количество фишинговых атак заметно выросло. Система «Антифишинг» пресекла 507 851 735 попыток перехода по фишинговым ссылкам – это примерно вдвое больше, чем в 2021-м.\n",
    "\n",
    "В последнее время мы наблюдаем увеличение количества целевых фишинговых атак, при которых мошенники переходят к самой фишинговой атаке не сразу, а после нескольких «ознакомительных» писем, в которых активно переписываются с жертвой. Скорее всего, эта тенденция продолжится. Также вероятно появление в 2023 году новых уловок в корпоративном секторе, атаки на который приносят злоумышленникам значительную прибыль [1].\n",
    "\n",
    "С января по апрель 2022 года защитные решения \"Лаборатории Касперского\" заблокировали более 800 тысяч фишинговых писем на русском языке с вредоносными HTML-вложениями, почти половину из них – в марте. Такой метод представляет собой продвинутый с технической точки зрения и распространенный прием для выманивания данных пользователей, в том числе платежных [2].\n",
    "\n",
    "Аналитики Positive Technologies подтверждают: социальная инженерия в тренде у злоумышленников. В III квартале 2022 года число массовых кампаний с использованием социальной инженерии увеличилось на 41% в атаках на организации и на 34% в атаках на частных лиц по сравнению с результатами II квартала. Преимущественно такой рост вызван активным использованием фишинговых комплектов – готовых наборов программ, предназначенных для проведения фишинговой атаки [3]."
   ]
  },
  {
   "cell_type": "markdown",
   "id": "36fc98c2",
   "metadata": {},
   "source": [
    "# Объект и предмет исследования\n",
    "Объектом исследования данной работы является классификация фишинговых сообщений. Предметом исследования является создание и обучение нейронной сети для классификации фишинговых сообщений."
   ]
  },
  {
   "cell_type": "markdown",
   "id": "c0dd5c73",
   "metadata": {},
   "source": [
    "# Методы исследования\n",
    "В ходе работы над проектом будут использованы такие методы исследования, как эмпирические, так и теоретические."
   ]
  },
  {
   "cell_type": "markdown",
   "id": "36a1c92a",
   "metadata": {},
   "source": [
    "# Цель и задачи\n",
    "Таким образом, цель данной работы – обнаружение фишинговых сообщений с помощью нейронных сетей.\n",
    "Для достижения поставленной цели необходимо выполнить следующие задачи:\n",
    "\n",
    "1. Подготовить данные для обучения;\n",
    "1. Предобработать данные;\n",
    "1. Подготовить наборы для обучения и тестирования;\n",
    "1. Произвести обучение;\n",
    "1. Обработать данные результатов обучения;\n",
    "1. Протестировать обученную модель;\n",
    "1. Повторить предыдущие этапы для различных моделей;\n",
    "1. Выбрать наилучшую модель для достижения цели работы."
   ]
  },
  {
   "cell_type": "markdown",
   "id": "a4df9e37",
   "metadata": {},
   "source": [
    "# Основная часть\n",
    "## Фишинг\n",
    "Фишинг – это вид интернет-мошенничества, при котором злоумышленник создает ложную \n",
    "страницу в интернете, имитирующую настоящий сайт, с целью получить доступ к личным \n",
    "данным пользователя или его финансовым средствам.\n",
    "\n",
    "Часто фишинговые сайты маскируются под популярные банки, онлайн-магазины, \n",
    "социальные сети и другие популярные интернет-ресурсы. Пользователь, переходя на \n",
    "такой сайт, вводит свои логин и пароль, а злоумышленник получает доступ к этой \n",
    "информации.\n",
    "\n",
    "Существует несколько способов, которые могут помочь обнаружить фишинг:\n",
    "Проверка URL-адреса: Перед вводом личных данных на страницу, пользователь должен \n",
    "проверить URL-адрес и убедиться, что он соответствует настоящему сайту. Если адрес \n",
    "начинается с \"http\" вместо \"https\", это может свидетельствовать о том, что сайт не \n",
    "защищен.\n",
    "\n",
    "Проверка сертификата безопасности: Настоящий сайт обычно имеет сертификат \n",
    "безопасности. Пользователь может проверить его наличие, кликнув на замочек в \n",
    "адресной строке браузера.\n",
    "\n",
    "Бережность при получении электронных писем: Фишинг-атаки могут приходить в виде \n",
    "электронных писем, которые выглядят, как будто они отправлены от реального \n",
    "отправителя. Пользователь должен быть бдительным при получении подобных писем и \n",
    "не переходить на вложенные ссылки.\n",
    "\n",
    "Использование антивирусного программного обеспечения: Антивирусное ПО может \n",
    "помочь обнаружить фишинг-сайты и предупредить пользователя о потенциальной угрозе.\n",
    "Бережность при вводе личных данных: Пользователь должен быть бдительным при \n",
    "вводе личных данных, особенно на незнакомых сайтах. Если что-то кажется \n",
    "подозрительным, лучше отказаться от ввода информации.\n",
    "\n",
    "Обновление программного обеспечения: Часто фишинг-атаки используют уязвимости в \n",
    "программном обеспечении, чтобы получить доступ к личным данным. Пользователь \n",
    "должен регулярно обновлять программное обеспечение на своем компьютере и \n",
    "мобильном устройстве, чтобы защититься от таких уязвимостей.\n",
    "\n",
    "## Как определить фишинговое письмо\n",
    "Ниже перечислены некоторые признаки, которые могут указывать на то, что вы получили фишинговое письмо:\n",
    "\n",
    "- **Отправитель**: Фишинговое письмо может быть отправлено от адреса электронной почты, который похож на адрес реального отправителя, но имеет некоторые отличия. Например, вместо \"example.com\" может быть \"examp1e.com\" или \"exampIe.com\", где буквы \"l\" и \"I\" заменены цифрами. Также злоумышленники могут использовать адреса электронной почты, которые выглядят знакомыми, но на самом деле не имеют никакого отношения к доверенному отправителю.\n",
    "\n",
    "- **Содержание**: Фишинговое письмо может содержать странные или неожиданные запросы, например, просьбу изменить пароль или предоставить финансовую информацию. Также могут быть ошибки в грамматике или орфографии, что указывает на то, что письмо не прошло проверку правописания.\n",
    "\n",
    "- **Ссылки**: Фишинговое письмо может содержать ссылки на поддельные веб-сайты, которые выглядят как официальные сайты, но на самом деле используются для сбора личной информации. Если вы наведете курсор мыши на ссылку, то увидите, что она ведет на другой адрес, отличный от адреса, который был указан в письме.\n",
    "\n",
    "- **Вложения**: Фишинговое письмо может содержать вложения, которые выглядят как документы или файлы, но на самом деле могут содержать вредоносное ПО или вирусы. Если вы не уверены в подлинности вложения, не открывайте его и не скачивайте на свой компьютер.\n",
    "\n",
    "**Вот пример содержания фишингового письма**:\n",
    "\n",
    ">Уважаемый клиент,\n",
    ">\n",
    ">Мы заметили необычную активность на вашем банковском счете и просим вас обновить свои данные, чтобы предотвратить возможные мошеннические операции. Пожалуйста, пройдите по ссылке ниже и введите свой логин и пароль, чтобы обновить свою учетную запись.\n",
    ">\n",
    ">https://www.mybankingwebsite.com/login\n",
    ">\n",
    ">С уважением,\n",
    ">\n",
    ">Отдел безопасности банка\n",
    "\n",
    "Это типичный пример фишингового письма, в котором злоумышленник пытается обмануть получателя, выдавая себя за доверенную организацию. Он содержит ссылку на поддельный сайт, который выглядит как официальный сайт банка, и просит вас ввести свои учетные данные. Если вы введете свой логин и пароль на этом сайте, то злоумышленник получит доступ к вашим личным данным и сможет использовать их для мошенничества.\n",
    "\n",
    "**Вот пример фишинговой ссылки**:\n",
    "\n",
    ">https://www.paypal.com.updateaccount.com\n",
    "\n",
    "На первый взгляд, это может выглядеть как настоящая ссылка на сайт PayPal. Однако, если внимательно посмотреть на ссылку, то можно заметить, что она содержит дополнительный поддомен \"updateaccount.com\", который не является официальным доменом PayPal. Это может быть признаком того, что это фишинговая ссылка, которую используют злоумышленники, чтобы обмануть пользователей и получить их личную информацию. Если вы введете свои данные на таком сайте, то злоумышленники могут получить доступ к вашим личным данным и использовать их для мошеннических целей. Поэтому, важно быть осторожным при открытии ссылок в письмах и проверять их на подлинность, особенно если они запрашивают личную информацию.\n",
    "\n",
    "**Фишинговые вложения**:\n",
    "\n",
    "Предположим, вы получили письмо с вложением, которое якобы содержит важную информацию от вашего банка или другой доверенной организации. Но после того, как вы скачиваете и открываете вложение, вы обнаруживаете, что это файл с расширением .exe или .zip. Это может быть зловредным ПО (вирусом), которое пытается заразить ваш компьютер, чтобы получить доступ к вашей личной информации.\n",
    "\n",
    "Например, вложение может иметь название \"Important_Bank_Documents.exe\" или \"Important_Update.zip\". Если вы запустите такой файл, то ваш компьютер может быть заражен вирусом, который будет собирать ваши личные данные и отправлять их злоумышленникам.\n",
    "\n",
    "Поэтому, важно быть осторожным при открытии вложений в письмах, особенно если они приходят от незнакомых отправителей или запрашивают ввод пароля или другой личной информации. Не открывайте вложения, если вы не уверены в их подлинности, а также используйте антивирусное ПО для защиты вашего компьютера от вредоносных программ.\n",
    "\n",
    "Вредоносным файлом может оказаться любое вложение. Ярким примером является реализация хищения данных с компьютера жертвы через вложение в формате .doc в фишинговом письме, где злоумышленникам потребовалось всего лишь **15 минут** на реализацию атаки [3].\n",
    "\n",
    "## Подытоживая\n",
    "Для определения фишингового сообщения следует обращать внимание на орфографию, лишние символы в тексте, вложения, ссылки. Попробуем использовать эти данные для обучения и тестирования модели машинного обучения.\n",
    "\n",
    "## Обнаружение фишинговых сообщений\n",
    "#### Для обучения и тестирования модели будут использованы следующие датасеты:\n",
    "- Nazario (фишинговые сообщения);\n",
    "- Enron (легитимные сообщения).\n",
    "#### Признаки, на основе которых будет происходить обучение моделей:\n",
    "- длина почты отправителя;\n",
    "- количество точек в почте отправителя;\n",
    "- количество тире в почте отправителя;\n",
    "- количество специальных символов в почте отправителя;\n",
    "- количество цифр в почте отправителя;\n",
    "- количество поддоменов в почте отправителя;\n",
    "- количество ссылок;\n",
    "- количество точек в ссылках;\n",
    "- количество тире в ссылках;\n",
    "- количество специальных символов в ссылках;\n",
    "- наличие IP-адреса в ссылках;\n",
    "- количество IP-адресов в ссылках;\n",
    "- количество https ссылок;\n",
    "- количество вложений;\n",
    "- класс;\n",
    "- количество часто встречаемых слов в фишинговых сообщениях."
   ]
  },
  {
   "cell_type": "markdown",
   "id": "34c3fb70",
   "metadata": {},
   "source": [
    "## Библиотеки\n",
    "Импортируем необходимые библиотеки для предобработки данных"
   ]
  },
  {
   "cell_type": "code",
   "execution_count": 1,
   "id": "92e256ab",
   "metadata": {},
   "outputs": [],
   "source": [
    "#при необходимости установить недостающие библиотеки\n",
    "#%pip install keras\n",
    "#%pip install tensorflow"
   ]
  },
  {
   "cell_type": "code",
   "execution_count": 2,
   "id": "8d374113",
   "metadata": {},
   "outputs": [],
   "source": [
    "import re\n",
    "import os\n",
    "import nltk\n",
    "import string\n",
    "import mailbox\n",
    "import pandas as pd\n",
    "import numpy as np\n",
    "import keras\n",
    "from bs4 import BeautifulSoup\n",
    "from collections import Counter\n",
    "from nltk.corpus import stopwords\n",
    "from email.header import decode_header\n",
    "from nltk.tokenize import word_tokenize\n",
    "from sklearn import model_selection\n",
    "#модуль для разбиения датасета на обучающую и тестовую выборки\n",
    "from sklearn.model_selection import train_test_split\n",
    "#модель случайные леса\n",
    "from sklearn.ensemble import RandomForestClassifier\n",
    "#модель адабуст\n",
    "from sklearn.ensemble import AdaBoostClassifier\n",
    "#модель к-ближайших соседей\n",
    "from sklearn.neighbors import KNeighborsClassifier\n",
    "#модель бэггинга\n",
    "from sklearn.ensemble import BaggingClassifier\n",
    "#модель ExtraTrees\n",
    "from sklearn.ensemble import ExtraTreesClassifier\n",
    "#модель дерева решений\n",
    "from sklearn.tree import DecisionTreeClassifier\n",
    "#модель логистической регрессии\n",
    "from sklearn.linear_model import LogisticRegression\n",
    "#модель опорных векторов\n",
    "from sklearn.svm import SVC\n",
    "#модель наивного байеса\n",
    "from sklearn.naive_bayes import MultinomialNB\n",
    "#многослойный персептрон\n",
    "from keras.models import Sequential\n",
    "from keras.layers import Dense, Activation, Dropout\n",
    "#метрики для моделей\n",
    "from sklearn.metrics import accuracy_score, precision_score\n",
    "#модуль голосования классификаторов\n",
    "from sklearn.ensemble import VotingClassifier\n",
    "#библиотека визуализации\n",
    "import matplotlib.pyplot as plt\n",
    "#библиотека для сохранения и загрузки моделей\n",
    "import joblib"
   ]
  },
  {
   "cell_type": "markdown",
   "id": "b017f9e5",
   "metadata": {},
   "source": [
    "## Предобработка\n",
    "Предобработаем текст для дальнейшего обучения"
   ]
  },
  {
   "cell_type": "markdown",
   "id": "aa813da7",
   "metadata": {},
   "source": [
    "Получаем датасеты с легитимными и фишинговыми письмами"
   ]
  },
  {
   "cell_type": "code",
   "execution_count": 3,
   "id": "e745dee7",
   "metadata": {},
   "outputs": [],
   "source": [
    "phishing_emails = mailbox.mbox('./Datasets/nazario-phishing.mbox')\n",
    "valid_emails = mailbox.mbox('./Datasets/enron-legal.mbox')"
   ]
  },
  {
   "cell_type": "code",
   "execution_count": 4,
   "id": "c586ac9b",
   "metadata": {},
   "outputs": [],
   "source": [
    "#загрузим стоп-слова\n",
    "#nltk.download('stopwords') \n",
    "#загрузим символы пунктуации\n",
    "#nltk.download('punkt')"
   ]
  },
  {
   "cell_type": "markdown",
   "id": "d37b5734",
   "metadata": {},
   "source": [
    "Объявим класс, в котором будем парсить письма, разбивая их на части"
   ]
  },
  {
   "cell_type": "code",
   "execution_count": 5,
   "id": "dfdb4e28",
   "metadata": {},
   "outputs": [],
   "source": [
    "class EmailParser:\n",
    "    #зададим регулярные выражения для определения ссылок и адресов почты\n",
    "    urlRegex = r'https?:\\/\\/(?:www\\.)?[-a-zA-Z0-9@:%._\\+~#=]{1,256}\\.[a-zA-Z0-9()]{1,6}\\b(?:[-a-zA-Z0-9()@:%_\\+.~#?&\\/=;]*)'\n",
    "    emailRegex = r'([a-zA-Z0-9._-]+@[a-zA-Z0-9._-]+\\.[a-zA-Z0-9_-]+)'\n",
    "    \n",
    "    #конструктор класса\n",
    "    def __init__(self, email):\n",
    "        #получаем на вход письмо\n",
    "        self.email = email\n",
    "        #запускаем функцию разбиения письма на части\n",
    "        self.__extract_email_parts()\n",
    "    \n",
    "    #функция разбиения письма на части\n",
    "    def __extract_email_parts(self):\n",
    "        #количество вложений\n",
    "        no_of_attachments = 0\n",
    "        #текст сообщения\n",
    "        text = str(self.email['Subject']) + \" \"\n",
    "        #html код сообщения\n",
    "        htmlDoc = \"\"\n",
    "        #проходимся по частям письма\n",
    "        for part in self.email.walk():\n",
    "            #определяем тип содержимого\n",
    "            content_type = part.get_content_type()\n",
    "            #если сообщение представлено обычным текстом\n",
    "            if content_type == 'text/plain':\n",
    "                #записываем в текст\n",
    "                text += str(part.get_payload())\n",
    "            #если сообщение представлено html кодом\n",
    "            elif content_type == 'text/html':\n",
    "                #записываем в html\n",
    "                htmlDoc += part.get_payload()\n",
    "            #в остальных случаях\n",
    "            else:\n",
    "                #смотрим основной тип содержимого\n",
    "                main_content_type = part.get_content_maintype()\n",
    "                #если представлен изображением или приложением\n",
    "                if main_content_type in ['image','application']:\n",
    "                    #считаем как вложение\n",
    "                    no_of_attachments += 1\n",
    "        #передаем полученные значения в переменные класса\n",
    "        self.text, self.html, self.no_of_attachments = text, htmlDoc, no_of_attachments\n",
    "    \n",
    "    #ищем ссылки\n",
    "    def get_urls(self):\n",
    "        #регулярным выражением выуживаем ссылки из текст сообщения\n",
    "        text_urls = set(re.findall(EmailParser.urlRegex,self.text))\n",
    "        #и из html-кода\n",
    "        html_urls = set(re.findall(EmailParser.urlRegex,self.html))\n",
    "        #возвращаем результат в виде списка найденных ссылок\n",
    "        return list(text_urls.union(html_urls))\n",
    "    \n",
    "    #получаем текст сообщения\n",
    "    def get_email_text(self):\n",
    "        #если письмо несет в себе тип html-кода\n",
    "        if(self.html != \"\"):\n",
    "            #парсим код классом BeautifulSoup\n",
    "            soup = BeautifulSoup(self.html)\n",
    "            #выуживаем текст из кода\n",
    "            self.text += soup.text\n",
    "        #возвращаем результат собранного текста\n",
    "        return self.text\n",
    "    \n",
    "    #функция, возвращающая количество вложений\n",
    "    def get_no_of_attachments(self):\n",
    "        return self.no_of_attachments\n",
    "    \n",
    "    #получаем почту отправителя\n",
    "    def get_sender_email_address(self):\n",
    "        sender = email['From']\n",
    "        try:\n",
    "            #пытаемся регулярным выражением выудить почту отправителя\n",
    "            emails = re.findall(EmailParser.emailRegex, sender)\n",
    "        except:\n",
    "            #если регуляркой не вышло, пробуем через байтовое представление\n",
    "            h = decode_header(email['From'])\n",
    "            header_bytes = h[0][0]\n",
    "            sender = header_bytes.decode('ISO-8859-1')\n",
    "            emails = re.findall(EmailParser.emailRegex, sender)\n",
    "        #возвращаем результат\n",
    "        if(len(emails) != 0):\n",
    "            return emails[len(emails)-1]\n",
    "        else:\n",
    "            return ''"
   ]
  },
  {
   "cell_type": "markdown",
   "id": "2f224376",
   "metadata": {},
   "source": [
    "Объявим класс, в котором будем обрабатывать текст сообщения"
   ]
  },
  {
   "cell_type": "code",
   "execution_count": 6,
   "id": "fc17390f",
   "metadata": {},
   "outputs": [],
   "source": [
    "class StringUtil:\n",
    "    #объявим регулярные выражения для выуживания\n",
    "    #точек\n",
    "    dotRegex = r'\\.'\n",
    "    #цифр\n",
    "    digitsRegex = r'[0-9]'\n",
    "    #ip-адресов\n",
    "    ipAddressRegex = r'(?:[0-9]{1,3}\\.){3}[0-9]{1,3}'\n",
    "    #тире\n",
    "    dashesRegex = r'-'\n",
    "    #специальных символов\n",
    "    specialCharsRegex = r'[()@:%_\\+~#?\\=;]'\n",
    "    \n",
    "    #объявим счетчик слов\n",
    "    words = Counter()\n",
    "    #зафиксируем стоп-слова для английского языка\n",
    "    stop_words = set(stopwords.words('english'))\n",
    "    #инициализируем класс Портера Стеммера\n",
    "    stemmer = nltk.PorterStemmer()\n",
    "    \n",
    "    #объявим функцию обработки ссылок\n",
    "    def process_urls(self,urls):\n",
    "        #объявим переменные, которые будут нашими признаками\n",
    "        noOfDots, noOfDashes, noOfSpecialChars, hasIpAddressInUrl, noOfIpAddress, noOfHttpLinks = 0,0,0,0,0,0\n",
    "        #обрабатываем все ссылки\n",
    "        for url in urls:\n",
    "            #если ссылка начинается с http://\n",
    "            if url.startswith('http://'):\n",
    "                #считаем http\n",
    "                noOfHttpLinks += 1\n",
    "            #считаем количетсво точек\n",
    "            noOfDots += len(re.findall(StringUtil.dotRegex,url))\n",
    "            #считаем количество тире\n",
    "            noOfDashes += len(re.findall(StringUtil.dashesRegex,url))\n",
    "            #считаем количество специальных символов\n",
    "            noOfSpecialChars += len(re.findall(StringUtil.specialCharsRegex,url))\n",
    "            #считаем количество ip-адресов\n",
    "            noOfIpAddress += len(re.findall(StringUtil.ipAddressRegex, url))\n",
    "        #если ip-адреса были найдены\n",
    "        if noOfIpAddress > 0:\n",
    "            #фиксируем наличие ip-адресов в ссылках\n",
    "            hasIpAddressInUrl = 1\n",
    "        #возвращаем собранные признаки\n",
    "        return len(urls), noOfDots, noOfDashes, noOfSpecialChars, hasIpAddressInUrl, noOfIpAddress, noOfHttpLinks\n",
    "    \n",
    "    #объявим функцию обработки текста\n",
    "    def process_text(self, text):\n",
    "        #приведем текст в нижнему регистру\n",
    "        text = text.lower()\n",
    "        #удалим из текста символы переноса курсора\n",
    "        text = re.sub(r'[\\n\\t\\r]', ' ', text)\n",
    "        \n",
    "        #удаляем пунктуацию\n",
    "        punctuation = string.punctuation  #получаем все символы пунктуации\n",
    "        translator = str.maketrans('', '', punctuation + string.digits)  #создаем транслятор\n",
    "        text = text.translate(translator)  #удаляем пунктуацию и цифры транслятором\n",
    "\n",
    "        #выделим токены из текста\n",
    "        word_tokens = word_tokenize(text)\n",
    "        filtered_text = []\n",
    "        for w in word_tokens:\n",
    "            #исключим стоп-слова\n",
    "            if w not in StringUtil.stop_words:\n",
    "                filtered_text.append(w)\n",
    "        \n",
    "        #счетчик частоты слов\n",
    "        word_counts = Counter(filtered_text)\n",
    "        stemmed_word_count = Counter()\n",
    "        for word, count in word_counts.items():\n",
    "            #обрабатываем каждое слово алгоритмом стемминга\n",
    "            stemmed_word = StringUtil.stemmer.stem(word)\n",
    "            #считаем количество таких слов\n",
    "            stemmed_word_count[stemmed_word] += count\n",
    "        word_counts = stemmed_word_count\n",
    "        StringUtil.words += word_counts\n",
    "        return word_counts\n",
    "    \n",
    "    #объявим функцию обработки почты отправителя\n",
    "    def process_email_address(self, emailid):\n",
    "        #объявим переменные, которые будут нашими признаками\n",
    "        length, noOfDots, noOfDashes, noOfSpecialChars, noOfDigits, noOfSubdomains = 0,0,0,0,0,0\n",
    "        \n",
    "        #определяем длину почты\n",
    "        length = len(emailid)\n",
    "        #если длина почты больше 0\n",
    "        if(length > 0):\n",
    "            #фиксируем пользователя и почтовый домен\n",
    "            username, domain = emailid.split('@')\n",
    "            #считаем количество поддоменов\n",
    "            noOfSubdomains = len(re.findall(StringUtil.dotRegex,domain)) - 1\n",
    "            #считаем количество точек\n",
    "            noOfDots = len(re.findall(StringUtil.dotRegex, username))\n",
    "            #считаем количество специальных символов\n",
    "            noOfSpecialChars = len(re.findall(StringUtil.specialCharsRegex, username))\n",
    "            #считаем количество тире\n",
    "            noOfDashes = len(re.findall(StringUtil.dashesRegex, emailid))\n",
    "            #считаем количество цифр\n",
    "            noOfDigits = len(re.findall(StringUtil.digitsRegex, emailid))\n",
    "        #возвращаем полученные признаки\n",
    "        return length, noOfDots, noOfDashes, noOfSpecialChars, noOfDigits, noOfSubdomains\n",
    "    \n",
    "    #функция, возвращающая 1000 самый часто встречаемых слов\n",
    "    def get_most_common_words(self):\n",
    "        return StringUtil.words.most_common(1000)"
   ]
  },
  {
   "cell_type": "markdown",
   "id": "4901b190",
   "metadata": {},
   "source": [
    "Определим первый датафрейм из фишинговых сообщений"
   ]
  },
  {
   "cell_type": "code",
   "execution_count": 7,
   "id": "a4d56f28",
   "metadata": {},
   "outputs": [],
   "source": [
    "df1 = pd.DataFrame(columns=['text', 'lengthOfEmailId', 'noOfDotsInEmailId', 'noOfDashesInEmailId', 'noOfSpecialCharsInEmailId', 'noOfDigitsInEmailId', 'noOfSubdomainsInEmailId', 'noOfUrls', 'noOfDotsInUrls', 'noOfDashesInUrls', 'noOfSpecialCharsInUrls', 'hasIpAddressInUrls', 'noOfIpAddressInUrls', 'noOfHttpLinks','no_of_attachments','class_label'])\n",
    "stringUtil = StringUtil()\n",
    "\n",
    "for email in phishing_emails:\n",
    "    #парсим каждое фишинговое письмо\n",
    "    emailParser = EmailParser(email)\n",
    "    #определяем количество вложений\n",
    "    no_of_attachments = emailParser.get_no_of_attachments()\n",
    "    #определяем признаки почты отправителя\n",
    "    emailid_features = stringUtil.process_email_address(emailParser.get_sender_email_address())\n",
    "    #определяем признаки ссылок\n",
    "    urls_features = stringUtil.process_urls(emailParser.get_urls())\n",
    "    #выделяем слова из текста\n",
    "    word_dict = stringUtil.process_text(emailParser.get_email_text())\n",
    "    #заполняем датафрейм\n",
    "    df1.loc[len(df1)] = [word_dict, emailid_features[0], emailid_features[1], emailid_features[2], emailid_features[3], emailid_features[4], emailid_features[5], urls_features[0],urls_features[1],urls_features[2],urls_features[3],urls_features[4],urls_features[5], urls_features[6], no_of_attachments, 1]\n",
    "\n",
    "#определяем самые часто встречаемые слова из фишинговых сообщений\n",
    "malicious_words = stringUtil.get_most_common_words()"
   ]
  },
  {
   "cell_type": "code",
   "execution_count": 8,
   "id": "512093c1",
   "metadata": {},
   "outputs": [
    {
     "name": "stdout",
     "output_type": "stream",
     "text": [
      "<class 'pandas.core.frame.DataFrame'>\n",
      "Int64Index: 2279 entries, 0 to 2278\n",
      "Data columns (total 16 columns):\n",
      " #   Column                     Non-Null Count  Dtype \n",
      "---  ------                     --------------  ----- \n",
      " 0   text                       2279 non-null   object\n",
      " 1   lengthOfEmailId            2279 non-null   int64 \n",
      " 2   noOfDotsInEmailId          2279 non-null   int64 \n",
      " 3   noOfDashesInEmailId        2279 non-null   int64 \n",
      " 4   noOfSpecialCharsInEmailId  2279 non-null   int64 \n",
      " 5   noOfDigitsInEmailId        2279 non-null   int64 \n",
      " 6   noOfSubdomainsInEmailId    2279 non-null   int64 \n",
      " 7   noOfUrls                   2279 non-null   int64 \n",
      " 8   noOfDotsInUrls             2279 non-null   int64 \n",
      " 9   noOfDashesInUrls           2279 non-null   int64 \n",
      " 10  noOfSpecialCharsInUrls     2279 non-null   int64 \n",
      " 11  hasIpAddressInUrls         2279 non-null   int64 \n",
      " 12  noOfIpAddressInUrls        2279 non-null   int64 \n",
      " 13  noOfHttpLinks              2279 non-null   int64 \n",
      " 14  no_of_attachments          2279 non-null   int64 \n",
      " 15  class_label                2279 non-null   int64 \n",
      "dtypes: int64(15), object(1)\n",
      "memory usage: 302.7+ KB\n"
     ]
    }
   ],
   "source": [
    "df1.info()"
   ]
  },
  {
   "cell_type": "code",
   "execution_count": 9,
   "id": "741895bb",
   "metadata": {},
   "outputs": [
    {
     "data": {
      "text/html": [
       "<div>\n",
       "<style scoped>\n",
       "    .dataframe tbody tr th:only-of-type {\n",
       "        vertical-align: middle;\n",
       "    }\n",
       "\n",
       "    .dataframe tbody tr th {\n",
       "        vertical-align: top;\n",
       "    }\n",
       "\n",
       "    .dataframe thead th {\n",
       "        text-align: right;\n",
       "    }\n",
       "</style>\n",
       "<table border=\"1\" class=\"dataframe\">\n",
       "  <thead>\n",
       "    <tr style=\"text-align: right;\">\n",
       "      <th></th>\n",
       "      <th>text</th>\n",
       "      <th>lengthOfEmailId</th>\n",
       "      <th>noOfDotsInEmailId</th>\n",
       "      <th>noOfDashesInEmailId</th>\n",
       "      <th>noOfSpecialCharsInEmailId</th>\n",
       "      <th>noOfDigitsInEmailId</th>\n",
       "      <th>noOfSubdomainsInEmailId</th>\n",
       "      <th>noOfUrls</th>\n",
       "      <th>noOfDotsInUrls</th>\n",
       "      <th>noOfDashesInUrls</th>\n",
       "      <th>noOfSpecialCharsInUrls</th>\n",
       "      <th>hasIpAddressInUrls</th>\n",
       "      <th>noOfIpAddressInUrls</th>\n",
       "      <th>noOfHttpLinks</th>\n",
       "      <th>no_of_attachments</th>\n",
       "      <th>class_label</th>\n",
       "    </tr>\n",
       "  </thead>\n",
       "  <tbody>\n",
       "    <tr>\n",
       "      <th>0</th>\n",
       "      <td>{'import': 1, 'account': 1, 'notic': 1, 'south...</td>\n",
       "      <td>29</td>\n",
       "      <td>0</td>\n",
       "      <td>0</td>\n",
       "      <td>1</td>\n",
       "      <td>3</td>\n",
       "      <td>0</td>\n",
       "      <td>2</td>\n",
       "      <td>5</td>\n",
       "      <td>0</td>\n",
       "      <td>2</td>\n",
       "      <td>1</td>\n",
       "      <td>1</td>\n",
       "      <td>1</td>\n",
       "      <td>1</td>\n",
       "      <td>1</td>\n",
       "    </tr>\n",
       "    <tr>\n",
       "      <th>1</th>\n",
       "      <td>{'ebay': 9, 'account': 4, 'verif': 1, 'dear': ...</td>\n",
       "      <td>21</td>\n",
       "      <td>0</td>\n",
       "      <td>0</td>\n",
       "      <td>0</td>\n",
       "      <td>0</td>\n",
       "      <td>0</td>\n",
       "      <td>2</td>\n",
       "      <td>5</td>\n",
       "      <td>1</td>\n",
       "      <td>9</td>\n",
       "      <td>0</td>\n",
       "      <td>0</td>\n",
       "      <td>2</td>\n",
       "      <td>0</td>\n",
       "      <td>1</td>\n",
       "    </tr>\n",
       "    <tr>\n",
       "      <th>2</th>\n",
       "      <td>{'ebay': 2, 'account': 4, 'verif': 1, 'dear': ...</td>\n",
       "      <td>21</td>\n",
       "      <td>0</td>\n",
       "      <td>0</td>\n",
       "      <td>0</td>\n",
       "      <td>0</td>\n",
       "      <td>0</td>\n",
       "      <td>2</td>\n",
       "      <td>6</td>\n",
       "      <td>1</td>\n",
       "      <td>8</td>\n",
       "      <td>0</td>\n",
       "      <td>0</td>\n",
       "      <td>2</td>\n",
       "      <td>0</td>\n",
       "      <td>1</td>\n",
       "    </tr>\n",
       "    <tr>\n",
       "      <th>3</th>\n",
       "      <td>{'keybank': 2, 'custom': 2, 'confirm': 4, 'ide...</td>\n",
       "      <td>19</td>\n",
       "      <td>0</td>\n",
       "      <td>0</td>\n",
       "      <td>0</td>\n",
       "      <td>0</td>\n",
       "      <td>0</td>\n",
       "      <td>3</td>\n",
       "      <td>8</td>\n",
       "      <td>0</td>\n",
       "      <td>6</td>\n",
       "      <td>1</td>\n",
       "      <td>1</td>\n",
       "      <td>2</td>\n",
       "      <td>0</td>\n",
       "      <td>1</td>\n",
       "    </tr>\n",
       "    <tr>\n",
       "      <th>4</th>\n",
       "      <td>{'keybank': 2, 'custom': 2, 'confirm': 4, 'ide...</td>\n",
       "      <td>19</td>\n",
       "      <td>0</td>\n",
       "      <td>0</td>\n",
       "      <td>0</td>\n",
       "      <td>0</td>\n",
       "      <td>0</td>\n",
       "      <td>3</td>\n",
       "      <td>8</td>\n",
       "      <td>0</td>\n",
       "      <td>6</td>\n",
       "      <td>1</td>\n",
       "      <td>1</td>\n",
       "      <td>2</td>\n",
       "      <td>0</td>\n",
       "      <td>1</td>\n",
       "    </tr>\n",
       "  </tbody>\n",
       "</table>\n",
       "</div>"
      ],
      "text/plain": [
       "                                                text  lengthOfEmailId  \\\n",
       "0  {'import': 1, 'account': 1, 'notic': 1, 'south...               29   \n",
       "1  {'ebay': 9, 'account': 4, 'verif': 1, 'dear': ...               21   \n",
       "2  {'ebay': 2, 'account': 4, 'verif': 1, 'dear': ...               21   \n",
       "3  {'keybank': 2, 'custom': 2, 'confirm': 4, 'ide...               19   \n",
       "4  {'keybank': 2, 'custom': 2, 'confirm': 4, 'ide...               19   \n",
       "\n",
       "   noOfDotsInEmailId  noOfDashesInEmailId  noOfSpecialCharsInEmailId  \\\n",
       "0                  0                    0                          1   \n",
       "1                  0                    0                          0   \n",
       "2                  0                    0                          0   \n",
       "3                  0                    0                          0   \n",
       "4                  0                    0                          0   \n",
       "\n",
       "   noOfDigitsInEmailId  noOfSubdomainsInEmailId  noOfUrls  noOfDotsInUrls  \\\n",
       "0                    3                        0         2               5   \n",
       "1                    0                        0         2               5   \n",
       "2                    0                        0         2               6   \n",
       "3                    0                        0         3               8   \n",
       "4                    0                        0         3               8   \n",
       "\n",
       "   noOfDashesInUrls  noOfSpecialCharsInUrls  hasIpAddressInUrls  \\\n",
       "0                 0                       2                   1   \n",
       "1                 1                       9                   0   \n",
       "2                 1                       8                   0   \n",
       "3                 0                       6                   1   \n",
       "4                 0                       6                   1   \n",
       "\n",
       "   noOfIpAddressInUrls  noOfHttpLinks  no_of_attachments  class_label  \n",
       "0                    1              1                  1            1  \n",
       "1                    0              2                  0            1  \n",
       "2                    0              2                  0            1  \n",
       "3                    1              2                  0            1  \n",
       "4                    1              2                  0            1  "
      ]
     },
     "execution_count": 9,
     "metadata": {},
     "output_type": "execute_result"
    }
   ],
   "source": [
    "df1.head()"
   ]
  },
  {
   "cell_type": "markdown",
   "id": "8d2f2e05",
   "metadata": {},
   "source": [
    "Взглянем на содержимое датафрейма"
   ]
  },
  {
   "cell_type": "code",
   "execution_count": 10,
   "id": "ab33c216",
   "metadata": {},
   "outputs": [
    {
     "data": {
      "text/plain": [
       "Counter({'import': 1,\n",
       "         'account': 1,\n",
       "         'notic': 1,\n",
       "         'southtrust': 1,\n",
       "         'bank': 1,\n",
       "         'thu': 1,\n",
       "         'jun': 1,\n",
       "         'star': 1,\n",
       "         'battl': 1,\n",
       "         'tour': 1,\n",
       "         'de': 1,\n",
       "         'franc': 1})"
      ]
     },
     "execution_count": 10,
     "metadata": {},
     "output_type": "execute_result"
    }
   ],
   "source": [
    "df1.text[0]"
   ]
  },
  {
   "cell_type": "code",
   "execution_count": 11,
   "id": "d6f1bb85",
   "metadata": {},
   "outputs": [
    {
     "name": "stdout",
     "output_type": "stream",
     "text": [
      "<class 'pandas.core.frame.DataFrame'>\n",
      "Int64Index: 2279 entries, 0 to 2278\n",
      "Data columns (total 16 columns):\n",
      " #   Column                     Non-Null Count  Dtype \n",
      "---  ------                     --------------  ----- \n",
      " 0   text                       2279 non-null   object\n",
      " 1   lengthOfEmailId            2279 non-null   int64 \n",
      " 2   noOfDotsInEmailId          2279 non-null   int64 \n",
      " 3   noOfDashesInEmailId        2279 non-null   int64 \n",
      " 4   noOfSpecialCharsInEmailId  2279 non-null   int64 \n",
      " 5   noOfDigitsInEmailId        2279 non-null   int64 \n",
      " 6   noOfSubdomainsInEmailId    2279 non-null   int64 \n",
      " 7   noOfUrls                   2279 non-null   int64 \n",
      " 8   noOfDotsInUrls             2279 non-null   int64 \n",
      " 9   noOfDashesInUrls           2279 non-null   int64 \n",
      " 10  noOfSpecialCharsInUrls     2279 non-null   int64 \n",
      " 11  hasIpAddressInUrls         2279 non-null   int64 \n",
      " 12  noOfIpAddressInUrls        2279 non-null   int64 \n",
      " 13  noOfHttpLinks              2279 non-null   int64 \n",
      " 14  no_of_attachments          2279 non-null   int64 \n",
      " 15  class_label                2279 non-null   int64 \n",
      "dtypes: int64(15), object(1)\n",
      "memory usage: 367.2+ KB\n"
     ]
    }
   ],
   "source": [
    "df1.info()"
   ]
  },
  {
   "cell_type": "markdown",
   "id": "c7987f15",
   "metadata": {},
   "source": [
    "Определим второй датафрейм из легитимных сообщений"
   ]
  },
  {
   "cell_type": "code",
   "execution_count": 13,
   "id": "c2deacc0",
   "metadata": {},
   "outputs": [],
   "source": [
    "df2 = pd.DataFrame(columns=['text', 'lengthOfEmailId', 'noOfDotsInEmailId', 'noOfDashesInEmailId', 'noOfSpecialCharsInEmailId', 'noOfDigitsInEmailId', 'noOfSubdomainsInEmailId', 'noOfUrls', 'noOfDotsInUrls', 'noOfDashesInUrls', 'noOfSpecialCharsInUrls', 'hasIpAddressInUrls', 'noOfIpAddressInUrls', 'noOfHttpLinks', 'no_of_attachments','class_label'])\n",
    "stringUtil = StringUtil()\n",
    "\n",
    "for email in valid_emails:\n",
    "    #парсим каждое легитимное письмо\n",
    "    emailParser = EmailParser(email)\n",
    "    #определяем количество вложений\n",
    "    no_of_attachments = emailParser.get_no_of_attachments()\n",
    "    #определяем признаки почты отправителя\n",
    "    emailid_features = stringUtil.process_email_address(emailParser.get_sender_email_address())\n",
    "    #определяем признаки ссылок\n",
    "    urls_features = stringUtil.process_urls(emailParser.get_urls())\n",
    "    #выделяем количество слов стемминга\n",
    "    word_dict = stringUtil.process_text(emailParser.get_email_text())\n",
    "    #заполняем датафрейм\n",
    "    df2.loc[len(df2)] = [word_dict, emailid_features[0], emailid_features[1], emailid_features[2], emailid_features[3], emailid_features[4], emailid_features[5], urls_features[0],urls_features[1],urls_features[2],urls_features[3],urls_features[4],urls_features[5], urls_features[6], no_of_attachments, 0]"
   ]
  },
  {
   "cell_type": "markdown",
   "id": "f1f75236",
   "metadata": {},
   "source": [
    "Взглянем на содержимое датафрейма"
   ]
  },
  {
   "cell_type": "code",
   "execution_count": 14,
   "id": "de5e614f",
   "metadata": {},
   "outputs": [
    {
     "data": {
      "text/html": [
       "<div>\n",
       "<style scoped>\n",
       "    .dataframe tbody tr th:only-of-type {\n",
       "        vertical-align: middle;\n",
       "    }\n",
       "\n",
       "    .dataframe tbody tr th {\n",
       "        vertical-align: top;\n",
       "    }\n",
       "\n",
       "    .dataframe thead th {\n",
       "        text-align: right;\n",
       "    }\n",
       "</style>\n",
       "<table border=\"1\" class=\"dataframe\">\n",
       "  <thead>\n",
       "    <tr style=\"text-align: right;\">\n",
       "      <th></th>\n",
       "      <th>text</th>\n",
       "      <th>lengthOfEmailId</th>\n",
       "      <th>noOfDotsInEmailId</th>\n",
       "      <th>noOfDashesInEmailId</th>\n",
       "      <th>noOfSpecialCharsInEmailId</th>\n",
       "      <th>noOfDigitsInEmailId</th>\n",
       "      <th>noOfSubdomainsInEmailId</th>\n",
       "      <th>noOfUrls</th>\n",
       "      <th>noOfDotsInUrls</th>\n",
       "      <th>noOfDashesInUrls</th>\n",
       "      <th>noOfSpecialCharsInUrls</th>\n",
       "      <th>hasIpAddressInUrls</th>\n",
       "      <th>noOfIpAddressInUrls</th>\n",
       "      <th>noOfHttpLinks</th>\n",
       "      <th>no_of_attachments</th>\n",
       "      <th>class_label</th>\n",
       "    </tr>\n",
       "  </thead>\n",
       "  <tbody>\n",
       "    <tr>\n",
       "      <th>0</th>\n",
       "      <td>{'pay': 2, 'well': 1, 'perform': 1, 'bonus': 1...</td>\n",
       "      <td>23</td>\n",
       "      <td>1</td>\n",
       "      <td>0</td>\n",
       "      <td>0</td>\n",
       "      <td>0</td>\n",
       "      <td>0</td>\n",
       "      <td>0</td>\n",
       "      <td>0</td>\n",
       "      <td>0</td>\n",
       "      <td>0</td>\n",
       "      <td>0</td>\n",
       "      <td>0</td>\n",
       "      <td>0</td>\n",
       "      <td>0</td>\n",
       "      <td>0</td>\n",
       "    </tr>\n",
       "    <tr>\n",
       "      <th>1</th>\n",
       "      <td>{'trade': 2, 'profit': 1, 'p': 1, 'allen': 1, ...</td>\n",
       "      <td>23</td>\n",
       "      <td>1</td>\n",
       "      <td>0</td>\n",
       "      <td>0</td>\n",
       "      <td>0</td>\n",
       "      <td>0</td>\n",
       "      <td>0</td>\n",
       "      <td>0</td>\n",
       "      <td>0</td>\n",
       "      <td>0</td>\n",
       "      <td>0</td>\n",
       "      <td>0</td>\n",
       "      <td>0</td>\n",
       "      <td>0</td>\n",
       "      <td>0</td>\n",
       "    </tr>\n",
       "    <tr>\n",
       "      <th>2</th>\n",
       "      <td>{'bonu': 2, 'expect': 1, 'confidenti': 1, 'joh...</td>\n",
       "      <td>23</td>\n",
       "      <td>1</td>\n",
       "      <td>0</td>\n",
       "      <td>0</td>\n",
       "      <td>0</td>\n",
       "      <td>0</td>\n",
       "      <td>0</td>\n",
       "      <td>0</td>\n",
       "      <td>0</td>\n",
       "      <td>0</td>\n",
       "      <td>0</td>\n",
       "      <td>0</td>\n",
       "      <td>0</td>\n",
       "      <td>0</td>\n",
       "      <td>0</td>\n",
       "    </tr>\n",
       "    <tr>\n",
       "      <th>3</th>\n",
       "      <td>{'trade': 2, 'profit': 1, 'p': 1, 'allen': 1, ...</td>\n",
       "      <td>23</td>\n",
       "      <td>1</td>\n",
       "      <td>0</td>\n",
       "      <td>0</td>\n",
       "      <td>0</td>\n",
       "      <td>0</td>\n",
       "      <td>0</td>\n",
       "      <td>0</td>\n",
       "      <td>0</td>\n",
       "      <td>0</td>\n",
       "      <td>0</td>\n",
       "      <td>0</td>\n",
       "      <td>0</td>\n",
       "      <td>0</td>\n",
       "      <td>0</td>\n",
       "    </tr>\n",
       "    <tr>\n",
       "      <th>4</th>\n",
       "      <td>{'pay': 2, 'well': 1, 'perform': 1, 'bonus': 1...</td>\n",
       "      <td>23</td>\n",
       "      <td>1</td>\n",
       "      <td>0</td>\n",
       "      <td>0</td>\n",
       "      <td>0</td>\n",
       "      <td>0</td>\n",
       "      <td>0</td>\n",
       "      <td>0</td>\n",
       "      <td>0</td>\n",
       "      <td>0</td>\n",
       "      <td>0</td>\n",
       "      <td>0</td>\n",
       "      <td>0</td>\n",
       "      <td>0</td>\n",
       "      <td>0</td>\n",
       "    </tr>\n",
       "  </tbody>\n",
       "</table>\n",
       "</div>"
      ],
      "text/plain": [
       "                                                text  lengthOfEmailId  \\\n",
       "0  {'pay': 2, 'well': 1, 'perform': 1, 'bonus': 1...               23   \n",
       "1  {'trade': 2, 'profit': 1, 'p': 1, 'allen': 1, ...               23   \n",
       "2  {'bonu': 2, 'expect': 1, 'confidenti': 1, 'joh...               23   \n",
       "3  {'trade': 2, 'profit': 1, 'p': 1, 'allen': 1, ...               23   \n",
       "4  {'pay': 2, 'well': 1, 'perform': 1, 'bonus': 1...               23   \n",
       "\n",
       "   noOfDotsInEmailId  noOfDashesInEmailId  noOfSpecialCharsInEmailId  \\\n",
       "0                  1                    0                          0   \n",
       "1                  1                    0                          0   \n",
       "2                  1                    0                          0   \n",
       "3                  1                    0                          0   \n",
       "4                  1                    0                          0   \n",
       "\n",
       "   noOfDigitsInEmailId  noOfSubdomainsInEmailId  noOfUrls  noOfDotsInUrls  \\\n",
       "0                    0                        0         0               0   \n",
       "1                    0                        0         0               0   \n",
       "2                    0                        0         0               0   \n",
       "3                    0                        0         0               0   \n",
       "4                    0                        0         0               0   \n",
       "\n",
       "   noOfDashesInUrls  noOfSpecialCharsInUrls  hasIpAddressInUrls  \\\n",
       "0                 0                       0                   0   \n",
       "1                 0                       0                   0   \n",
       "2                 0                       0                   0   \n",
       "3                 0                       0                   0   \n",
       "4                 0                       0                   0   \n",
       "\n",
       "   noOfIpAddressInUrls  noOfHttpLinks  no_of_attachments  class_label  \n",
       "0                    0              0                  0            0  \n",
       "1                    0              0                  0            0  \n",
       "2                    0              0                  0            0  \n",
       "3                    0              0                  0            0  \n",
       "4                    0              0                  0            0  "
      ]
     },
     "execution_count": 14,
     "metadata": {},
     "output_type": "execute_result"
    }
   ],
   "source": [
    "df2.head()"
   ]
  },
  {
   "cell_type": "code",
   "execution_count": 15,
   "id": "1b96e2f0",
   "metadata": {},
   "outputs": [
    {
     "name": "stdout",
     "output_type": "stream",
     "text": [
      "<class 'pandas.core.frame.DataFrame'>\n",
      "Int64Index: 4279 entries, 0 to 4278\n",
      "Data columns (total 16 columns):\n",
      " #   Column                     Non-Null Count  Dtype \n",
      "---  ------                     --------------  ----- \n",
      " 0   text                       4279 non-null   object\n",
      " 1   lengthOfEmailId            4279 non-null   int64 \n",
      " 2   noOfDotsInEmailId          4279 non-null   int64 \n",
      " 3   noOfDashesInEmailId        4279 non-null   int64 \n",
      " 4   noOfSpecialCharsInEmailId  4279 non-null   int64 \n",
      " 5   noOfDigitsInEmailId        4279 non-null   int64 \n",
      " 6   noOfSubdomainsInEmailId    4279 non-null   int64 \n",
      " 7   noOfUrls                   4279 non-null   int64 \n",
      " 8   noOfDotsInUrls             4279 non-null   int64 \n",
      " 9   noOfDashesInUrls           4279 non-null   int64 \n",
      " 10  noOfSpecialCharsInUrls     4279 non-null   int64 \n",
      " 11  hasIpAddressInUrls         4279 non-null   int64 \n",
      " 12  noOfIpAddressInUrls        4279 non-null   int64 \n",
      " 13  noOfHttpLinks              4279 non-null   int64 \n",
      " 14  no_of_attachments          4279 non-null   int64 \n",
      " 15  class_label                4279 non-null   int64 \n",
      "dtypes: int64(15), object(1)\n",
      "memory usage: 568.3+ KB\n"
     ]
    }
   ],
   "source": [
    "df2.info()"
   ]
  },
  {
   "cell_type": "markdown",
   "id": "383af72f",
   "metadata": {},
   "source": [
    "Объединяем датафреймы в общий набор"
   ]
  },
  {
   "cell_type": "code",
   "execution_count": 16,
   "id": "d621b3d2",
   "metadata": {},
   "outputs": [],
   "source": [
    "df = pd.concat([df1,df2],axis=0)"
   ]
  },
  {
   "cell_type": "markdown",
   "id": "cbf1294b",
   "metadata": {},
   "source": [
    "Заменим признак \"текст\" на признак \"самые часто встречаемые слова в фишинговых сообщениях\". Также сформируем отдельный датасет в формате \"часто встречаемые слова\", \"класс\" и сохраним в отдельный файл."
   ]
  },
  {
   "cell_type": "code",
   "execution_count": 17,
   "id": "ca126fd0",
   "metadata": {},
   "outputs": [],
   "source": [
    "df['noOfMaliciousWords'] = df['text'].apply(lambda x: len(set(x.keys()).intersection(set(dict(malicious_words).keys()))))\n",
    "df = df.drop(columns=['text'])"
   ]
  },
  {
   "cell_type": "markdown",
   "id": "9d677ef3",
   "metadata": {},
   "source": [
    "Взглянем на содержимое датафрейма"
   ]
  },
  {
   "cell_type": "code",
   "execution_count": 18,
   "id": "d370c8df",
   "metadata": {},
   "outputs": [
    {
     "data": {
      "text/html": [
       "<div>\n",
       "<style scoped>\n",
       "    .dataframe tbody tr th:only-of-type {\n",
       "        vertical-align: middle;\n",
       "    }\n",
       "\n",
       "    .dataframe tbody tr th {\n",
       "        vertical-align: top;\n",
       "    }\n",
       "\n",
       "    .dataframe thead th {\n",
       "        text-align: right;\n",
       "    }\n",
       "</style>\n",
       "<table border=\"1\" class=\"dataframe\">\n",
       "  <thead>\n",
       "    <tr style=\"text-align: right;\">\n",
       "      <th></th>\n",
       "      <th>lengthOfEmailId</th>\n",
       "      <th>noOfDotsInEmailId</th>\n",
       "      <th>noOfDashesInEmailId</th>\n",
       "      <th>noOfSpecialCharsInEmailId</th>\n",
       "      <th>noOfDigitsInEmailId</th>\n",
       "      <th>noOfSubdomainsInEmailId</th>\n",
       "      <th>noOfUrls</th>\n",
       "      <th>noOfDotsInUrls</th>\n",
       "      <th>noOfDashesInUrls</th>\n",
       "      <th>noOfSpecialCharsInUrls</th>\n",
       "      <th>hasIpAddressInUrls</th>\n",
       "      <th>noOfIpAddressInUrls</th>\n",
       "      <th>noOfHttpLinks</th>\n",
       "      <th>no_of_attachments</th>\n",
       "      <th>class_label</th>\n",
       "      <th>noOfMaliciousWords</th>\n",
       "    </tr>\n",
       "  </thead>\n",
       "  <tbody>\n",
       "    <tr>\n",
       "      <th>0</th>\n",
       "      <td>29</td>\n",
       "      <td>0</td>\n",
       "      <td>0</td>\n",
       "      <td>1</td>\n",
       "      <td>3</td>\n",
       "      <td>0</td>\n",
       "      <td>2</td>\n",
       "      <td>5</td>\n",
       "      <td>0</td>\n",
       "      <td>2</td>\n",
       "      <td>1</td>\n",
       "      <td>1</td>\n",
       "      <td>1</td>\n",
       "      <td>1</td>\n",
       "      <td>1</td>\n",
       "      <td>6</td>\n",
       "    </tr>\n",
       "    <tr>\n",
       "      <th>1</th>\n",
       "      <td>21</td>\n",
       "      <td>0</td>\n",
       "      <td>0</td>\n",
       "      <td>0</td>\n",
       "      <td>0</td>\n",
       "      <td>0</td>\n",
       "      <td>2</td>\n",
       "      <td>5</td>\n",
       "      <td>1</td>\n",
       "      <td>9</td>\n",
       "      <td>0</td>\n",
       "      <td>0</td>\n",
       "      <td>2</td>\n",
       "      <td>0</td>\n",
       "      <td>1</td>\n",
       "      <td>46</td>\n",
       "    </tr>\n",
       "    <tr>\n",
       "      <th>2</th>\n",
       "      <td>21</td>\n",
       "      <td>0</td>\n",
       "      <td>0</td>\n",
       "      <td>0</td>\n",
       "      <td>0</td>\n",
       "      <td>0</td>\n",
       "      <td>2</td>\n",
       "      <td>6</td>\n",
       "      <td>1</td>\n",
       "      <td>8</td>\n",
       "      <td>0</td>\n",
       "      <td>0</td>\n",
       "      <td>2</td>\n",
       "      <td>0</td>\n",
       "      <td>1</td>\n",
       "      <td>28</td>\n",
       "    </tr>\n",
       "    <tr>\n",
       "      <th>3</th>\n",
       "      <td>19</td>\n",
       "      <td>0</td>\n",
       "      <td>0</td>\n",
       "      <td>0</td>\n",
       "      <td>0</td>\n",
       "      <td>0</td>\n",
       "      <td>3</td>\n",
       "      <td>8</td>\n",
       "      <td>0</td>\n",
       "      <td>6</td>\n",
       "      <td>1</td>\n",
       "      <td>1</td>\n",
       "      <td>2</td>\n",
       "      <td>0</td>\n",
       "      <td>1</td>\n",
       "      <td>70</td>\n",
       "    </tr>\n",
       "    <tr>\n",
       "      <th>4</th>\n",
       "      <td>19</td>\n",
       "      <td>0</td>\n",
       "      <td>0</td>\n",
       "      <td>0</td>\n",
       "      <td>0</td>\n",
       "      <td>0</td>\n",
       "      <td>3</td>\n",
       "      <td>8</td>\n",
       "      <td>0</td>\n",
       "      <td>6</td>\n",
       "      <td>1</td>\n",
       "      <td>1</td>\n",
       "      <td>2</td>\n",
       "      <td>0</td>\n",
       "      <td>1</td>\n",
       "      <td>70</td>\n",
       "    </tr>\n",
       "  </tbody>\n",
       "</table>\n",
       "</div>"
      ],
      "text/plain": [
       "   lengthOfEmailId  noOfDotsInEmailId  noOfDashesInEmailId  \\\n",
       "0               29                  0                    0   \n",
       "1               21                  0                    0   \n",
       "2               21                  0                    0   \n",
       "3               19                  0                    0   \n",
       "4               19                  0                    0   \n",
       "\n",
       "   noOfSpecialCharsInEmailId  noOfDigitsInEmailId  noOfSubdomainsInEmailId  \\\n",
       "0                          1                    3                        0   \n",
       "1                          0                    0                        0   \n",
       "2                          0                    0                        0   \n",
       "3                          0                    0                        0   \n",
       "4                          0                    0                        0   \n",
       "\n",
       "   noOfUrls  noOfDotsInUrls  noOfDashesInUrls  noOfSpecialCharsInUrls  \\\n",
       "0         2               5                 0                       2   \n",
       "1         2               5                 1                       9   \n",
       "2         2               6                 1                       8   \n",
       "3         3               8                 0                       6   \n",
       "4         3               8                 0                       6   \n",
       "\n",
       "   hasIpAddressInUrls  noOfIpAddressInUrls  noOfHttpLinks  no_of_attachments  \\\n",
       "0                   1                    1              1                  1   \n",
       "1                   0                    0              2                  0   \n",
       "2                   0                    0              2                  0   \n",
       "3                   1                    1              2                  0   \n",
       "4                   1                    1              2                  0   \n",
       "\n",
       "   class_label  noOfMaliciousWords  \n",
       "0            1                   6  \n",
       "1            1                  46  \n",
       "2            1                  28  \n",
       "3            1                  70  \n",
       "4            1                  70  "
      ]
     },
     "execution_count": 18,
     "metadata": {},
     "output_type": "execute_result"
    }
   ],
   "source": [
    "df.head()"
   ]
  },
  {
   "cell_type": "code",
   "execution_count": 19,
   "id": "27f5ac46",
   "metadata": {},
   "outputs": [
    {
     "data": {
      "text/plain": [
       "array([  6,  46,  28,  70,  64,  54,  77,  91,   5,  53, 106, 100,   1,\n",
       "       110, 104,  84,  59,  48,   3,  57,  25,   7,  80,  18,  38,  45,\n",
       "       105,  75,  23,   4,  96,  20,  68,  83, 109, 103,  82,  55, 117,\n",
       "        95,  61,  73, 138,  22,  87, 107,  74,  93, 102,  29, 112,  51,\n",
       "        85,  94,  79,  90,  89,   2,  67,  24,  76,  41,  49,  44,  60,\n",
       "        86,  32,  12,  10,  19,  27,  50, 101, 119,   9,   0,  72,  33,\n",
       "        58,  97,  71,  88,  69,  56, 120,  40,  92,  65,  47,  62, 135,\n",
       "        42,  37, 121,   8, 250,  63, 108,  81,  13,  36,  39,  34,  21,\n",
       "        26,  31,  30,  35,  15,  17,  14,  52,  16,  43, 130, 118,  78,\n",
       "        66, 124, 123,  99, 111, 127, 125, 128, 253, 132, 114, 134, 113,\n",
       "       116, 122,  98, 126, 115, 131, 153, 137, 129, 158,  11, 177, 187,\n",
       "       154, 156, 172, 139, 191, 161, 164, 150, 168, 151, 141, 160, 173,\n",
       "       221, 143, 192, 225, 167, 190, 213, 152, 226, 145, 146, 165, 178,\n",
       "       166, 170, 195, 149, 231, 251, 260, 245, 197, 148, 142, 140, 202,\n",
       "       188, 193, 182, 223, 179, 147, 159, 232, 136, 557, 214, 227, 248,\n",
       "       176, 175], dtype=int64)"
      ]
     },
     "execution_count": 19,
     "metadata": {},
     "output_type": "execute_result"
    }
   ],
   "source": [
    "df.noOfMaliciousWords.unique()"
   ]
  },
  {
   "cell_type": "markdown",
   "id": "d75b6ca2",
   "metadata": {},
   "source": [
    "Посмотрим на статистику датафрейма"
   ]
  },
  {
   "cell_type": "code",
   "execution_count": 20,
   "id": "9f31f951",
   "metadata": {},
   "outputs": [
    {
     "name": "stdout",
     "output_type": "stream",
     "text": [
      "<class 'pandas.core.frame.DataFrame'>\n",
      "Int64Index: 6558 entries, 0 to 4278\n",
      "Data columns (total 16 columns):\n",
      " #   Column                     Non-Null Count  Dtype\n",
      "---  ------                     --------------  -----\n",
      " 0   lengthOfEmailId            6558 non-null   int64\n",
      " 1   noOfDotsInEmailId          6558 non-null   int64\n",
      " 2   noOfDashesInEmailId        6558 non-null   int64\n",
      " 3   noOfSpecialCharsInEmailId  6558 non-null   int64\n",
      " 4   noOfDigitsInEmailId        6558 non-null   int64\n",
      " 5   noOfSubdomainsInEmailId    6558 non-null   int64\n",
      " 6   noOfUrls                   6558 non-null   int64\n",
      " 7   noOfDotsInUrls             6558 non-null   int64\n",
      " 8   noOfDashesInUrls           6558 non-null   int64\n",
      " 9   noOfSpecialCharsInUrls     6558 non-null   int64\n",
      " 10  hasIpAddressInUrls         6558 non-null   int64\n",
      " 11  noOfIpAddressInUrls        6558 non-null   int64\n",
      " 12  noOfHttpLinks              6558 non-null   int64\n",
      " 13  no_of_attachments          6558 non-null   int64\n",
      " 14  class_label                6558 non-null   int64\n",
      " 15  noOfMaliciousWords         6558 non-null   int64\n",
      "dtypes: int64(16)\n",
      "memory usage: 871.0 KB\n"
     ]
    }
   ],
   "source": [
    "df.info()"
   ]
  },
  {
   "cell_type": "markdown",
   "id": "eb02872b",
   "metadata": {},
   "source": [
    "Ради оптимизации приведем значения датафрейма к типу данных int16"
   ]
  },
  {
   "cell_type": "code",
   "execution_count": 21,
   "id": "a88d19bb",
   "metadata": {},
   "outputs": [],
   "source": [
    "df = df.astype('int16')"
   ]
  },
  {
   "cell_type": "markdown",
   "id": "7a6683c3",
   "metadata": {},
   "source": [
    "Посмотрим статистику"
   ]
  },
  {
   "cell_type": "code",
   "execution_count": 22,
   "id": "3b03587f",
   "metadata": {},
   "outputs": [
    {
     "name": "stdout",
     "output_type": "stream",
     "text": [
      "<class 'pandas.core.frame.DataFrame'>\n",
      "Int64Index: 6558 entries, 0 to 4278\n",
      "Data columns (total 16 columns):\n",
      " #   Column                     Non-Null Count  Dtype\n",
      "---  ------                     --------------  -----\n",
      " 0   lengthOfEmailId            6558 non-null   int16\n",
      " 1   noOfDotsInEmailId          6558 non-null   int16\n",
      " 2   noOfDashesInEmailId        6558 non-null   int16\n",
      " 3   noOfSpecialCharsInEmailId  6558 non-null   int16\n",
      " 4   noOfDigitsInEmailId        6558 non-null   int16\n",
      " 5   noOfSubdomainsInEmailId    6558 non-null   int16\n",
      " 6   noOfUrls                   6558 non-null   int16\n",
      " 7   noOfDotsInUrls             6558 non-null   int16\n",
      " 8   noOfDashesInUrls           6558 non-null   int16\n",
      " 9   noOfSpecialCharsInUrls     6558 non-null   int16\n",
      " 10  hasIpAddressInUrls         6558 non-null   int16\n",
      " 11  noOfIpAddressInUrls        6558 non-null   int16\n",
      " 12  noOfHttpLinks              6558 non-null   int16\n",
      " 13  no_of_attachments          6558 non-null   int16\n",
      " 14  class_label                6558 non-null   int16\n",
      " 15  noOfMaliciousWords         6558 non-null   int16\n",
      "dtypes: int16(16)\n",
      "memory usage: 256.2 KB\n"
     ]
    }
   ],
   "source": [
    "df.info()"
   ]
  },
  {
   "cell_type": "markdown",
   "id": "536a5fed",
   "metadata": {},
   "source": [
    "Сохраним датафрейм, чтобы больше не тратить время на предобработку данных"
   ]
  },
  {
   "cell_type": "code",
   "execution_count": 23,
   "id": "4010d6e3",
   "metadata": {},
   "outputs": [],
   "source": [
    "df.to_csv(\"./Data/data.csv\", sep=',')"
   ]
  },
  {
   "cell_type": "markdown",
   "id": "98251800",
   "metadata": {},
   "source": [
    "## Обучение"
   ]
  },
  {
   "cell_type": "markdown",
   "id": "a7830299",
   "metadata": {},
   "source": [
    "✔️Можем теперь начинать компиляцию отсюда (Необходимо лишь импортировать библиотеки в начале проекта)"
   ]
  },
  {
   "cell_type": "markdown",
   "id": "379e36b1",
   "metadata": {},
   "source": [
    "Загружаем обработанный датафрейм"
   ]
  },
  {
   "cell_type": "code",
   "execution_count": 24,
   "id": "1c44b123",
   "metadata": {
    "scrolled": true
   },
   "outputs": [
    {
     "data": {
      "text/html": [
       "<div>\n",
       "<style scoped>\n",
       "    .dataframe tbody tr th:only-of-type {\n",
       "        vertical-align: middle;\n",
       "    }\n",
       "\n",
       "    .dataframe tbody tr th {\n",
       "        vertical-align: top;\n",
       "    }\n",
       "\n",
       "    .dataframe thead th {\n",
       "        text-align: right;\n",
       "    }\n",
       "</style>\n",
       "<table border=\"1\" class=\"dataframe\">\n",
       "  <thead>\n",
       "    <tr style=\"text-align: right;\">\n",
       "      <th></th>\n",
       "      <th>lengthOfEmailId</th>\n",
       "      <th>noOfDotsInEmailId</th>\n",
       "      <th>noOfDashesInEmailId</th>\n",
       "      <th>noOfSpecialCharsInEmailId</th>\n",
       "      <th>noOfDigitsInEmailId</th>\n",
       "      <th>noOfSubdomainsInEmailId</th>\n",
       "      <th>noOfUrls</th>\n",
       "      <th>noOfDotsInUrls</th>\n",
       "      <th>noOfDashesInUrls</th>\n",
       "      <th>noOfSpecialCharsInUrls</th>\n",
       "      <th>hasIpAddressInUrls</th>\n",
       "      <th>noOfIpAddressInUrls</th>\n",
       "      <th>noOfHttpLinks</th>\n",
       "      <th>no_of_attachments</th>\n",
       "      <th>class_label</th>\n",
       "      <th>noOfMaliciousWords</th>\n",
       "    </tr>\n",
       "  </thead>\n",
       "  <tbody>\n",
       "    <tr>\n",
       "      <th>0</th>\n",
       "      <td>29</td>\n",
       "      <td>0</td>\n",
       "      <td>0</td>\n",
       "      <td>1</td>\n",
       "      <td>3</td>\n",
       "      <td>0</td>\n",
       "      <td>2</td>\n",
       "      <td>5</td>\n",
       "      <td>0</td>\n",
       "      <td>2</td>\n",
       "      <td>1</td>\n",
       "      <td>1</td>\n",
       "      <td>1</td>\n",
       "      <td>1</td>\n",
       "      <td>1</td>\n",
       "      <td>6</td>\n",
       "    </tr>\n",
       "    <tr>\n",
       "      <th>1</th>\n",
       "      <td>21</td>\n",
       "      <td>0</td>\n",
       "      <td>0</td>\n",
       "      <td>0</td>\n",
       "      <td>0</td>\n",
       "      <td>0</td>\n",
       "      <td>2</td>\n",
       "      <td>5</td>\n",
       "      <td>1</td>\n",
       "      <td>9</td>\n",
       "      <td>0</td>\n",
       "      <td>0</td>\n",
       "      <td>2</td>\n",
       "      <td>0</td>\n",
       "      <td>1</td>\n",
       "      <td>46</td>\n",
       "    </tr>\n",
       "    <tr>\n",
       "      <th>2</th>\n",
       "      <td>21</td>\n",
       "      <td>0</td>\n",
       "      <td>0</td>\n",
       "      <td>0</td>\n",
       "      <td>0</td>\n",
       "      <td>0</td>\n",
       "      <td>2</td>\n",
       "      <td>6</td>\n",
       "      <td>1</td>\n",
       "      <td>8</td>\n",
       "      <td>0</td>\n",
       "      <td>0</td>\n",
       "      <td>2</td>\n",
       "      <td>0</td>\n",
       "      <td>1</td>\n",
       "      <td>28</td>\n",
       "    </tr>\n",
       "    <tr>\n",
       "      <th>3</th>\n",
       "      <td>19</td>\n",
       "      <td>0</td>\n",
       "      <td>0</td>\n",
       "      <td>0</td>\n",
       "      <td>0</td>\n",
       "      <td>0</td>\n",
       "      <td>3</td>\n",
       "      <td>8</td>\n",
       "      <td>0</td>\n",
       "      <td>6</td>\n",
       "      <td>1</td>\n",
       "      <td>1</td>\n",
       "      <td>2</td>\n",
       "      <td>0</td>\n",
       "      <td>1</td>\n",
       "      <td>70</td>\n",
       "    </tr>\n",
       "    <tr>\n",
       "      <th>4</th>\n",
       "      <td>19</td>\n",
       "      <td>0</td>\n",
       "      <td>0</td>\n",
       "      <td>0</td>\n",
       "      <td>0</td>\n",
       "      <td>0</td>\n",
       "      <td>3</td>\n",
       "      <td>8</td>\n",
       "      <td>0</td>\n",
       "      <td>6</td>\n",
       "      <td>1</td>\n",
       "      <td>1</td>\n",
       "      <td>2</td>\n",
       "      <td>0</td>\n",
       "      <td>1</td>\n",
       "      <td>70</td>\n",
       "    </tr>\n",
       "  </tbody>\n",
       "</table>\n",
       "</div>"
      ],
      "text/plain": [
       "   lengthOfEmailId  noOfDotsInEmailId  noOfDashesInEmailId  \\\n",
       "0               29                  0                    0   \n",
       "1               21                  0                    0   \n",
       "2               21                  0                    0   \n",
       "3               19                  0                    0   \n",
       "4               19                  0                    0   \n",
       "\n",
       "   noOfSpecialCharsInEmailId  noOfDigitsInEmailId  noOfSubdomainsInEmailId  \\\n",
       "0                          1                    3                        0   \n",
       "1                          0                    0                        0   \n",
       "2                          0                    0                        0   \n",
       "3                          0                    0                        0   \n",
       "4                          0                    0                        0   \n",
       "\n",
       "   noOfUrls  noOfDotsInUrls  noOfDashesInUrls  noOfSpecialCharsInUrls  \\\n",
       "0         2               5                 0                       2   \n",
       "1         2               5                 1                       9   \n",
       "2         2               6                 1                       8   \n",
       "3         3               8                 0                       6   \n",
       "4         3               8                 0                       6   \n",
       "\n",
       "   hasIpAddressInUrls  noOfIpAddressInUrls  noOfHttpLinks  no_of_attachments  \\\n",
       "0                   1                    1              1                  1   \n",
       "1                   0                    0              2                  0   \n",
       "2                   0                    0              2                  0   \n",
       "3                   1                    1              2                  0   \n",
       "4                   1                    1              2                  0   \n",
       "\n",
       "   class_label  noOfMaliciousWords  \n",
       "0            1                   6  \n",
       "1            1                  46  \n",
       "2            1                  28  \n",
       "3            1                  70  \n",
       "4            1                  70  "
      ]
     },
     "execution_count": 24,
     "metadata": {},
     "output_type": "execute_result"
    }
   ],
   "source": [
    "df = pd.read_csv(\"./Data/data.csv\").drop('Unnamed: 0', axis=1)\n",
    "df.head()"
   ]
  },
  {
   "cell_type": "markdown",
   "id": "4a1d66fe",
   "metadata": {},
   "source": [
    "Разобьем датафрейм на обучающую и тестовую выборки"
   ]
  },
  {
   "cell_type": "code",
   "execution_count": 123,
   "id": "629fb10e",
   "metadata": {},
   "outputs": [],
   "source": [
    "x = df.drop(columns=[\"class_label\"]).values\n",
    "y = df[\"class_label\"].values\n",
    "\n",
    "x_train, x_test, y_train, y_test = train_test_split(x, y, random_state=34, test_size=0.1)"
   ]
  },
  {
   "cell_type": "markdown",
   "id": "0512ee63",
   "metadata": {},
   "source": [
    "#### Обучим набор классификаторов"
   ]
  },
  {
   "cell_type": "markdown",
   "id": "178f2a74",
   "metadata": {},
   "source": [
    "Инициализируем модели"
   ]
  },
  {
   "cell_type": "code",
   "execution_count": 157,
   "id": "260af6c4",
   "metadata": {},
   "outputs": [],
   "source": [
    "svc = SVC(kernel='linear')\n",
    "knc = KNeighborsClassifier(n_neighbors=15)\n",
    "mnb = MultinomialNB(alpha=0.5)\n",
    "dtc = DecisionTreeClassifier(min_samples_split=7, random_state=111)\n",
    "lrc = LogisticRegression(solver='liblinear', penalty='l1')\n",
    "rfc = RandomForestClassifier(n_estimators=31, random_state=111)\n",
    "abc = AdaBoostClassifier(n_estimators=62, random_state=111)\n",
    "bc = BaggingClassifier(n_estimators=9, random_state=111)\n",
    "etc = ExtraTreesClassifier(n_estimators=9, random_state=111)"
   ]
  },
  {
   "cell_type": "markdown",
   "id": "f22a24da",
   "metadata": {},
   "source": [
    "Зафиксируем их в виде словаря"
   ]
  },
  {
   "cell_type": "code",
   "execution_count": 106,
   "id": "b104ffad",
   "metadata": {},
   "outputs": [],
   "source": [
    "clfs = {'SVC' : svc,'KN' : knc, 'NB': mnb, 'DT': dtc, 'LR': lrc, 'RF': rfc, 'AdaBoost': abc, 'BgC': bc, 'ETC': etc}"
   ]
  },
  {
   "cell_type": "markdown",
   "id": "aa4faf3e",
   "metadata": {},
   "source": [
    "Объявим функции обучения и классификации"
   ]
  },
  {
   "cell_type": "code",
   "execution_count": 107,
   "id": "912fc3f0",
   "metadata": {},
   "outputs": [],
   "source": [
    "#объявим функцию обучения классификаторов\n",
    "def train_classifier(clf, x_train, y_train):    \n",
    "    clf.fit(x_train, y_train)"
   ]
  },
  {
   "cell_type": "code",
   "execution_count": 108,
   "id": "82de5b03",
   "metadata": {},
   "outputs": [],
   "source": [
    "#объявим функцию классификации\n",
    "def predict_labels(clf, x):\n",
    "    return (clf.predict(x))"
   ]
  },
  {
   "cell_type": "markdown",
   "id": "a01ab1a4",
   "metadata": {},
   "source": [
    "Обучим и оценим классификаторы"
   ]
  },
  {
   "cell_type": "code",
   "execution_count": 158,
   "id": "91fe438e",
   "metadata": {},
   "outputs": [],
   "source": [
    "pred_dict={}\n",
    "#пробежимся по классификаторам\n",
    "for k,v in clfs.items():\n",
    "    #обучаем классификатор\n",
    "    train_classifier(v, x_train, y_train)\n",
    "    #сохраняем обученную модель\n",
    "    joblib.dump(v, './Models/' + k + '.pkl')\n",
    "    #классифицируем тестовые выборки\n",
    "    pred = predict_labels(v,x_test)\n",
    "    #записываем точность классификатора\n",
    "    pred_dict[k]=[accuracy_score(y_test,pred)]"
   ]
  },
  {
   "cell_type": "markdown",
   "id": "0402c154",
   "metadata": {},
   "source": [
    "✔️Можем теперь пропустить этап обучения набора классификаторов и загрузить их из файла"
   ]
  },
  {
   "cell_type": "code",
   "execution_count": 154,
   "id": "e32936eb",
   "metadata": {},
   "outputs": [],
   "source": [
    "clfs={}\n",
    "classifiers = ['SVC','KN', 'NB', 'DT', 'LR', 'RF', 'AdaBoost', 'BgC', 'ETC']\n",
    "pred_dict={}\n",
    "#пробежимся по классификаторам\n",
    "for k in classifiers:\n",
    "    #загрузим из файла обученную модель\n",
    "    clfs[k]=joblib.load('./Models/' + k + '.pkl')\n",
    "    #классифицируем тестовые выборки\n",
    "    pred = clfs[k].predict(x_test)\n",
    "    #записываем точность классификатора\n",
    "    pred_dict[k]=[accuracy_score(y_test,pred)]"
   ]
  },
  {
   "cell_type": "markdown",
   "id": "a6457bb6",
   "metadata": {},
   "source": [
    "Сформируем результирующую таблицу"
   ]
  },
  {
   "cell_type": "code",
   "execution_count": 159,
   "id": "7804a6d4",
   "metadata": {},
   "outputs": [
    {
     "data": {
      "text/html": [
       "<div>\n",
       "<style scoped>\n",
       "    .dataframe tbody tr th:only-of-type {\n",
       "        vertical-align: middle;\n",
       "    }\n",
       "\n",
       "    .dataframe tbody tr th {\n",
       "        vertical-align: top;\n",
       "    }\n",
       "\n",
       "    .dataframe thead th {\n",
       "        text-align: right;\n",
       "    }\n",
       "</style>\n",
       "<table border=\"1\" class=\"dataframe\">\n",
       "  <thead>\n",
       "    <tr style=\"text-align: right;\">\n",
       "      <th></th>\n",
       "      <th>Score</th>\n",
       "    </tr>\n",
       "  </thead>\n",
       "  <tbody>\n",
       "    <tr>\n",
       "      <th>SVC</th>\n",
       "      <td>0.940549</td>\n",
       "    </tr>\n",
       "    <tr>\n",
       "      <th>KN</th>\n",
       "      <td>0.943598</td>\n",
       "    </tr>\n",
       "    <tr>\n",
       "      <th>NB</th>\n",
       "      <td>0.917683</td>\n",
       "    </tr>\n",
       "    <tr>\n",
       "      <th>DT</th>\n",
       "      <td>0.961890</td>\n",
       "    </tr>\n",
       "    <tr>\n",
       "      <th>LR</th>\n",
       "      <td>0.946646</td>\n",
       "    </tr>\n",
       "    <tr>\n",
       "      <th>RF</th>\n",
       "      <td>0.974085</td>\n",
       "    </tr>\n",
       "    <tr>\n",
       "      <th>AdaBoost</th>\n",
       "      <td>0.966463</td>\n",
       "    </tr>\n",
       "    <tr>\n",
       "      <th>BgC</th>\n",
       "      <td>0.969512</td>\n",
       "    </tr>\n",
       "    <tr>\n",
       "      <th>ETC</th>\n",
       "      <td>0.977134</td>\n",
       "    </tr>\n",
       "  </tbody>\n",
       "</table>\n",
       "</div>"
      ],
      "text/plain": [
       "             Score\n",
       "SVC       0.940549\n",
       "KN        0.943598\n",
       "NB        0.917683\n",
       "DT        0.961890\n",
       "LR        0.946646\n",
       "RF        0.974085\n",
       "AdaBoost  0.966463\n",
       "BgC       0.969512\n",
       "ETC       0.977134"
      ]
     },
     "execution_count": 159,
     "metadata": {},
     "output_type": "execute_result"
    }
   ],
   "source": [
    "#объявляем датафрейм на основе собранной статистики по классификаторам\n",
    "res = pd.DataFrame.from_dict(pred_dict,orient='index', columns=['Score'])\n",
    "res"
   ]
  },
  {
   "cell_type": "markdown",
   "id": "9205facf",
   "metadata": {},
   "source": [
    "Визуализируем результаты"
   ]
  },
  {
   "cell_type": "code",
   "execution_count": 161,
   "id": "20263c3b",
   "metadata": {},
   "outputs": [
    {
     "data": {
      "text/plain": [
       "<matplotlib.legend.Legend at 0x1996d781420>"
      ]
     },
     "execution_count": 161,
     "metadata": {},
     "output_type": "execute_result"
    },
    {
     "data": {
      "image/png": "[encoded data removed]",
      "text/plain": [
       "<Figure size 1100x600 with 1 Axes>"
      ]
     },
     "metadata": {},
     "output_type": "display_data"
    }
   ],
   "source": [
    "res.plot(kind='bar', ylim=(0.91,0.98), figsize=(11,6), align='center', colormap=\"Accent\")\n",
    "plt.xticks(np.arange(9), res.index)\n",
    "plt.ylabel('Accuracy Score')\n",
    "plt.title('Distribution by Classifier')\n",
    "plt.legend(bbox_to_anchor=(1.05, 1), loc=2, borderaxespad=0.)"
   ]
  },
  {
   "cell_type": "markdown",
   "id": "fbfb4b34",
   "metadata": {},
   "source": [
    "#### Обучим персептрон"
   ]
  },
  {
   "cell_type": "code",
   "execution_count": 145,
   "id": "08a7f303",
   "metadata": {},
   "outputs": [
    {
     "name": "stdout",
     "output_type": "stream",
     "text": [
      "Model: \"sequential_14\"\n",
      "_________________________________________________________________\n",
      " Layer (type)                Output Shape              Param #   \n",
      "=================================================================\n",
      " dense_28 (Dense)            (None, 512)               8192      \n",
      "                                                                 \n",
      " activation_28 (Activation)  (None, 512)               0         \n",
      "                                                                 \n",
      " dropout_14 (Dropout)        (None, 512)               0         \n",
      "                                                                 \n",
      " dense_29 (Dense)            (None, 2)                 1026      \n",
      "                                                                 \n",
      " activation_29 (Activation)  (None, 2)                 0         \n",
      "                                                                 \n",
      "=================================================================\n",
      "Total params: 9,218\n",
      "Trainable params: 9,218\n",
      "Non-trainable params: 0\n",
      "_________________________________________________________________\n",
      "None\n"
     ]
    }
   ],
   "source": [
    "#настроим персептрон\n",
    "mlp_model = Sequential()\n",
    "mlp_model.add(Dense(512, input_shape=(x_train.shape[1],)))\n",
    "mlp_model.add(Activation('relu'))\n",
    "mlp_model.add(Dropout(0.2))\n",
    "mlp_model.add(Dense(2))\n",
    "mlp_model.add(Activation('softmax'))\n",
    "\n",
    "mlp_model.compile(loss='sparse_categorical_crossentropy',\n",
    "              optimizer='adam',\n",
    "              metrics=['acc'])\n",
    "\n",
    "print(mlp_model.summary())"
   ]
  },
  {
   "cell_type": "code",
   "execution_count": 146,
   "id": "5656a1c4",
   "metadata": {
    "scrolled": true
   },
   "outputs": [
    {
     "name": "stdout",
     "output_type": "stream",
     "text": [
      "Epoch 1/50\n",
      "185/185 [==============================] - 1s 1ms/step - loss: 0.4238 - acc: 0.8926 - val_loss: 0.2438 - val_acc: 0.9146\n",
      "Epoch 2/50\n",
      "185/185 [==============================] - 0s 930us/step - loss: 0.2575 - acc: 0.9371 - val_loss: 0.1777 - val_acc: 0.9390\n",
      "Epoch 3/50\n",
      "185/185 [==============================] - 0s 941us/step - loss: 0.2040 - acc: 0.9395 - val_loss: 0.1613 - val_acc: 0.9360\n",
      "Epoch 4/50\n",
      "185/185 [==============================] - 0s 903us/step - loss: 0.1683 - acc: 0.9454 - val_loss: 0.1655 - val_acc: 0.9497\n",
      "Epoch 5/50\n",
      "185/185 [==============================] - 0s 914us/step - loss: 0.1500 - acc: 0.9549 - val_loss: 0.1144 - val_acc: 0.9558\n",
      "Epoch 6/50\n",
      "185/185 [==============================] - 0s 903us/step - loss: 0.1424 - acc: 0.9507 - val_loss: 0.1510 - val_acc: 0.9390\n",
      "Epoch 7/50\n",
      "185/185 [==============================] - 0s 947us/step - loss: 0.1309 - acc: 0.9539 - val_loss: 0.1061 - val_acc: 0.9634\n",
      "Epoch 8/50\n",
      "185/185 [==============================] - 0s 914us/step - loss: 0.1163 - acc: 0.9607 - val_loss: 0.1354 - val_acc: 0.9527\n",
      "Epoch 9/50\n",
      "185/185 [==============================] - 0s 908us/step - loss: 0.1119 - acc: 0.9602 - val_loss: 0.1071 - val_acc: 0.9573\n",
      "Epoch 10/50\n",
      "185/185 [==============================] - 0s 919us/step - loss: 0.1132 - acc: 0.9595 - val_loss: 0.1186 - val_acc: 0.9558\n",
      "Epoch 11/50\n",
      "185/185 [==============================] - 0s 908us/step - loss: 0.1089 - acc: 0.9602 - val_loss: 0.0915 - val_acc: 0.9558\n",
      "Epoch 12/50\n",
      "185/185 [==============================] - 0s 914us/step - loss: 0.1048 - acc: 0.9604 - val_loss: 0.0892 - val_acc: 0.9680\n",
      "Epoch 13/50\n",
      "185/185 [==============================] - 0s 919us/step - loss: 0.1116 - acc: 0.9600 - val_loss: 0.0863 - val_acc: 0.9665\n",
      "Epoch 14/50\n",
      "185/185 [==============================] - 0s 914us/step - loss: 0.1000 - acc: 0.9641 - val_loss: 0.0951 - val_acc: 0.9604\n",
      "Epoch 15/50\n",
      "185/185 [==============================] - 0s 919us/step - loss: 0.0996 - acc: 0.9634 - val_loss: 0.0835 - val_acc: 0.9710\n",
      "Epoch 16/50\n",
      "185/185 [==============================] - 0s 957us/step - loss: 0.0952 - acc: 0.9673 - val_loss: 0.0894 - val_acc: 0.9695\n",
      "Epoch 17/50\n",
      "185/185 [==============================] - 0s 914us/step - loss: 0.0995 - acc: 0.9639 - val_loss: 0.1113 - val_acc: 0.9604\n",
      "Epoch 18/50\n",
      "185/185 [==============================] - 0s 898us/step - loss: 0.1111 - acc: 0.9622 - val_loss: 0.0954 - val_acc: 0.9558\n",
      "Epoch 19/50\n",
      "185/185 [==============================] - 0s 898us/step - loss: 0.0919 - acc: 0.9666 - val_loss: 0.0884 - val_acc: 0.9710\n",
      "Epoch 20/50\n",
      "185/185 [==============================] - 0s 941us/step - loss: 0.0973 - acc: 0.9656 - val_loss: 0.0989 - val_acc: 0.9543\n",
      "Epoch 21/50\n",
      "185/185 [==============================] - 0s 903us/step - loss: 0.0952 - acc: 0.9649 - val_loss: 0.0867 - val_acc: 0.9665\n",
      "Epoch 22/50\n",
      "185/185 [==============================] - 0s 952us/step - loss: 0.0953 - acc: 0.9646 - val_loss: 0.0971 - val_acc: 0.9710\n",
      "Epoch 23/50\n",
      "185/185 [==============================] - 0s 1ms/step - loss: 0.0925 - acc: 0.9651 - val_loss: 0.0905 - val_acc: 0.9604\n",
      "Epoch 24/50\n",
      "185/185 [==============================] - 0s 947us/step - loss: 0.0879 - acc: 0.9665 - val_loss: 0.0904 - val_acc: 0.9649\n",
      "Epoch 25/50\n",
      "185/185 [==============================] - 0s 919us/step - loss: 0.0872 - acc: 0.9697 - val_loss: 0.0873 - val_acc: 0.9726\n",
      "Epoch 26/50\n",
      "185/185 [==============================] - 0s 914us/step - loss: 0.0812 - acc: 0.9715 - val_loss: 0.0787 - val_acc: 0.9741\n",
      "Epoch 27/50\n",
      "185/185 [==============================] - 0s 914us/step - loss: 0.0848 - acc: 0.9680 - val_loss: 0.0855 - val_acc: 0.9695\n",
      "Epoch 28/50\n",
      "185/185 [==============================] - 0s 925us/step - loss: 0.0853 - acc: 0.9675 - val_loss: 0.1031 - val_acc: 0.9573\n",
      "Epoch 29/50\n",
      "185/185 [==============================] - 0s 914us/step - loss: 0.0855 - acc: 0.9680 - val_loss: 0.0802 - val_acc: 0.9726\n",
      "Epoch 30/50\n",
      "185/185 [==============================] - 0s 922us/step - loss: 0.0836 - acc: 0.9693 - val_loss: 0.0874 - val_acc: 0.9741\n",
      "Epoch 31/50\n",
      "185/185 [==============================] - 0s 903us/step - loss: 0.0857 - acc: 0.9685 - val_loss: 0.0768 - val_acc: 0.9756\n",
      "Epoch 32/50\n",
      "185/185 [==============================] - 0s 902us/step - loss: 0.0879 - acc: 0.9681 - val_loss: 0.0805 - val_acc: 0.9787\n",
      "Epoch 33/50\n",
      "185/185 [==============================] - 0s 918us/step - loss: 0.0861 - acc: 0.9675 - val_loss: 0.1141 - val_acc: 0.9695\n",
      "Epoch 34/50\n",
      "185/185 [==============================] - 0s 914us/step - loss: 0.0876 - acc: 0.9681 - val_loss: 0.0767 - val_acc: 0.9710\n",
      "Epoch 35/50\n",
      "185/185 [==============================] - 0s 913us/step - loss: 0.0981 - acc: 0.9642 - val_loss: 0.0971 - val_acc: 0.9695\n",
      "Epoch 36/50\n",
      "185/185 [==============================] - 0s 930us/step - loss: 0.0895 - acc: 0.9673 - val_loss: 0.0836 - val_acc: 0.9756\n",
      "Epoch 37/50\n",
      "185/185 [==============================] - 0s 930us/step - loss: 0.0830 - acc: 0.9710 - val_loss: 0.0873 - val_acc: 0.9680\n",
      "Epoch 38/50\n",
      "185/185 [==============================] - 0s 930us/step - loss: 0.0799 - acc: 0.9695 - val_loss: 0.0882 - val_acc: 0.9680\n",
      "Epoch 39/50\n",
      "185/185 [==============================] - 0s 929us/step - loss: 0.0857 - acc: 0.9688 - val_loss: 0.0912 - val_acc: 0.9680\n",
      "Epoch 40/50\n",
      "185/185 [==============================] - 0s 903us/step - loss: 0.0837 - acc: 0.9688 - val_loss: 0.0854 - val_acc: 0.9649\n",
      "Epoch 41/50\n",
      "185/185 [==============================] - 0s 923us/step - loss: 0.0790 - acc: 0.9709 - val_loss: 0.1206 - val_acc: 0.9543\n",
      "Epoch 42/50\n",
      "185/185 [==============================] - 0s 914us/step - loss: 0.0785 - acc: 0.9688 - val_loss: 0.0794 - val_acc: 0.9726\n",
      "Epoch 43/50\n",
      "185/185 [==============================] - 0s 909us/step - loss: 0.0812 - acc: 0.9707 - val_loss: 0.0934 - val_acc: 0.9680\n",
      "Epoch 44/50\n",
      "185/185 [==============================] - 0s 916us/step - loss: 0.0792 - acc: 0.9724 - val_loss: 0.0841 - val_acc: 0.9756\n",
      "Epoch 45/50\n",
      "185/185 [==============================] - 0s 951us/step - loss: 0.0799 - acc: 0.9705 - val_loss: 0.0767 - val_acc: 0.9802\n",
      "Epoch 46/50\n",
      "185/185 [==============================] - 0s 908us/step - loss: 0.0790 - acc: 0.9700 - val_loss: 0.0948 - val_acc: 0.9588\n",
      "Epoch 47/50\n",
      "185/185 [==============================] - 0s 914us/step - loss: 0.0762 - acc: 0.9700 - val_loss: 0.0769 - val_acc: 0.9726\n",
      "Epoch 48/50\n",
      "185/185 [==============================] - 0s 903us/step - loss: 0.0799 - acc: 0.9693 - val_loss: 0.0873 - val_acc: 0.9695\n",
      "Epoch 49/50\n",
      "185/185 [==============================] - 0s 914us/step - loss: 0.0804 - acc: 0.9695 - val_loss: 0.0819 - val_acc: 0.9771\n",
      "Epoch 50/50\n",
      "185/185 [==============================] - 0s 914us/step - loss: 0.0779 - acc: 0.9717 - val_loss: 0.0813 - val_acc: 0.9741\n"
     ]
    }
   ],
   "source": [
    "#обучаем модель\n",
    "mlp_history = mlp_model.fit(x_train, y_train, batch_size=32, epochs=50, verbose=1, validation_data=(x_test, y_test))"
   ]
  },
  {
   "cell_type": "code",
   "execution_count": 120,
   "id": "c2c9d80c",
   "metadata": {},
   "outputs": [
    {
     "data": {
      "text/plain": [
       "['./Models/MLP.pkl']"
      ]
     },
     "execution_count": 120,
     "metadata": {},
     "output_type": "execute_result"
    }
   ],
   "source": [
    "#сохраняем обученную модель\n",
    "joblib.dump(mlp_model, './Models/MLP.pkl')"
   ]
  },
  {
   "cell_type": "markdown",
   "id": "6a1a2fed",
   "metadata": {},
   "source": [
    "✔️Можем теперь пропустить этап обучения персептрона и загрузить его из файла"
   ]
  },
  {
   "cell_type": "code",
   "execution_count": 121,
   "id": "1d8eea36",
   "metadata": {},
   "outputs": [],
   "source": [
    "#загрузим из файла обученную модель\n",
    "mlp_model=joblib.load('./Models/MLP.pkl')"
   ]
  },
  {
   "cell_type": "code",
   "execution_count": 147,
   "id": "5f3eca12",
   "metadata": {},
   "outputs": [
    {
     "name": "stdout",
     "output_type": "stream",
     "text": [
      "21/21 [==============================] - 0s 701us/step - loss: 0.0813 - acc: 0.9741\n",
      "loss: 0.08132943511009216\n",
      "accuracy: 0.9740853905677795\n"
     ]
    }
   ],
   "source": [
    "# валидируем\n",
    "score = mlp_model.evaluate(x_test, y_test, batch_size=32, verbose=1)\n",
    "print(u'loss: {}'.format(score[0]))\n",
    "print(u'accuracy: {}'.format(score[1]))"
   ]
  },
  {
   "cell_type": "code",
   "execution_count": 148,
   "id": "27892c9f",
   "metadata": {
    "scrolled": false
   },
   "outputs": [
    {
     "data": {
      "image/png": "[encoded data removed]",
      "text/plain": [
       "<Figure size 640x480 with 1 Axes>"
      ]
     },
     "metadata": {},
     "output_type": "display_data"
    },
    {
     "data": {
      "image/png": "[encoded data removed]",
      "text/plain": [
       "<Figure size 640x480 with 1 Axes>"
      ]
     },
     "metadata": {},
     "output_type": "display_data"
    }
   ],
   "source": [
    "#график точности модели\n",
    "plt.plot(mlp_history.history['acc'])\n",
    "plt.plot(mlp_history.history['val_acc'])\n",
    "plt.ylabel('accuracy')\n",
    "plt.xlabel('epoch')\n",
    "plt.legend(['train', 'test'], loc='center right')\n",
    "plt.show()\n",
    "#график потерь модели\n",
    "plt.plot(mlp_history.history['loss'])\n",
    "plt.plot(mlp_history.history['val_loss'])\n",
    "plt.ylabel('loss')\n",
    "plt.xlabel('epoch')\n",
    "plt.legend(['train', 'test'], loc='center right')\n",
    "plt.show()"
   ]
  },
  {
   "cell_type": "markdown",
   "id": "c1254a00",
   "metadata": {},
   "source": [
    "## Тестирование"
   ]
  },
  {
   "cell_type": "markdown",
   "id": "438610b3",
   "metadata": {},
   "source": [
    "Попробуем протестировать модели на дополнительных датасетах"
   ]
  },
  {
   "cell_type": "code",
   "execution_count": 95,
   "id": "953e5913",
   "metadata": {
    "scrolled": false
   },
   "outputs": [
    {
     "data": {
      "text/html": [
       "<div>\n",
       "<style scoped>\n",
       "    .dataframe tbody tr th:only-of-type {\n",
       "        vertical-align: middle;\n",
       "    }\n",
       "\n",
       "    .dataframe tbody tr th {\n",
       "        vertical-align: top;\n",
       "    }\n",
       "\n",
       "    .dataframe thead th {\n",
       "        text-align: right;\n",
       "    }\n",
       "</style>\n",
       "<table border=\"1\" class=\"dataframe\">\n",
       "  <thead>\n",
       "    <tr style=\"text-align: right;\">\n",
       "      <th></th>\n",
       "      <th>lengthOfEmailId</th>\n",
       "      <th>noOfDotsInEmailId</th>\n",
       "      <th>noOfDashesInEmailId</th>\n",
       "      <th>noOfSpecialCharsInEmailId</th>\n",
       "      <th>noOfDigitsInEmailId</th>\n",
       "      <th>noOfSubdomainsInEmailId</th>\n",
       "      <th>noOfUrls</th>\n",
       "      <th>noOfDotsInUrls</th>\n",
       "      <th>noOfDashesInUrls</th>\n",
       "      <th>noOfSpecialCharsInUrls</th>\n",
       "      <th>hasIpAddressInUrls</th>\n",
       "      <th>noOfIpAddressInUrls</th>\n",
       "      <th>noOfHttpLinks</th>\n",
       "      <th>no_of_attachments</th>\n",
       "      <th>class_label</th>\n",
       "      <th>noOfMaliciousWords</th>\n",
       "    </tr>\n",
       "  </thead>\n",
       "  <tbody>\n",
       "    <tr>\n",
       "      <th>0</th>\n",
       "      <td>19</td>\n",
       "      <td>0</td>\n",
       "      <td>1</td>\n",
       "      <td>0</td>\n",
       "      <td>0</td>\n",
       "      <td>0</td>\n",
       "      <td>7</td>\n",
       "      <td>24</td>\n",
       "      <td>5</td>\n",
       "      <td>8</td>\n",
       "      <td>1</td>\n",
       "      <td>1</td>\n",
       "      <td>7</td>\n",
       "      <td>0</td>\n",
       "      <td>1</td>\n",
       "      <td>79</td>\n",
       "    </tr>\n",
       "    <tr>\n",
       "      <th>1</th>\n",
       "      <td>20</td>\n",
       "      <td>0</td>\n",
       "      <td>1</td>\n",
       "      <td>0</td>\n",
       "      <td>0</td>\n",
       "      <td>0</td>\n",
       "      <td>14</td>\n",
       "      <td>41</td>\n",
       "      <td>9</td>\n",
       "      <td>16</td>\n",
       "      <td>0</td>\n",
       "      <td>0</td>\n",
       "      <td>14</td>\n",
       "      <td>0</td>\n",
       "      <td>1</td>\n",
       "      <td>127</td>\n",
       "    </tr>\n",
       "    <tr>\n",
       "      <th>2</th>\n",
       "      <td>20</td>\n",
       "      <td>0</td>\n",
       "      <td>0</td>\n",
       "      <td>0</td>\n",
       "      <td>1</td>\n",
       "      <td>1</td>\n",
       "      <td>71</td>\n",
       "      <td>305</td>\n",
       "      <td>2</td>\n",
       "      <td>94</td>\n",
       "      <td>0</td>\n",
       "      <td>0</td>\n",
       "      <td>71</td>\n",
       "      <td>0</td>\n",
       "      <td>1</td>\n",
       "      <td>102</td>\n",
       "    </tr>\n",
       "    <tr>\n",
       "      <th>3</th>\n",
       "      <td>25</td>\n",
       "      <td>0</td>\n",
       "      <td>1</td>\n",
       "      <td>0</td>\n",
       "      <td>0</td>\n",
       "      <td>0</td>\n",
       "      <td>1</td>\n",
       "      <td>4</td>\n",
       "      <td>0</td>\n",
       "      <td>2</td>\n",
       "      <td>1</td>\n",
       "      <td>1</td>\n",
       "      <td>1</td>\n",
       "      <td>0</td>\n",
       "      <td>1</td>\n",
       "      <td>30</td>\n",
       "    </tr>\n",
       "    <tr>\n",
       "      <th>4</th>\n",
       "      <td>19</td>\n",
       "      <td>0</td>\n",
       "      <td>1</td>\n",
       "      <td>0</td>\n",
       "      <td>0</td>\n",
       "      <td>0</td>\n",
       "      <td>18</td>\n",
       "      <td>55</td>\n",
       "      <td>4</td>\n",
       "      <td>59</td>\n",
       "      <td>0</td>\n",
       "      <td>0</td>\n",
       "      <td>18</td>\n",
       "      <td>0</td>\n",
       "      <td>1</td>\n",
       "      <td>63</td>\n",
       "    </tr>\n",
       "  </tbody>\n",
       "</table>\n",
       "</div>"
      ],
      "text/plain": [
       "   lengthOfEmailId  noOfDotsInEmailId  noOfDashesInEmailId  \\\n",
       "0               19                  0                    1   \n",
       "1               20                  0                    1   \n",
       "2               20                  0                    0   \n",
       "3               25                  0                    1   \n",
       "4               19                  0                    1   \n",
       "\n",
       "   noOfSpecialCharsInEmailId  noOfDigitsInEmailId  noOfSubdomainsInEmailId  \\\n",
       "0                          0                    0                        0   \n",
       "1                          0                    0                        0   \n",
       "2                          0                    1                        1   \n",
       "3                          0                    0                        0   \n",
       "4                          0                    0                        0   \n",
       "\n",
       "   noOfUrls  noOfDotsInUrls  noOfDashesInUrls  noOfSpecialCharsInUrls  \\\n",
       "0         7              24                 5                       8   \n",
       "1        14              41                 9                      16   \n",
       "2        71             305                 2                      94   \n",
       "3         1               4                 0                       2   \n",
       "4        18              55                 4                      59   \n",
       "\n",
       "   hasIpAddressInUrls  noOfIpAddressInUrls  noOfHttpLinks  no_of_attachments  \\\n",
       "0                   1                    1              7                  0   \n",
       "1                   0                    0             14                  0   \n",
       "2                   0                    0             71                  0   \n",
       "3                   1                    1              1                  0   \n",
       "4                   0                    0             18                  0   \n",
       "\n",
       "   class_label  noOfMaliciousWords  \n",
       "0            1                  79  \n",
       "1            1                 127  \n",
       "2            1                 102  \n",
       "3            1                  30  \n",
       "4            1                  63  "
      ]
     },
     "execution_count": 95,
     "metadata": {},
     "output_type": "execute_result"
    }
   ],
   "source": [
    "#загружаем три дополнительных датасета\n",
    "bonus_phishing_emails = [mailbox.mbox('./Datasets/phishing0.mbox'), \n",
    "                        mailbox.mbox('./Datasets/phishing1.mbox'), \n",
    "                        mailbox.mbox('./Datasets/phishing2.mbox')]\n",
    "\n",
    "df3 = pd.DataFrame(columns=['text', 'lengthOfEmailId', 'noOfDotsInEmailId', 'noOfDashesInEmailId', 'noOfSpecialCharsInEmailId', 'noOfDigitsInEmailId', 'noOfSubdomainsInEmailId', 'noOfUrls', 'noOfDotsInUrls', 'noOfDashesInUrls', 'noOfSpecialCharsInUrls', 'hasIpAddressInUrls', 'noOfIpAddressInUrls', 'noOfHttpLinks','no_of_attachments','class_label'])\n",
    "stringUtil = StringUtil()\n",
    "for emails in bonus_phishing_emails:\n",
    "    for email in emails:\n",
    "        #парсим каждое фишинговое письмо\n",
    "        emailParser = EmailParser(email)\n",
    "        #определяем количество вложений\n",
    "        no_of_attachments = emailParser.get_no_of_attachments()\n",
    "        #определяем признаки почты отправителя\n",
    "        emailid_features = stringUtil.process_email_address(emailParser.get_sender_email_address())\n",
    "        #определяем признаки ссылок\n",
    "        urls_features = stringUtil.process_urls(emailParser.get_urls())\n",
    "        #выделяем количество слов стемминга\n",
    "        word_dict = stringUtil.process_text(emailParser.get_email_text())\n",
    "        #заполняем датафрейм\n",
    "        df3.loc[len(df3)] = [word_dict, emailid_features[0], emailid_features[1], emailid_features[2], emailid_features[3], emailid_features[4], emailid_features[5], urls_features[0],urls_features[1],urls_features[2],urls_features[3],urls_features[4],urls_features[5], urls_features[6], no_of_attachments, 1]\n",
    "\n",
    "#определяем самые часто встречаемые слова из фишинговых сообщений\n",
    "malicious_words = stringUtil.get_most_common_words()\n",
    "\n",
    "#заменим признак \"текст\" на признак \"самые часто встречаемые слова из фишинговых сообщений\"\n",
    "df3['noOfMaliciousWords'] = df3['text'].apply(lambda x: len(set(x.keys()).intersection(set(dict(malicious_words).keys()))))\n",
    "df3 = df3.drop(columns=['text'])\n",
    "\n",
    "df3.head()"
   ]
  },
  {
   "cell_type": "code",
   "execution_count": 96,
   "id": "cae7f6d2",
   "metadata": {
    "scrolled": false
   },
   "outputs": [
    {
     "name": "stdout",
     "output_type": "stream",
     "text": [
      "<class 'pandas.core.frame.DataFrame'>\n",
      "Int64Index: 2293 entries, 0 to 2292\n",
      "Data columns (total 16 columns):\n",
      " #   Column                     Non-Null Count  Dtype\n",
      "---  ------                     --------------  -----\n",
      " 0   lengthOfEmailId            2293 non-null   int64\n",
      " 1   noOfDotsInEmailId          2293 non-null   int64\n",
      " 2   noOfDashesInEmailId        2293 non-null   int64\n",
      " 3   noOfSpecialCharsInEmailId  2293 non-null   int64\n",
      " 4   noOfDigitsInEmailId        2293 non-null   int64\n",
      " 5   noOfSubdomainsInEmailId    2293 non-null   int64\n",
      " 6   noOfUrls                   2293 non-null   int64\n",
      " 7   noOfDotsInUrls             2293 non-null   int64\n",
      " 8   noOfDashesInUrls           2293 non-null   int64\n",
      " 9   noOfSpecialCharsInUrls     2293 non-null   int64\n",
      " 10  hasIpAddressInUrls         2293 non-null   int64\n",
      " 11  noOfIpAddressInUrls        2293 non-null   int64\n",
      " 12  noOfHttpLinks              2293 non-null   int64\n",
      " 13  no_of_attachments          2293 non-null   int64\n",
      " 14  class_label                2293 non-null   int64\n",
      " 15  noOfMaliciousWords         2293 non-null   int64\n",
      "dtypes: int64(16)\n",
      "memory usage: 304.5 KB\n"
     ]
    }
   ],
   "source": [
    "df3.info()"
   ]
  },
  {
   "cell_type": "markdown",
   "id": "78821d76",
   "metadata": {},
   "source": [
    "Оптимизируем типы данных"
   ]
  },
  {
   "cell_type": "code",
   "execution_count": 97,
   "id": "301b084c",
   "metadata": {},
   "outputs": [
    {
     "name": "stdout",
     "output_type": "stream",
     "text": [
      "<class 'pandas.core.frame.DataFrame'>\n",
      "Int64Index: 2293 entries, 0 to 2292\n",
      "Data columns (total 16 columns):\n",
      " #   Column                     Non-Null Count  Dtype\n",
      "---  ------                     --------------  -----\n",
      " 0   lengthOfEmailId            2293 non-null   int16\n",
      " 1   noOfDotsInEmailId          2293 non-null   int16\n",
      " 2   noOfDashesInEmailId        2293 non-null   int16\n",
      " 3   noOfSpecialCharsInEmailId  2293 non-null   int16\n",
      " 4   noOfDigitsInEmailId        2293 non-null   int16\n",
      " 5   noOfSubdomainsInEmailId    2293 non-null   int16\n",
      " 6   noOfUrls                   2293 non-null   int16\n",
      " 7   noOfDotsInUrls             2293 non-null   int16\n",
      " 8   noOfDashesInUrls           2293 non-null   int16\n",
      " 9   noOfSpecialCharsInUrls     2293 non-null   int16\n",
      " 10  hasIpAddressInUrls         2293 non-null   int16\n",
      " 11  noOfIpAddressInUrls        2293 non-null   int16\n",
      " 12  noOfHttpLinks              2293 non-null   int16\n",
      " 13  no_of_attachments          2293 non-null   int16\n",
      " 14  class_label                2293 non-null   int16\n",
      " 15  noOfMaliciousWords         2293 non-null   int16\n",
      "dtypes: int16(16)\n",
      "memory usage: 89.6 KB\n"
     ]
    }
   ],
   "source": [
    "df3 = df3.astype('int16')\n",
    "df3.info()"
   ]
  },
  {
   "cell_type": "markdown",
   "id": "7db9592c",
   "metadata": {},
   "source": [
    "Сохраним обработанный тестовый набор"
   ]
  },
  {
   "cell_type": "code",
   "execution_count": 98,
   "id": "dde74382",
   "metadata": {},
   "outputs": [],
   "source": [
    "df3.to_csv(\"./Data/data_test.csv\", sep=',')"
   ]
  },
  {
   "cell_type": "markdown",
   "id": "885e9f59",
   "metadata": {},
   "source": [
    "Загружаем датасет с файла"
   ]
  },
  {
   "cell_type": "code",
   "execution_count": 149,
   "id": "109fd5c0",
   "metadata": {},
   "outputs": [
    {
     "data": {
      "text/html": [
       "<div>\n",
       "<style scoped>\n",
       "    .dataframe tbody tr th:only-of-type {\n",
       "        vertical-align: middle;\n",
       "    }\n",
       "\n",
       "    .dataframe tbody tr th {\n",
       "        vertical-align: top;\n",
       "    }\n",
       "\n",
       "    .dataframe thead th {\n",
       "        text-align: right;\n",
       "    }\n",
       "</style>\n",
       "<table border=\"1\" class=\"dataframe\">\n",
       "  <thead>\n",
       "    <tr style=\"text-align: right;\">\n",
       "      <th></th>\n",
       "      <th>lengthOfEmailId</th>\n",
       "      <th>noOfDotsInEmailId</th>\n",
       "      <th>noOfDashesInEmailId</th>\n",
       "      <th>noOfSpecialCharsInEmailId</th>\n",
       "      <th>noOfDigitsInEmailId</th>\n",
       "      <th>noOfSubdomainsInEmailId</th>\n",
       "      <th>noOfUrls</th>\n",
       "      <th>noOfDotsInUrls</th>\n",
       "      <th>noOfDashesInUrls</th>\n",
       "      <th>noOfSpecialCharsInUrls</th>\n",
       "      <th>hasIpAddressInUrls</th>\n",
       "      <th>noOfIpAddressInUrls</th>\n",
       "      <th>noOfHttpLinks</th>\n",
       "      <th>no_of_attachments</th>\n",
       "      <th>class_label</th>\n",
       "      <th>noOfMaliciousWords</th>\n",
       "    </tr>\n",
       "  </thead>\n",
       "  <tbody>\n",
       "    <tr>\n",
       "      <th>0</th>\n",
       "      <td>19</td>\n",
       "      <td>0</td>\n",
       "      <td>1</td>\n",
       "      <td>0</td>\n",
       "      <td>0</td>\n",
       "      <td>0</td>\n",
       "      <td>7</td>\n",
       "      <td>24</td>\n",
       "      <td>5</td>\n",
       "      <td>8</td>\n",
       "      <td>1</td>\n",
       "      <td>1</td>\n",
       "      <td>7</td>\n",
       "      <td>0</td>\n",
       "      <td>1</td>\n",
       "      <td>79</td>\n",
       "    </tr>\n",
       "    <tr>\n",
       "      <th>1</th>\n",
       "      <td>20</td>\n",
       "      <td>0</td>\n",
       "      <td>1</td>\n",
       "      <td>0</td>\n",
       "      <td>0</td>\n",
       "      <td>0</td>\n",
       "      <td>14</td>\n",
       "      <td>41</td>\n",
       "      <td>9</td>\n",
       "      <td>16</td>\n",
       "      <td>0</td>\n",
       "      <td>0</td>\n",
       "      <td>14</td>\n",
       "      <td>0</td>\n",
       "      <td>1</td>\n",
       "      <td>127</td>\n",
       "    </tr>\n",
       "    <tr>\n",
       "      <th>2</th>\n",
       "      <td>20</td>\n",
       "      <td>0</td>\n",
       "      <td>0</td>\n",
       "      <td>0</td>\n",
       "      <td>1</td>\n",
       "      <td>1</td>\n",
       "      <td>71</td>\n",
       "      <td>305</td>\n",
       "      <td>2</td>\n",
       "      <td>94</td>\n",
       "      <td>0</td>\n",
       "      <td>0</td>\n",
       "      <td>71</td>\n",
       "      <td>0</td>\n",
       "      <td>1</td>\n",
       "      <td>102</td>\n",
       "    </tr>\n",
       "    <tr>\n",
       "      <th>3</th>\n",
       "      <td>25</td>\n",
       "      <td>0</td>\n",
       "      <td>1</td>\n",
       "      <td>0</td>\n",
       "      <td>0</td>\n",
       "      <td>0</td>\n",
       "      <td>1</td>\n",
       "      <td>4</td>\n",
       "      <td>0</td>\n",
       "      <td>2</td>\n",
       "      <td>1</td>\n",
       "      <td>1</td>\n",
       "      <td>1</td>\n",
       "      <td>0</td>\n",
       "      <td>1</td>\n",
       "      <td>30</td>\n",
       "    </tr>\n",
       "    <tr>\n",
       "      <th>4</th>\n",
       "      <td>19</td>\n",
       "      <td>0</td>\n",
       "      <td>1</td>\n",
       "      <td>0</td>\n",
       "      <td>0</td>\n",
       "      <td>0</td>\n",
       "      <td>18</td>\n",
       "      <td>55</td>\n",
       "      <td>4</td>\n",
       "      <td>59</td>\n",
       "      <td>0</td>\n",
       "      <td>0</td>\n",
       "      <td>18</td>\n",
       "      <td>0</td>\n",
       "      <td>1</td>\n",
       "      <td>63</td>\n",
       "    </tr>\n",
       "  </tbody>\n",
       "</table>\n",
       "</div>"
      ],
      "text/plain": [
       "   lengthOfEmailId  noOfDotsInEmailId  noOfDashesInEmailId  \\\n",
       "0               19                  0                    1   \n",
       "1               20                  0                    1   \n",
       "2               20                  0                    0   \n",
       "3               25                  0                    1   \n",
       "4               19                  0                    1   \n",
       "\n",
       "   noOfSpecialCharsInEmailId  noOfDigitsInEmailId  noOfSubdomainsInEmailId  \\\n",
       "0                          0                    0                        0   \n",
       "1                          0                    0                        0   \n",
       "2                          0                    1                        1   \n",
       "3                          0                    0                        0   \n",
       "4                          0                    0                        0   \n",
       "\n",
       "   noOfUrls  noOfDotsInUrls  noOfDashesInUrls  noOfSpecialCharsInUrls  \\\n",
       "0         7              24                 5                       8   \n",
       "1        14              41                 9                      16   \n",
       "2        71             305                 2                      94   \n",
       "3         1               4                 0                       2   \n",
       "4        18              55                 4                      59   \n",
       "\n",
       "   hasIpAddressInUrls  noOfIpAddressInUrls  noOfHttpLinks  no_of_attachments  \\\n",
       "0                   1                    1              7                  0   \n",
       "1                   0                    0             14                  0   \n",
       "2                   0                    0             71                  0   \n",
       "3                   1                    1              1                  0   \n",
       "4                   0                    0             18                  0   \n",
       "\n",
       "   class_label  noOfMaliciousWords  \n",
       "0            1                  79  \n",
       "1            1                 127  \n",
       "2            1                 102  \n",
       "3            1                  30  \n",
       "4            1                  63  "
      ]
     },
     "execution_count": 149,
     "metadata": {},
     "output_type": "execute_result"
    }
   ],
   "source": [
    "df3 = pd.read_csv(\"./Data/data_test.csv\").drop('Unnamed: 0', axis=1)\n",
    "df3.head()"
   ]
  },
  {
   "cell_type": "code",
   "execution_count": 100,
   "id": "7b0fad21",
   "metadata": {},
   "outputs": [
    {
     "name": "stdout",
     "output_type": "stream",
     "text": [
      "<class 'pandas.core.frame.DataFrame'>\n",
      "RangeIndex: 2293 entries, 0 to 2292\n",
      "Data columns (total 16 columns):\n",
      " #   Column                     Non-Null Count  Dtype\n",
      "---  ------                     --------------  -----\n",
      " 0   lengthOfEmailId            2293 non-null   int64\n",
      " 1   noOfDotsInEmailId          2293 non-null   int64\n",
      " 2   noOfDashesInEmailId        2293 non-null   int64\n",
      " 3   noOfSpecialCharsInEmailId  2293 non-null   int64\n",
      " 4   noOfDigitsInEmailId        2293 non-null   int64\n",
      " 5   noOfSubdomainsInEmailId    2293 non-null   int64\n",
      " 6   noOfUrls                   2293 non-null   int64\n",
      " 7   noOfDotsInUrls             2293 non-null   int64\n",
      " 8   noOfDashesInUrls           2293 non-null   int64\n",
      " 9   noOfSpecialCharsInUrls     2293 non-null   int64\n",
      " 10  hasIpAddressInUrls         2293 non-null   int64\n",
      " 11  noOfIpAddressInUrls        2293 non-null   int64\n",
      " 12  noOfHttpLinks              2293 non-null   int64\n",
      " 13  no_of_attachments          2293 non-null   int64\n",
      " 14  class_label                2293 non-null   int64\n",
      " 15  noOfMaliciousWords         2293 non-null   int64\n",
      "dtypes: int64(16)\n",
      "memory usage: 286.8 KB\n"
     ]
    }
   ],
   "source": [
    "df3.info()"
   ]
  },
  {
   "cell_type": "code",
   "execution_count": 150,
   "id": "d264d5a6",
   "metadata": {},
   "outputs": [
    {
     "name": "stdout",
     "output_type": "stream",
     "text": [
      "287/287 [==============================] - 0s 605us/step - loss: 0.3403 - acc: 0.8997\n"
     ]
    },
    {
     "data": {
      "text/html": [
       "<div>\n",
       "<style scoped>\n",
       "    .dataframe tbody tr th:only-of-type {\n",
       "        vertical-align: middle;\n",
       "    }\n",
       "\n",
       "    .dataframe tbody tr th {\n",
       "        vertical-align: top;\n",
       "    }\n",
       "\n",
       "    .dataframe thead th {\n",
       "        text-align: right;\n",
       "    }\n",
       "</style>\n",
       "<table border=\"1\" class=\"dataframe\">\n",
       "  <thead>\n",
       "    <tr style=\"text-align: right;\">\n",
       "      <th></th>\n",
       "      <th>Score</th>\n",
       "    </tr>\n",
       "  </thead>\n",
       "  <tbody>\n",
       "    <tr>\n",
       "      <th>SVC</th>\n",
       "      <td>0.808984</td>\n",
       "    </tr>\n",
       "    <tr>\n",
       "      <th>KN</th>\n",
       "      <td>0.825120</td>\n",
       "    </tr>\n",
       "    <tr>\n",
       "      <th>NB</th>\n",
       "      <td>0.785434</td>\n",
       "    </tr>\n",
       "    <tr>\n",
       "      <th>DT</th>\n",
       "      <td>0.886611</td>\n",
       "    </tr>\n",
       "    <tr>\n",
       "      <th>LR</th>\n",
       "      <td>0.834278</td>\n",
       "    </tr>\n",
       "    <tr>\n",
       "      <th>RF</th>\n",
       "      <td>0.930659</td>\n",
       "    </tr>\n",
       "    <tr>\n",
       "      <th>AdaBoost</th>\n",
       "      <td>0.907981</td>\n",
       "    </tr>\n",
       "    <tr>\n",
       "      <th>BgC</th>\n",
       "      <td>0.915395</td>\n",
       "    </tr>\n",
       "    <tr>\n",
       "      <th>ETC</th>\n",
       "      <td>0.934147</td>\n",
       "    </tr>\n",
       "    <tr>\n",
       "      <th>MLP</th>\n",
       "      <td>0.899695</td>\n",
       "    </tr>\n",
       "  </tbody>\n",
       "</table>\n",
       "</div>"
      ],
      "text/plain": [
       "             Score\n",
       "SVC       0.808984\n",
       "KN        0.825120\n",
       "NB        0.785434\n",
       "DT        0.886611\n",
       "LR        0.834278\n",
       "RF        0.930659\n",
       "AdaBoost  0.907981\n",
       "BgC       0.915395\n",
       "ETC       0.934147\n",
       "MLP       0.899695"
      ]
     },
     "execution_count": 150,
     "metadata": {},
     "output_type": "execute_result"
    }
   ],
   "source": [
    "pred_dict={}\n",
    "# пробежимся по классификаторам\n",
    "for k,v in clfs.items():\n",
    "    # классифицируем тестовые выборки\n",
    "    pred = predict_labels(v,np.array(df3.drop(columns='class_label')))\n",
    "    # записываем точность классификатора\n",
    "    pred_dict[k]=[accuracy_score(np.array(df3['class_label']),pred)]\n",
    "\n",
    "#персептрон\n",
    "mlp_score = mlp_model.evaluate(np.array(df3.drop(columns='class_label')), np.array(df3['class_label']), batch_size=8, verbose=1)    \n",
    "pred_dict['MLP']=[mlp_score[1],]\n",
    "\n",
    "# объявляем датафрейм на основе собранной статистики по классификаторам\n",
    "res = pd.DataFrame.from_dict(pred_dict, orient='index', columns=['Score'])\n",
    "\n",
    "res"
   ]
  },
  {
   "cell_type": "code",
   "execution_count": 151,
   "id": "a6450004",
   "metadata": {},
   "outputs": [
    {
     "data": {
      "text/plain": [
       "<matplotlib.legend.Legend at 0x199626dd0f0>"
      ]
     },
     "execution_count": 151,
     "metadata": {},
     "output_type": "execute_result"
    },
    {
     "data": {
      "image/png": "[encoded data removed]",
      "text/plain": [
       "<Figure size 1100x600 with 1 Axes>"
      ]
     },
     "metadata": {},
     "output_type": "display_data"
    }
   ],
   "source": [
    "#визуализируем\n",
    "res.plot(kind='bar', ylim=(0.78,0.94), figsize=(11,6), align='center', colormap=\"Accent\")\n",
    "plt.xticks(np.arange(res.shape[0]), res.index)\n",
    "plt.ylabel('Accuracy Score')\n",
    "plt.title('Distribution by Classifier')\n",
    "plt.legend(bbox_to_anchor=(1.05, 1), loc=2, borderaxespad=0.)"
   ]
  },
  {
   "cell_type": "markdown",
   "id": "1994eb9e",
   "metadata": {},
   "source": [
    "По полученным результатам можем выделить алгоритм Extra Trees как победителя в номинации лучший классификатор фишинговых сообщений (с учётом обучающих данных и выделенных признаков)."
   ]
  },
  {
   "cell_type": "markdown",
   "id": "9ea6f606",
   "metadata": {},
   "source": [
    "# Оптимизация гиперпараметров модели ETC"
   ]
  },
  {
   "cell_type": "markdown",
   "id": "10445144",
   "metadata": {},
   "source": [
    "Есть несколько способов определить, какие гиперпараметры следуюет насторить для нашей модели. Хороший способ визуально оценить потенциальные оптимизированные значения гиперпараметров модели — использовать кривую проверки. Кривая проверки может быть построена на графике, чтобы показать, насколько хорошо модель работает с различными значениями одного гиперпараметра."
   ]
  },
  {
   "cell_type": "markdown",
   "id": "cb728d69",
   "metadata": {},
   "source": [
    "Воссоздадим набор данных для обучения"
   ]
  },
  {
   "cell_type": "code",
   "execution_count": 163,
   "id": "a9f055e8",
   "metadata": {},
   "outputs": [],
   "source": [
    "df = pd.read_csv(\"./Data/data.csv\").drop('Unnamed: 0', axis=1)\n",
    "x = df.drop(columns=[\"class_label\"]).values\n",
    "y = df[\"class_label\"].values\n",
    "\n",
    "x_train, x_test, y_train, y_test = train_test_split(x, y, random_state=34, test_size=0.1)"
   ]
  },
  {
   "cell_type": "markdown",
   "id": "197691f2",
   "metadata": {},
   "source": [
    "Посчитаем оптимальный параметр n_estimators"
   ]
  },
  {
   "cell_type": "code",
   "execution_count": 164,
   "id": "9be5c3a2",
   "metadata": {},
   "outputs": [],
   "source": [
    "num_est = np.arange(10, 210, 10)\n",
    "train_scoreNum, test_scoreNum = model_selection.validation_curve( \n",
    "                                ExtraTreesClassifier(), \n",
    "                                X = x_train, y = y_train, \n",
    "                                param_name = 'n_estimators', \n",
    "                                param_range = num_est, cv = 3)"
   ]
  },
  {
   "cell_type": "markdown",
   "id": "3b532d56",
   "metadata": {},
   "source": [
    "Отобразим на графике"
   ]
  },
  {
   "cell_type": "code",
   "execution_count": 165,
   "id": "669fa78d",
   "metadata": {},
   "outputs": [
    {
     "data": {
      "image/png": "[encoded data removed]",
      "text/plain": [
       "<Figure size 640x480 with 1 Axes>"
      ]
     },
     "metadata": {},
     "output_type": "display_data"
    }
   ],
   "source": [
    "plt.plot(num_est, np.mean(train_scoreNum, axis = 1))\n",
    "plt.plot(num_est, np.mean(test_scoreNum, axis = 1))\n",
    "plt.ylabel('accuracy')\n",
    "plt.xlabel('n_estimators')\n",
    "plt.legend(['train', 'test'], loc='center right')\n",
    "plt.show()"
   ]
  },
  {
   "cell_type": "markdown",
   "id": "00013f2e",
   "metadata": {},
   "source": [
    "Пиковое значение точности можем видеть при n_estimators в районе 190. Уточним значение"
   ]
  },
  {
   "cell_type": "code",
   "execution_count": 166,
   "id": "8ae52a41",
   "metadata": {},
   "outputs": [
    {
     "data": {
      "image/png": "[encoded data removed]",
      "text/plain": [
       "<Figure size 640x480 with 1 Axes>"
      ]
     },
     "metadata": {},
     "output_type": "display_data"
    }
   ],
   "source": [
    "num_est = np.arange(185, 200, 1)\n",
    "train_scoreNum, test_scoreNum = model_selection.validation_curve( \n",
    "                                ExtraTreesClassifier(), \n",
    "                                X = x_train, y = y_train, \n",
    "                                param_name = 'n_estimators', \n",
    "                                param_range = num_est, cv = 3)\n",
    "plt.plot(num_est, np.mean(train_scoreNum, axis = 1))\n",
    "plt.plot(num_est, np.mean(test_scoreNum, axis = 1))\n",
    "plt.ylabel('accuracy')\n",
    "plt.xlabel('n_estimators')\n",
    "plt.legend(['train', 'test'], loc='center right')\n",
    "plt.show()"
   ]
  },
  {
   "cell_type": "markdown",
   "id": "d2030ea1",
   "metadata": {},
   "source": [
    "Теперь явно видно, что пиковое значение точности достигается при **n_estimators = 197**. Зафиксируем данное значение."
   ]
  },
  {
   "cell_type": "markdown",
   "id": "5d2615e2",
   "metadata": {},
   "source": [
    "Далее попробуем оценить оптимальное значение гиперпараметра max_depth"
   ]
  },
  {
   "cell_type": "code",
   "execution_count": 168,
   "id": "eca53cd7",
   "metadata": {},
   "outputs": [],
   "source": [
    "num_md = np.arange(10, 110, 10)\n",
    "train_scoreNum, test_scoreNum = model_selection.validation_curve( \n",
    "                                ExtraTreesClassifier(n_estimators=197), \n",
    "                                X = x_train, y = y_train, \n",
    "                                param_name = 'max_depth', \n",
    "                                param_range = num_md, cv = 3)"
   ]
  },
  {
   "cell_type": "code",
   "execution_count": 169,
   "id": "0f3013a8",
   "metadata": {},
   "outputs": [
    {
     "data": {
      "image/png": "[encoded data removed]",
      "text/plain": [
       "<Figure size 640x480 with 1 Axes>"
      ]
     },
     "metadata": {},
     "output_type": "display_data"
    }
   ],
   "source": [
    "plt.plot(num_md, np.mean(train_scoreNum, axis = 1))\n",
    "plt.plot(num_md, np.mean(test_scoreNum, axis = 1))\n",
    "plt.ylabel('accuracy')\n",
    "plt.xlabel('max_depth')\n",
    "plt.legend(['train', 'test'], loc='center right')\n",
    "plt.show()"
   ]
  },
  {
   "cell_type": "markdown",
   "id": "bd7a8be5",
   "metadata": {},
   "source": [
    "На данном графике оптимальное значение гиперпараметра max_depth наблюдается в районе 60. Уточним значение"
   ]
  },
  {
   "cell_type": "code",
   "execution_count": 170,
   "id": "364d12ff",
   "metadata": {},
   "outputs": [
    {
     "data": {
      "image/png": "[encoded data removed]",
      "text/plain": [
       "<Figure size 640x480 with 1 Axes>"
      ]
     },
     "metadata": {},
     "output_type": "display_data"
    }
   ],
   "source": [
    "num_md = np.arange(55, 70, 1)\n",
    "train_scoreNum, test_scoreNum = model_selection.validation_curve( \n",
    "                                ExtraTreesClassifier(n_estimators=197), \n",
    "                                X = x_train, y = y_train, \n",
    "                                param_name = 'max_depth', \n",
    "                                param_range = num_md, cv = 3)\n",
    "\n",
    "plt.plot(num_md, np.mean(train_scoreNum, axis = 1))\n",
    "plt.plot(num_md, np.mean(test_scoreNum, axis = 1))\n",
    "plt.ylabel('accuracy')\n",
    "plt.xlabel('max_depth')\n",
    "plt.legend(['train', 'test'], loc='center right')\n",
    "plt.show()"
   ]
  },
  {
   "cell_type": "markdown",
   "id": "c7422a66",
   "metadata": {},
   "source": [
    "Остановимся на значении **max_depth = 60**"
   ]
  },
  {
   "cell_type": "markdown",
   "id": "5b005253",
   "metadata": {},
   "source": [
    "Посмотрим оптимальное значение гиперпараметра bootstrap"
   ]
  },
  {
   "cell_type": "code",
   "execution_count": 171,
   "id": "828f7f8a",
   "metadata": {},
   "outputs": [
    {
     "data": {
      "image/png": "[encoded data removed]",
      "text/plain": [
       "<Figure size 640x480 with 1 Axes>"
      ]
     },
     "metadata": {},
     "output_type": "display_data"
    }
   ],
   "source": [
    "num_bs = np.array([False, True])\n",
    "train_scoreNum, test_scoreNum = model_selection.validation_curve( \n",
    "                                ExtraTreesClassifier(n_estimators=197, max_depth=60), \n",
    "                                X = x_train, y = y_train, \n",
    "                                param_name = 'bootstrap', \n",
    "                                param_range = num_bs, cv = 3)\n",
    "\n",
    "plt.plot(num_bs, np.mean(train_scoreNum, axis = 1))\n",
    "plt.plot(num_bs, np.mean(test_scoreNum, axis = 1))\n",
    "plt.ylabel('accuracy')\n",
    "plt.xlabel('bootstrap')\n",
    "plt.legend(['train', 'test'], loc='center right')\n",
    "plt.show()"
   ]
  },
  {
   "cell_type": "markdown",
   "id": "b5fdcfa0",
   "metadata": {},
   "source": [
    "Значение точности выше при настройке **bootstrap = True**"
   ]
  },
  {
   "cell_type": "markdown",
   "id": "28c8559c",
   "metadata": {},
   "source": [
    "Попробуем обучить модель с полученными значениями гиперпараметров и оценим результат"
   ]
  },
  {
   "cell_type": "code",
   "execution_count": 172,
   "id": "c11e8ec8",
   "metadata": {},
   "outputs": [
    {
     "data": {
      "text/plain": [
       "0.975609756097561"
      ]
     },
     "execution_count": 172,
     "metadata": {},
     "output_type": "execute_result"
    }
   ],
   "source": [
    "et = ExtraTreesClassifier(n_estimators=197, max_depth=60, bootstrap=True, random_state=111)\n",
    "et.fit(x_train, y_train)\n",
    "et_pred = et.predict(x_test)\n",
    "accuracy_score(y_test,et_pred)"
   ]
  },
  {
   "cell_type": "markdown",
   "id": "6396ecc6",
   "metadata": {},
   "source": [
    "Сравним полученное значение точности с точностью базовой модели"
   ]
  },
  {
   "cell_type": "code",
   "execution_count": 173,
   "id": "500586b3",
   "metadata": {},
   "outputs": [
    {
     "data": {
      "text/plain": [
       "0.9771341463414634"
      ]
     },
     "execution_count": 173,
     "metadata": {},
     "output_type": "execute_result"
    }
   ],
   "source": [
    "etc = joblib.load('./Models/ETC.pkl')\n",
    "etc_pred = etc.predict(x_test)\n",
    "accuracy_score(y_test,etc_pred)"
   ]
  },
  {
   "cell_type": "markdown",
   "id": "0ce55252",
   "metadata": {},
   "source": [
    "В результате ручного подбора гиперпараметров, можем наблюдать снижение точности модели"
   ]
  },
  {
   "cell_type": "code",
   "execution_count": 174,
   "id": "dd3c782d",
   "metadata": {},
   "outputs": [
    {
     "name": "stdout",
     "output_type": "stream",
     "text": [
      "et acc: 0.9345835150457915\n",
      "etc acc: 0.9341474051460968\n"
     ]
    }
   ],
   "source": [
    "df3 = pd.read_csv(\"./Data/data_test.csv\").drop('Unnamed: 0', axis=1)\n",
    "# классифицируем тестовые выборки\n",
    "et_pred = et.predict(np.array(df3.drop(columns='class_label')))\n",
    "etc_pred = etc.predict(np.array(df3.drop(columns='class_label')))\n",
    "# запишем точность моделей\n",
    "print('et acc:', accuracy_score(np.array(df3['class_label']),et_pred))\n",
    "print('etc acc:', accuracy_score(np.array(df3['class_label']),etc_pred))"
   ]
  },
  {
   "cell_type": "markdown",
   "id": "21873d12",
   "metadata": {},
   "source": [
    "Теперь сравним результаты значения точности модели Extra Trees в базовой настройке и при явном указании параметров. Для базового набора данных получаем значения 97,56% и 97,71% в пользу базовой настройки. Для дополнительных наборов получаем значения 93,45% и 93,41% в пользу уже настроенной вручную модели (даже при условии, что мы выставляли параметры на базе основного набора)."
   ]
  },
  {
   "cell_type": "markdown",
   "id": "eaa609d7",
   "metadata": {},
   "source": [
    "## Результаты"
   ]
  },
  {
   "cell_type": "markdown",
   "id": "a4bb6f8f",
   "metadata": {},
   "source": [
    "Результатом проекта является определенность в том, что при используемых наборах данных, выделяемых признаках и настройках моделей оптимальным классификатором выступает модель Extra Trees. При этом базовая модель самостоятельно подбирает близкие к оптимальным гиперпараметры для модели. Несмотря на это явное указание гиперпараметров для повышения точности классификатора может дать небольшое преимущество.\n",
    "\n",
    "Существует вероятность, что при использовании других моделей может быть полезна явная настройка гиперпараметров, которая покажет гораздо более высокие результаты относительно базовой модели. В случае с моделью Extra Trees в этом может не быть необходимости, так как данная модель по умолчанию выставляет оптимальные параметры. Процесс подбора значений гиперпараметров может занять очень много времени и не дать положительных результатов, но не исключается вероятность существования случаев, где данное решение будет вполне оправдано."
   ]
  },
  {
   "cell_type": "markdown",
   "id": "efdffa19",
   "metadata": {},
   "source": [
    "# Заключение"
   ]
  },
  {
   "cell_type": "markdown",
   "id": "6835e96c",
   "metadata": {},
   "source": [
    "Таким образом, в ходе работы над проектом, по полученным результатам видно, что модель Extra Trees – лучший алгоритм для обнаружения фишинговых сообщений с учетом обучающего набора и выделяемых признаков. Точность 1 предполагает, что каждое нефишинговое письмо будет корректно идентифицировано и не попадет в папку со спамом, если это будет реализовано в реальном решении.\n",
    "\n",
    "Алгоритм Extra Trees показал наивысший, среди других моделей, результат приблизительно равный 0,98. Соответственно, существует вероятность того, что небольшая часть фишинговых сообщений всё же попадет в почтовый ящик незамеченной. В случае со случайным лесом – около 2 из 100 фишинговых писем останутся незамеченными. При дополнительной проверке данный алгоритм всё также показал наивысшую точность классификации приблизительно равную 0,935. На данном наборе около 6-7 из 100 фишинговых писем остались незамеченными.\n",
    "\n",
    "Необходимость предобработки данных и выделения признаков для классификации может влиять на производительность.\n",
    "Стоит отметить, что нам удалось достичь лучших показателей точности выбранного классификатора для дополнительных наборов фишинговых сообщений путем подбора и явного указания гиперпараметров.\n",
    "Учитывая тенденции использования фишингового подхода среди злоумышленников, ожидаются все более изощренные способы обмана пользователей. Поэтому необходимо постоянно пополнять хранилище детектированных фишинговых сообщения с целью повышения качества классификации данного типа угроз информационной безопасности."
   ]
  },
  {
   "cell_type": "markdown",
   "id": "6eea3076",
   "metadata": {},
   "source": [
    "# Список используемых источников"
   ]
  },
  {
   "cell_type": "markdown",
   "id": "204598a6",
   "metadata": {},
   "source": [
    "1. Спам и фишинг в 2022 году // https://securelist.ru/ : сайт. - URL: https://securelist.ru/spam-phishing-scam-report-2022/106719/ (дата обращения: 20.03.2023);\n",
    "1. Лаборатория Касперского\" заблокировала 800 тыс. русских фишинговых писем в 2022 году // https://tass.ru/ : сайт. - URL: https://tass.ru/obschestvo/14635485 (дата обращения: 20.03.2023);\n",
    "1. Как угнать данные за 15 минут // https://habr.com/ : сайт. - URL: https://habr.com/ru/companies/pt/articles/728170/ (дата обращения: 20.04.2023);\n",
    "1. Enron Dataset // https://www.cs.cmu.edu/ : сайт. - URL: https://www.cs.cmu.edu/~enron/ (дата обращения: 20.03.2023);\n",
    "1. Nazario Datasets // https://www.monkey.org/ : сайт. - URL: https://www.monkey.org/~jose/phishing/ (дата обращения: 20.03.2023);\n",
    "1. Искусственный интеллект: технологии и применение // https://rdc.grfc.ru/ : сайт. - URL: https://rdc.grfc.ru/2020/12/aitech/ (дата обращения: 20.03.2023);\n",
    "1. Фишинговые письма // https://phishman.ru/ : сайт. - URL: https://phishman.ru/blog/phishing-emails (дата обращения: 20.03.2023);\n",
    "1. Не дайте себя обмануть - 7 признаков фишинговых писем // https://vc.ru : сайт. - URL: https://vc.ru/services/119070-ne-dayte-sebya-obmanut-7-priznakov-fishingovyh-pisem (дата обращения: 20.03.2023);\n",
    "1. Keras и Tensorflow - классификация текста // https://cloud.croc.ru/ : сайт. - URL: https://cloud.croc.ru/blog/about-technologies/keras-i-tensorflow-klassifikatsiya-teksta/ (дата обращения: 20.03.2023).\n"
   ]
  }
 ],
 "metadata": {
  "kernelspec": {
   "display_name": "Python 3 (ipykernel)",
   "language": "python",
   "name": "python3"
  },
  "language_info": {
   "codemirror_mode": {
    "name": "ipython",
    "version": 3
   },
   "file_extension": ".py",
   "mimetype": "text/x-python",
   "name": "python",
   "nbconvert_exporter": "python",
   "pygments_lexer": "ipython3",
   "version": "3.10.9"
  }
 },
 "nbformat": 4,
 "nbformat_minor": 5
}
