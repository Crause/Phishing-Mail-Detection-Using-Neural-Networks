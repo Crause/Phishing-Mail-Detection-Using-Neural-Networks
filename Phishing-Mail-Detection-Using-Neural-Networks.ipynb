{
 "cells": [
  {
   "cell_type": "markdown",
   "id": "d4e23bd7",
   "metadata": {},
   "source": [
    "# Проектная работа по дисциплине \"Теория обнаружения вторжений с применением искусственного интеллекта\""
   ]
  },
  {
   "cell_type": "markdown",
   "id": "0a11c1f5",
   "metadata": {},
   "source": [
    "#### Тема проекта: \"Обнаружение фишинговых сообщений с помощью нейронных сетей\"\n",
    "#### Команда, работающая над проектом, представлена группой студентов:\n",
    "- **ББМО-02-22 Кузьмин Владимир Дмитриевич**\n",
    "- ББМО-02-22 Исаев Александр Михайлович\n",
    "- ББМО-01-22 Загороднов Егор Алексеевич\n",
    "- ББМО-01-22 Карев Даниил Павлович"
   ]
  },
  {
   "cell_type": "markdown",
   "id": "e3474f14",
   "metadata": {},
   "source": [
    "# Актуальность\n",
    "В 2022 году количество фишинговых атак заметно выросло. Система «Антифишинг» пресекла 507 851 735 попыток перехода по фишинговым ссылкам – это примерно вдвое больше, чем в 2021-м.\n",
    "\n",
    "В последнее время мы наблюдаем увеличение количества целевых фишинговых атак, при которых мошенники переходят к самой фишинговой атаке не сразу, а после нескольких «ознакомительных» писем, в которых активно переписываются с жертвой. Скорее всего, эта тенденция продолжится. Также вероятно появление в 2023 году новых уловок в корпоративном секторе, атаки на который приносят злоумышленникам значительную прибыль [1].\n",
    "\n",
    "С января по апрель 2022 года защитные решения \"Лаборатории Касперского\" заблокировали более 800 тысяч фишинговых писем на русском языке с вредоносными HTML-вложениями, почти половину из них - в марте. Такой метод представляет собой продвинутый с технической точки зрения и распространенный прием для выманивания данных пользователей, в том числе платежных [2]. "
   ]
  },
  {
   "cell_type": "markdown",
   "id": "36fc98c2",
   "metadata": {},
   "source": [
    "# Объект и предмет исследования\n",
    "Объектом исследования данной работы является классификация фишинговых сообщений. Предметом исследования является создание и обучение нейронной сети для классификации фишинговых сообщений."
   ]
  },
  {
   "cell_type": "markdown",
   "id": "c0dd5c73",
   "metadata": {},
   "source": [
    "# Методы исследования\n",
    "В ходе работы над проектом будут использованы такие методы исследования, как эмпирические, так и теоретические."
   ]
  },
  {
   "cell_type": "markdown",
   "id": "36a1c92a",
   "metadata": {},
   "source": [
    "# Цель и задачи\n",
    "Таким образом, цель данной работы – обнаружение фишинговых сообщений с помощью нейронных сетей.\n",
    "Для достижения поставленной цели необходимо выполнить следующие задачи:\n",
    "\n",
    "1. Подготовить данные для обучения;\n",
    "1. Предобработать данные;\n",
    "1. Подготовить наборы для обучения и тестирования;\n",
    "1. Произвести обучение;\n",
    "1. Обработать данные результатов обучения;\n",
    "1. Протестировать обученную модель;\n",
    "1. Повторить предыдущие этапы для различных моделей;\n",
    "1. Выбрать наилучшую модель для достижения цели работы."
   ]
  },
  {
   "cell_type": "markdown",
   "id": "a4df9e37",
   "metadata": {},
   "source": [
    "# Основная часть\n",
    "#### Для обучения и тестирования модели будут использованы следующие датасеты:\n",
    "- Nazario (фишинговые сообщения);\n",
    "- Enron (легитимные сообщения).\n",
    "#### Признаки, на основе которых будет происходить обучение моделей:\n",
    "- длина почты отправителя;\n",
    "- количество точек в почте отправителя;\n",
    "- количество тире в почте отправителя;\n",
    "- количество специальных символов в почте отправителя;\n",
    "- количество цифр в почте отправителя;\n",
    "- количество поддоменов в почте отправителя;\n",
    "- количество ссылок;\n",
    "- количество точек в ссылках;\n",
    "- количество тире в ссылках;\n",
    "- количество специальных символов в ссылках;\n",
    "- наличие IP-адреса в ссылках;\n",
    "- количество IP-адресов в ссылках;\n",
    "- количество https ссылок;\n",
    "- количество вложений;\n",
    "- класс;\n",
    "- количество часто встречаемых слов в фишинговых сообщениях."
   ]
  },
  {
   "cell_type": "markdown",
   "id": "34c3fb70",
   "metadata": {},
   "source": [
    "## Библиотеки\n",
    "Импортируем необходимые библиотеки для предобработки данных"
   ]
  },
  {
   "cell_type": "code",
   "execution_count": 1,
   "id": "92e256ab",
   "metadata": {},
   "outputs": [],
   "source": [
    "#при необходимости установить недостающие библиотеки\n",
    "#%pip install keras\n",
    "#%pip install tensorflow"
   ]
  },
  {
   "cell_type": "code",
   "execution_count": 2,
   "id": "8d374113",
   "metadata": {},
   "outputs": [],
   "source": [
    "import re\n",
    "import os\n",
    "import nltk\n",
    "import string\n",
    "import mailbox\n",
    "import pandas as pd\n",
    "import numpy as np\n",
    "import keras\n",
    "from bs4 import BeautifulSoup\n",
    "from collections import Counter\n",
    "from nltk.corpus import stopwords\n",
    "from email.header import decode_header\n",
    "from nltk.tokenize import word_tokenize\n",
    "#модуль для разбиения датасета на обучающую и тестовую выборки\n",
    "from sklearn.model_selection import train_test_split\n",
    "#модель случайные леса\n",
    "from sklearn.ensemble import RandomForestClassifier\n",
    "#модель адабуст\n",
    "from sklearn.ensemble import AdaBoostClassifier\n",
    "#модель к-ближайших соседей\n",
    "from sklearn.neighbors import KNeighborsClassifier\n",
    "#модель бэггинга\n",
    "from sklearn.ensemble import BaggingClassifier\n",
    "#модель ExtraTrees\n",
    "from sklearn.ensemble import ExtraTreesClassifier\n",
    "#модель дерева решений\n",
    "from sklearn.tree import DecisionTreeClassifier\n",
    "#модель логистической регрессии\n",
    "from sklearn.linear_model import LogisticRegression\n",
    "#модель опорных векторов\n",
    "from sklearn.svm import SVC\n",
    "#модель наивного байеса\n",
    "from sklearn.naive_bayes import MultinomialNB\n",
    "#многослойный персептрон\n",
    "from keras.models import Sequential\n",
    "from keras.layers import Dense, Activation, Dropout\n",
    "#метрики для моделей\n",
    "from sklearn.metrics import accuracy_score, precision_score\n",
    "#модуль голосования классификаторов\n",
    "from sklearn.ensemble import VotingClassifier\n",
    "#библиотека визуализации\n",
    "import matplotlib.pyplot as plt\n",
    "#библиотека для сохранения и загрузки моделей\n",
    "import joblib"
   ]
  },
  {
   "cell_type": "markdown",
   "id": "b017f9e5",
   "metadata": {},
   "source": [
    "## Предобработка\n",
    "Предобработаем текст для дальнейшего обучения"
   ]
  },
  {
   "cell_type": "markdown",
   "id": "aa813da7",
   "metadata": {},
   "source": [
    "Получаем датасеты с легитимными и фишинговыми письмами"
   ]
  },
  {
   "cell_type": "code",
   "execution_count": 3,
   "id": "e745dee7",
   "metadata": {},
   "outputs": [],
   "source": [
    "phishing_emails = mailbox.mbox('./Datasets/nazario-phishing.mbox')\n",
    "valid_emails = mailbox.mbox('./Datasets/enron-legal.mbox')"
   ]
  },
  {
   "cell_type": "code",
   "execution_count": 4,
   "id": "c586ac9b",
   "metadata": {},
   "outputs": [],
   "source": [
    "#загрузим стоп-слова\n",
    "#nltk.download('stopwords') \n",
    "#загрузим символы пунктуации\n",
    "#nltk.download('punkt')"
   ]
  },
  {
   "cell_type": "markdown",
   "id": "d37b5734",
   "metadata": {},
   "source": [
    "Объявим класс, в котором будем парсить письма, разбивая их на части"
   ]
  },
  {
   "cell_type": "code",
   "execution_count": 5,
   "id": "dfdb4e28",
   "metadata": {},
   "outputs": [],
   "source": [
    "class EmailParser:\n",
    "    #зададим регулярные выражения для определения ссылок и адресов почты\n",
    "    urlRegex = r'https?:\\/\\/(?:www\\.)?[-a-zA-Z0-9@:%._\\+~#=]{1,256}\\.[a-zA-Z0-9()]{1,6}\\b(?:[-a-zA-Z0-9()@:%_\\+.~#?&\\/=;]*)'\n",
    "    emailRegex = r'([a-zA-Z0-9._-]+@[a-zA-Z0-9._-]+\\.[a-zA-Z0-9_-]+)'\n",
    "    \n",
    "    #конструктор класса\n",
    "    def __init__(self, email):\n",
    "        #получаем на вход письмо\n",
    "        self.email = email\n",
    "        #запускаем функцию разбиения письма на части\n",
    "        self.__extract_email_parts()\n",
    "    \n",
    "    #функция разбиения письма на части\n",
    "    def __extract_email_parts(self):\n",
    "        #количество вложений\n",
    "        no_of_attachments = 0\n",
    "        #текст сообщения\n",
    "        text = str(self.email['Subject']) + \" \"\n",
    "        #html код сообщения\n",
    "        htmlDoc = \"\"\n",
    "        #проходимся по частям письма\n",
    "        for part in self.email.walk():\n",
    "            #определяем тип содержимого\n",
    "            content_type = part.get_content_type()\n",
    "            #если сообщение представлено обычным текстом\n",
    "            if content_type == 'text/plain':\n",
    "                #записываем в текст\n",
    "                text += str(part.get_payload())\n",
    "            #если сообщение представлено html кодом\n",
    "            elif content_type == 'text/html':\n",
    "                #записываем в html\n",
    "                htmlDoc += part.get_payload()\n",
    "            #в остальных случаях\n",
    "            else:\n",
    "                #смотрим основной тип содержимого\n",
    "                main_content_type = part.get_content_maintype()\n",
    "                #если представлен изображением или приложением\n",
    "                if main_content_type in ['image','application']:\n",
    "                    #считаем как вложение\n",
    "                    no_of_attachments += 1\n",
    "        #передаем полученные значения в переменные класса\n",
    "        self.text, self.html, self.no_of_attachments = text, htmlDoc, no_of_attachments\n",
    "    \n",
    "    #ищем ссылки\n",
    "    def get_urls(self):\n",
    "        #регулярным выражением выуживаем ссылки из текст сообщения\n",
    "        text_urls = set(re.findall(EmailParser.urlRegex,self.text))\n",
    "        #и из html-кода\n",
    "        html_urls = set(re.findall(EmailParser.urlRegex,self.html))\n",
    "        #возвращаем результат в виде списка найденных ссылок\n",
    "        return list(text_urls.union(html_urls))\n",
    "    \n",
    "    #получаем текст сообщения\n",
    "    def get_email_text(self):\n",
    "        #если письмо несет в себе тип html-кода\n",
    "        if(self.html != \"\"):\n",
    "            #парсим код классом BeautifulSoup\n",
    "            soup = BeautifulSoup(self.html)\n",
    "            #выуживаем текст из кода\n",
    "            self.text += soup.text\n",
    "        #возвращаем результат собранного текста\n",
    "        return self.text\n",
    "    \n",
    "    #функция, возвращающая количество вложений\n",
    "    def get_no_of_attachments(self):\n",
    "        return self.no_of_attachments\n",
    "    \n",
    "    #получаем почту отправителя\n",
    "    def get_sender_email_address(self):\n",
    "        sender = email['From']\n",
    "        try:\n",
    "            #пытаемся регулярным выражением выудить почту отправителя\n",
    "            emails = re.findall(EmailParser.emailRegex, sender)\n",
    "        except:\n",
    "            #если регуляркой не вышло, пробуем через байтовое представление\n",
    "            h = decode_header(email['From'])\n",
    "            header_bytes = h[0][0]\n",
    "            sender = header_bytes.decode('ISO-8859-1')\n",
    "            emails = re.findall(EmailParser.emailRegex, sender)\n",
    "        #возвращаем результат\n",
    "        if(len(emails) != 0):\n",
    "            return emails[len(emails)-1]\n",
    "        else:\n",
    "            return ''"
   ]
  },
  {
   "cell_type": "markdown",
   "id": "2f224376",
   "metadata": {},
   "source": [
    "Объявим класс, в котором будем обрабатывать текст сообщения"
   ]
  },
  {
   "cell_type": "code",
   "execution_count": 6,
   "id": "fc17390f",
   "metadata": {},
   "outputs": [],
   "source": [
    "class StringUtil:\n",
    "    #объявим регулярные выражения для выуживания\n",
    "    #точек\n",
    "    dotRegex = r'\\.'\n",
    "    #цифр\n",
    "    digitsRegex = r'[0-9]'\n",
    "    #ip-адресов\n",
    "    ipAddressRegex = r'(?:[0-9]{1,3}\\.){3}[0-9]{1,3}'\n",
    "    #тире\n",
    "    dashesRegex = r'-'\n",
    "    #специальных символов\n",
    "    specialCharsRegex = r'[()@:%_\\+~#?\\=;]'\n",
    "    \n",
    "    #объявим счетчик слов\n",
    "    words = Counter()\n",
    "    #зафиксируем стоп-слова для английского языка\n",
    "    stop_words = set(stopwords.words('english'))\n",
    "    #инициализируем класс Портера Стеммера\n",
    "    stemmer = nltk.PorterStemmer()\n",
    "    #выделим символы пунктуации\n",
    "    #punctuations = ['!','@','#','$','%','^','&','*','(',')','-','_','=','+',';',':',\"'\",'\"','?','/','<','>','.',',','/','~','`']\n",
    "    \n",
    "    #объявим функцию обработки ссылок\n",
    "    def process_urls(self,urls):\n",
    "        #объявим переменные, которые будут нашими признаками\n",
    "        noOfDots, noOfDashes, noOfSpecialChars, hasIpAddressInUrl, noOfIpAddress, noOfHttpsLinks = 0,0,0,0,0,0\n",
    "        #обрабатываем все ссылки\n",
    "        for url in urls:\n",
    "            #если ссылка начинается с https://\n",
    "            if url.startswith('https://'):\n",
    "                #считаем ссылки\n",
    "                noOfHttpsLinks += 1\n",
    "            #считаем количетсво точек\n",
    "            noOfDots += len(re.findall(StringUtil.dotRegex,url))\n",
    "            #считаем количество тире\n",
    "            noOfDashes += len(re.findall(StringUtil.dashesRegex,url))\n",
    "            #считаем количество специальных символов\n",
    "            noOfSpecialChars += len(re.findall(StringUtil.specialCharsRegex,url))\n",
    "            #считаем количество ip-адресов\n",
    "            noOfIpAddress += len(re.findall(StringUtil.ipAddressRegex, url))\n",
    "        #если ip-адреса были найдены\n",
    "        if noOfIpAddress > 0:\n",
    "            #фиксируем наличие ip-адресов в ссылках\n",
    "            hasIpAddressInUrl = 1\n",
    "        #возвращаем собранные признаки\n",
    "        return len(urls), noOfDots, noOfDashes, noOfSpecialChars, hasIpAddressInUrl, noOfIpAddress, noOfHttpsLinks\n",
    "    \n",
    "    #объявим функцию обработки текста\n",
    "    def process_text(self, text):\n",
    "        #приведем текст в нижнему регистру\n",
    "        text = text.lower()\n",
    "        #удалим из текста символы переноса курсора\n",
    "        text = re.sub(r'[\\n\\t\\r]', ' ', text)\n",
    "        \n",
    "        #удаляем пунктуацию\n",
    "        punctuation = string.punctuation  #получаем все символы пунктуации\n",
    "        translator = str.maketrans('', '', punctuation + string.digits)  #создаем транслятор\n",
    "        text = text.translate(translator)  #удаляем пунктуацию и цифры транслятором\n",
    "\n",
    "        #выделим токены из текста\n",
    "        word_tokens = word_tokenize(text)\n",
    "        filtered_text = []\n",
    "        for w in word_tokens:\n",
    "            #исключим стоп-слова\n",
    "            if w not in StringUtil.stop_words:\n",
    "                filtered_text.append(w)\n",
    "        \n",
    "        #счетчик частоты слов\n",
    "        word_counts = Counter(filtered_text)\n",
    "        stemmed_word_count = Counter()\n",
    "        for word, count in word_counts.items():\n",
    "            #обрабатываем каждое слово алгоритмом стемминга\n",
    "            stemmed_word = StringUtil.stemmer.stem(word)\n",
    "            #считаем количество таких слов\n",
    "            stemmed_word_count[stemmed_word] += count\n",
    "        word_counts = stemmed_word_count\n",
    "        StringUtil.words += word_counts\n",
    "        return word_counts\n",
    "    \n",
    "    #объявим функцию обработки почты отправителя\n",
    "    def process_email_address(self, emailid):\n",
    "        #объявим переменные, которые будут нашими признаками\n",
    "        length, noOfDots, noOfDashes, noOfSpecialChars, noOfDigits, noOfSubdomains = 0,0,0,0,0,0\n",
    "        \n",
    "        #определяем длину почты\n",
    "        length = len(emailid)\n",
    "        #если длина почты больше 0\n",
    "        if(length > 0):\n",
    "            #фиксируем пользователя и почтовый домен\n",
    "            username, domain = emailid.split('@')\n",
    "            #считаем количество поддоменов\n",
    "            noOfSubdomains = len(re.findall(StringUtil.dotRegex,domain)) - 1\n",
    "            #считаем количество точек\n",
    "            noOfDots = len(re.findall(StringUtil.dotRegex, username))\n",
    "            #считаем количество специальных символов\n",
    "            noOfSpecialChars = len(re.findall(StringUtil.specialCharsRegex, username))\n",
    "            #считаем количество тире\n",
    "            noOfDashes = len(re.findall(StringUtil.dashesRegex, emailid))\n",
    "            #считаем количество цифр\n",
    "            noOfDigits = len(re.findall(StringUtil.digitsRegex, emailid))\n",
    "        #возвращаем полученные признаки\n",
    "        return length, noOfDots, noOfDashes, noOfSpecialChars, noOfDigits, noOfSubdomains\n",
    "    \n",
    "    #функция, возвращающая 1000 самый часто встречаемых слов\n",
    "    def get_most_common_words(self):\n",
    "        return StringUtil.words.most_common(1000)"
   ]
  },
  {
   "cell_type": "markdown",
   "id": "4901b190",
   "metadata": {},
   "source": [
    "Определим первый датафрейм из фишинговых сообщений"
   ]
  },
  {
   "cell_type": "code",
   "execution_count": 7,
   "id": "a4d56f28",
   "metadata": {},
   "outputs": [],
   "source": [
    "df1 = pd.DataFrame(columns=['text', 'lengthOfEmailId', 'noOfDotsInEmailId', 'noOfDashesInEmailId', 'noOfSpecialCharsInEmailId', 'noOfDigitsInEmailId', 'noOfSubdomainsInEmailId', 'noOfUrls', 'noOfDotsInUrls', 'noOfDashesInUrls', 'noOfSpecialCharsInUrls', 'hasIpAddressInUrls', 'noOfIpAddressInUrls', 'noOfHttpsLinks','no_of_attachments','class_label'])\n",
    "stringUtil = StringUtil()\n",
    "\n",
    "for email in phishing_emails:\n",
    "    #парсим каждое фишинговое письмо\n",
    "    emailParser = EmailParser(email)\n",
    "    #определяем количество вложений\n",
    "    no_of_attachments = emailParser.get_no_of_attachments()\n",
    "    #определяем признаки почты отправителя\n",
    "    emailid_features = stringUtil.process_email_address(emailParser.get_sender_email_address())\n",
    "    #определяем признаки ссылок\n",
    "    urls_features = stringUtil.process_urls(emailParser.get_urls())\n",
    "    #выделяем количество слов стемминга\n",
    "    word_dict = stringUtil.process_text(emailParser.get_email_text())\n",
    "    #заполняем датафрейм\n",
    "    df1.loc[len(df1)] = [word_dict, emailid_features[0], emailid_features[1], emailid_features[2], emailid_features[3], emailid_features[4], emailid_features[5], urls_features[0],urls_features[1],urls_features[2],urls_features[3],urls_features[4],urls_features[5], urls_features[6], no_of_attachments, 1]\n",
    "\n",
    "#определяем самые часто встречаемые слова из фишинговых сообщений\n",
    "malicious_words = stringUtil.get_most_common_words()"
   ]
  },
  {
   "cell_type": "markdown",
   "id": "8d2f2e05",
   "metadata": {},
   "source": [
    "Взглянем на содержимое датафрейма"
   ]
  },
  {
   "cell_type": "code",
   "execution_count": 8,
   "id": "ab33c216",
   "metadata": {},
   "outputs": [
    {
     "data": {
      "text/html": [
       "<div>\n",
       "<style scoped>\n",
       "    .dataframe tbody tr th:only-of-type {\n",
       "        vertical-align: middle;\n",
       "    }\n",
       "\n",
       "    .dataframe tbody tr th {\n",
       "        vertical-align: top;\n",
       "    }\n",
       "\n",
       "    .dataframe thead th {\n",
       "        text-align: right;\n",
       "    }\n",
       "</style>\n",
       "<table border=\"1\" class=\"dataframe\">\n",
       "  <thead>\n",
       "    <tr style=\"text-align: right;\">\n",
       "      <th></th>\n",
       "      <th>text</th>\n",
       "      <th>lengthOfEmailId</th>\n",
       "      <th>noOfDotsInEmailId</th>\n",
       "      <th>noOfDashesInEmailId</th>\n",
       "      <th>noOfSpecialCharsInEmailId</th>\n",
       "      <th>noOfDigitsInEmailId</th>\n",
       "      <th>noOfSubdomainsInEmailId</th>\n",
       "      <th>noOfUrls</th>\n",
       "      <th>noOfDotsInUrls</th>\n",
       "      <th>noOfDashesInUrls</th>\n",
       "      <th>noOfSpecialCharsInUrls</th>\n",
       "      <th>hasIpAddressInUrls</th>\n",
       "      <th>noOfIpAddressInUrls</th>\n",
       "      <th>noOfHttpsLinks</th>\n",
       "      <th>no_of_attachments</th>\n",
       "      <th>class_label</th>\n",
       "    </tr>\n",
       "  </thead>\n",
       "  <tbody>\n",
       "    <tr>\n",
       "      <th>0</th>\n",
       "      <td>{'import': 1, 'account': 1, 'notic': 1, 'south...</td>\n",
       "      <td>29</td>\n",
       "      <td>0</td>\n",
       "      <td>0</td>\n",
       "      <td>1</td>\n",
       "      <td>3</td>\n",
       "      <td>0</td>\n",
       "      <td>2</td>\n",
       "      <td>5</td>\n",
       "      <td>0</td>\n",
       "      <td>2</td>\n",
       "      <td>1</td>\n",
       "      <td>1</td>\n",
       "      <td>1</td>\n",
       "      <td>1</td>\n",
       "      <td>1</td>\n",
       "    </tr>\n",
       "    <tr>\n",
       "      <th>1</th>\n",
       "      <td>{'ebay': 9, 'account': 4, 'verif': 1, 'dear': ...</td>\n",
       "      <td>21</td>\n",
       "      <td>0</td>\n",
       "      <td>0</td>\n",
       "      <td>0</td>\n",
       "      <td>0</td>\n",
       "      <td>0</td>\n",
       "      <td>2</td>\n",
       "      <td>5</td>\n",
       "      <td>1</td>\n",
       "      <td>9</td>\n",
       "      <td>0</td>\n",
       "      <td>0</td>\n",
       "      <td>0</td>\n",
       "      <td>0</td>\n",
       "      <td>1</td>\n",
       "    </tr>\n",
       "    <tr>\n",
       "      <th>2</th>\n",
       "      <td>{'ebay': 2, 'account': 4, 'verif': 1, 'dear': ...</td>\n",
       "      <td>21</td>\n",
       "      <td>0</td>\n",
       "      <td>0</td>\n",
       "      <td>0</td>\n",
       "      <td>0</td>\n",
       "      <td>0</td>\n",
       "      <td>2</td>\n",
       "      <td>6</td>\n",
       "      <td>1</td>\n",
       "      <td>8</td>\n",
       "      <td>0</td>\n",
       "      <td>0</td>\n",
       "      <td>0</td>\n",
       "      <td>0</td>\n",
       "      <td>1</td>\n",
       "    </tr>\n",
       "    <tr>\n",
       "      <th>3</th>\n",
       "      <td>{'keybank': 2, 'custom': 2, 'confirm': 4, 'ide...</td>\n",
       "      <td>19</td>\n",
       "      <td>0</td>\n",
       "      <td>0</td>\n",
       "      <td>0</td>\n",
       "      <td>0</td>\n",
       "      <td>0</td>\n",
       "      <td>3</td>\n",
       "      <td>8</td>\n",
       "      <td>0</td>\n",
       "      <td>6</td>\n",
       "      <td>1</td>\n",
       "      <td>1</td>\n",
       "      <td>1</td>\n",
       "      <td>0</td>\n",
       "      <td>1</td>\n",
       "    </tr>\n",
       "    <tr>\n",
       "      <th>4</th>\n",
       "      <td>{'keybank': 2, 'custom': 2, 'confirm': 4, 'ide...</td>\n",
       "      <td>19</td>\n",
       "      <td>0</td>\n",
       "      <td>0</td>\n",
       "      <td>0</td>\n",
       "      <td>0</td>\n",
       "      <td>0</td>\n",
       "      <td>3</td>\n",
       "      <td>8</td>\n",
       "      <td>0</td>\n",
       "      <td>6</td>\n",
       "      <td>1</td>\n",
       "      <td>1</td>\n",
       "      <td>1</td>\n",
       "      <td>0</td>\n",
       "      <td>1</td>\n",
       "    </tr>\n",
       "  </tbody>\n",
       "</table>\n",
       "</div>"
      ],
      "text/plain": [
       "                                                text  lengthOfEmailId  \\\n",
       "0  {'import': 1, 'account': 1, 'notic': 1, 'south...               29   \n",
       "1  {'ebay': 9, 'account': 4, 'verif': 1, 'dear': ...               21   \n",
       "2  {'ebay': 2, 'account': 4, 'verif': 1, 'dear': ...               21   \n",
       "3  {'keybank': 2, 'custom': 2, 'confirm': 4, 'ide...               19   \n",
       "4  {'keybank': 2, 'custom': 2, 'confirm': 4, 'ide...               19   \n",
       "\n",
       "   noOfDotsInEmailId  noOfDashesInEmailId  noOfSpecialCharsInEmailId  \\\n",
       "0                  0                    0                          1   \n",
       "1                  0                    0                          0   \n",
       "2                  0                    0                          0   \n",
       "3                  0                    0                          0   \n",
       "4                  0                    0                          0   \n",
       "\n",
       "   noOfDigitsInEmailId  noOfSubdomainsInEmailId  noOfUrls  noOfDotsInUrls  \\\n",
       "0                    3                        0         2               5   \n",
       "1                    0                        0         2               5   \n",
       "2                    0                        0         2               6   \n",
       "3                    0                        0         3               8   \n",
       "4                    0                        0         3               8   \n",
       "\n",
       "   noOfDashesInUrls  noOfSpecialCharsInUrls  hasIpAddressInUrls  \\\n",
       "0                 0                       2                   1   \n",
       "1                 1                       9                   0   \n",
       "2                 1                       8                   0   \n",
       "3                 0                       6                   1   \n",
       "4                 0                       6                   1   \n",
       "\n",
       "   noOfIpAddressInUrls  noOfHttpsLinks  no_of_attachments  class_label  \n",
       "0                    1               1                  1            1  \n",
       "1                    0               0                  0            1  \n",
       "2                    0               0                  0            1  \n",
       "3                    1               1                  0            1  \n",
       "4                    1               1                  0            1  "
      ]
     },
     "execution_count": 8,
     "metadata": {},
     "output_type": "execute_result"
    }
   ],
   "source": [
    "df1.head()"
   ]
  },
  {
   "cell_type": "markdown",
   "id": "c7987f15",
   "metadata": {},
   "source": [
    "Определим второй датафрейм из легитимных сообщений"
   ]
  },
  {
   "cell_type": "code",
   "execution_count": 9,
   "id": "c2deacc0",
   "metadata": {},
   "outputs": [],
   "source": [
    "df2 = pd.DataFrame(columns=['text', 'lengthOfEmailId', 'noOfDotsInEmailId', 'noOfDashesInEmailId', 'noOfSpecialCharsInEmailId', 'noOfDigitsInEmailId', 'noOfSubdomainsInEmailId', 'noOfUrls', 'noOfDotsInUrls', 'noOfDashesInUrls', 'noOfSpecialCharsInUrls', 'hasIpAddressInUrls', 'noOfIpAddressInUrls', 'noOfHttpsLinks','no_of_attachments','class_label'])\n",
    "stringUtil = StringUtil()\n",
    "\n",
    "for email in valid_emails:\n",
    "    #парсим каждое легитимное письмо\n",
    "    emailParser = EmailParser(email)\n",
    "    #определяем количество вложений\n",
    "    no_of_attachments = emailParser.get_no_of_attachments()\n",
    "    #определяем признаки почты отправителя\n",
    "    emailid_features = stringUtil.process_email_address(emailParser.get_sender_email_address())\n",
    "    #определяем признаки ссылок\n",
    "    urls_features = stringUtil.process_urls(emailParser.get_urls())\n",
    "    #выделяем количество слов стемминга\n",
    "    word_dict = stringUtil.process_text(emailParser.get_email_text())\n",
    "    #заполняем датафрейм\n",
    "    df2.loc[len(df2)] = [word_dict, emailid_features[0], emailid_features[1], emailid_features[2], emailid_features[3], emailid_features[4], emailid_features[5], urls_features[0],urls_features[1],urls_features[2],urls_features[3],urls_features[4],urls_features[5], urls_features[6], no_of_attachments, 0]"
   ]
  },
  {
   "cell_type": "markdown",
   "id": "f1f75236",
   "metadata": {},
   "source": [
    "Взглянем на содержимое датафрейма"
   ]
  },
  {
   "cell_type": "code",
   "execution_count": 10,
   "id": "de5e614f",
   "metadata": {},
   "outputs": [
    {
     "data": {
      "text/html": [
       "<div>\n",
       "<style scoped>\n",
       "    .dataframe tbody tr th:only-of-type {\n",
       "        vertical-align: middle;\n",
       "    }\n",
       "\n",
       "    .dataframe tbody tr th {\n",
       "        vertical-align: top;\n",
       "    }\n",
       "\n",
       "    .dataframe thead th {\n",
       "        text-align: right;\n",
       "    }\n",
       "</style>\n",
       "<table border=\"1\" class=\"dataframe\">\n",
       "  <thead>\n",
       "    <tr style=\"text-align: right;\">\n",
       "      <th></th>\n",
       "      <th>text</th>\n",
       "      <th>lengthOfEmailId</th>\n",
       "      <th>noOfDotsInEmailId</th>\n",
       "      <th>noOfDashesInEmailId</th>\n",
       "      <th>noOfSpecialCharsInEmailId</th>\n",
       "      <th>noOfDigitsInEmailId</th>\n",
       "      <th>noOfSubdomainsInEmailId</th>\n",
       "      <th>noOfUrls</th>\n",
       "      <th>noOfDotsInUrls</th>\n",
       "      <th>noOfDashesInUrls</th>\n",
       "      <th>noOfSpecialCharsInUrls</th>\n",
       "      <th>hasIpAddressInUrls</th>\n",
       "      <th>noOfIpAddressInUrls</th>\n",
       "      <th>noOfHttpsLinks</th>\n",
       "      <th>no_of_attachments</th>\n",
       "      <th>class_label</th>\n",
       "    </tr>\n",
       "  </thead>\n",
       "  <tbody>\n",
       "    <tr>\n",
       "      <th>0</th>\n",
       "      <td>{'pay': 2, 'well': 1, 'perform': 1, 'bonus': 1...</td>\n",
       "      <td>23</td>\n",
       "      <td>1</td>\n",
       "      <td>0</td>\n",
       "      <td>0</td>\n",
       "      <td>0</td>\n",
       "      <td>0</td>\n",
       "      <td>0</td>\n",
       "      <td>0</td>\n",
       "      <td>0</td>\n",
       "      <td>0</td>\n",
       "      <td>0</td>\n",
       "      <td>0</td>\n",
       "      <td>0</td>\n",
       "      <td>0</td>\n",
       "      <td>0</td>\n",
       "    </tr>\n",
       "    <tr>\n",
       "      <th>1</th>\n",
       "      <td>{'trade': 2, 'profit': 1, 'p': 1, 'allen': 1, ...</td>\n",
       "      <td>23</td>\n",
       "      <td>1</td>\n",
       "      <td>0</td>\n",
       "      <td>0</td>\n",
       "      <td>0</td>\n",
       "      <td>0</td>\n",
       "      <td>0</td>\n",
       "      <td>0</td>\n",
       "      <td>0</td>\n",
       "      <td>0</td>\n",
       "      <td>0</td>\n",
       "      <td>0</td>\n",
       "      <td>0</td>\n",
       "      <td>0</td>\n",
       "      <td>0</td>\n",
       "    </tr>\n",
       "    <tr>\n",
       "      <th>2</th>\n",
       "      <td>{'bonu': 2, 'expect': 1, 'confidenti': 1, 'joh...</td>\n",
       "      <td>23</td>\n",
       "      <td>1</td>\n",
       "      <td>0</td>\n",
       "      <td>0</td>\n",
       "      <td>0</td>\n",
       "      <td>0</td>\n",
       "      <td>0</td>\n",
       "      <td>0</td>\n",
       "      <td>0</td>\n",
       "      <td>0</td>\n",
       "      <td>0</td>\n",
       "      <td>0</td>\n",
       "      <td>0</td>\n",
       "      <td>0</td>\n",
       "      <td>0</td>\n",
       "    </tr>\n",
       "    <tr>\n",
       "      <th>3</th>\n",
       "      <td>{'trade': 2, 'profit': 1, 'p': 1, 'allen': 1, ...</td>\n",
       "      <td>23</td>\n",
       "      <td>1</td>\n",
       "      <td>0</td>\n",
       "      <td>0</td>\n",
       "      <td>0</td>\n",
       "      <td>0</td>\n",
       "      <td>0</td>\n",
       "      <td>0</td>\n",
       "      <td>0</td>\n",
       "      <td>0</td>\n",
       "      <td>0</td>\n",
       "      <td>0</td>\n",
       "      <td>0</td>\n",
       "      <td>0</td>\n",
       "      <td>0</td>\n",
       "    </tr>\n",
       "    <tr>\n",
       "      <th>4</th>\n",
       "      <td>{'pay': 2, 'well': 1, 'perform': 1, 'bonus': 1...</td>\n",
       "      <td>23</td>\n",
       "      <td>1</td>\n",
       "      <td>0</td>\n",
       "      <td>0</td>\n",
       "      <td>0</td>\n",
       "      <td>0</td>\n",
       "      <td>0</td>\n",
       "      <td>0</td>\n",
       "      <td>0</td>\n",
       "      <td>0</td>\n",
       "      <td>0</td>\n",
       "      <td>0</td>\n",
       "      <td>0</td>\n",
       "      <td>0</td>\n",
       "      <td>0</td>\n",
       "    </tr>\n",
       "  </tbody>\n",
       "</table>\n",
       "</div>"
      ],
      "text/plain": [
       "                                                text  lengthOfEmailId  \\\n",
       "0  {'pay': 2, 'well': 1, 'perform': 1, 'bonus': 1...               23   \n",
       "1  {'trade': 2, 'profit': 1, 'p': 1, 'allen': 1, ...               23   \n",
       "2  {'bonu': 2, 'expect': 1, 'confidenti': 1, 'joh...               23   \n",
       "3  {'trade': 2, 'profit': 1, 'p': 1, 'allen': 1, ...               23   \n",
       "4  {'pay': 2, 'well': 1, 'perform': 1, 'bonus': 1...               23   \n",
       "\n",
       "   noOfDotsInEmailId  noOfDashesInEmailId  noOfSpecialCharsInEmailId  \\\n",
       "0                  1                    0                          0   \n",
       "1                  1                    0                          0   \n",
       "2                  1                    0                          0   \n",
       "3                  1                    0                          0   \n",
       "4                  1                    0                          0   \n",
       "\n",
       "   noOfDigitsInEmailId  noOfSubdomainsInEmailId  noOfUrls  noOfDotsInUrls  \\\n",
       "0                    0                        0         0               0   \n",
       "1                    0                        0         0               0   \n",
       "2                    0                        0         0               0   \n",
       "3                    0                        0         0               0   \n",
       "4                    0                        0         0               0   \n",
       "\n",
       "   noOfDashesInUrls  noOfSpecialCharsInUrls  hasIpAddressInUrls  \\\n",
       "0                 0                       0                   0   \n",
       "1                 0                       0                   0   \n",
       "2                 0                       0                   0   \n",
       "3                 0                       0                   0   \n",
       "4                 0                       0                   0   \n",
       "\n",
       "   noOfIpAddressInUrls  noOfHttpsLinks  no_of_attachments  class_label  \n",
       "0                    0               0                  0            0  \n",
       "1                    0               0                  0            0  \n",
       "2                    0               0                  0            0  \n",
       "3                    0               0                  0            0  \n",
       "4                    0               0                  0            0  "
      ]
     },
     "execution_count": 10,
     "metadata": {},
     "output_type": "execute_result"
    }
   ],
   "source": [
    "df2.head()"
   ]
  },
  {
   "cell_type": "markdown",
   "id": "383af72f",
   "metadata": {},
   "source": [
    "Объединяем датафреймы в общий набор"
   ]
  },
  {
   "cell_type": "code",
   "execution_count": 11,
   "id": "d621b3d2",
   "metadata": {},
   "outputs": [],
   "source": [
    "df = pd.concat([df1,df2],axis=0)"
   ]
  },
  {
   "cell_type": "markdown",
   "id": "cbf1294b",
   "metadata": {},
   "source": [
    "Заменим признак \"текст\" на признак \"самые часто встречаемые слова в фишинговых сообщениях\". Также сформируем отдельный датасет в формате \"часто встречаемые слова\", \"класс\" и сохраним в отдельный файл."
   ]
  },
  {
   "cell_type": "code",
   "execution_count": 12,
   "id": "ca126fd0",
   "metadata": {},
   "outputs": [],
   "source": [
    "df['noOfMaliciousWords'] = df['text'].apply(lambda x: len(set(x.keys()).intersection(set(dict(malicious_words).keys()))))\n",
    "df = df.drop(columns=['text'])"
   ]
  },
  {
   "cell_type": "markdown",
   "id": "9d677ef3",
   "metadata": {},
   "source": [
    "Взглянем на содержимое датафрейма"
   ]
  },
  {
   "cell_type": "code",
   "execution_count": 13,
   "id": "d370c8df",
   "metadata": {},
   "outputs": [
    {
     "data": {
      "text/html": [
       "<div>\n",
       "<style scoped>\n",
       "    .dataframe tbody tr th:only-of-type {\n",
       "        vertical-align: middle;\n",
       "    }\n",
       "\n",
       "    .dataframe tbody tr th {\n",
       "        vertical-align: top;\n",
       "    }\n",
       "\n",
       "    .dataframe thead th {\n",
       "        text-align: right;\n",
       "    }\n",
       "</style>\n",
       "<table border=\"1\" class=\"dataframe\">\n",
       "  <thead>\n",
       "    <tr style=\"text-align: right;\">\n",
       "      <th></th>\n",
       "      <th>lengthOfEmailId</th>\n",
       "      <th>noOfDotsInEmailId</th>\n",
       "      <th>noOfDashesInEmailId</th>\n",
       "      <th>noOfSpecialCharsInEmailId</th>\n",
       "      <th>noOfDigitsInEmailId</th>\n",
       "      <th>noOfSubdomainsInEmailId</th>\n",
       "      <th>noOfUrls</th>\n",
       "      <th>noOfDotsInUrls</th>\n",
       "      <th>noOfDashesInUrls</th>\n",
       "      <th>noOfSpecialCharsInUrls</th>\n",
       "      <th>hasIpAddressInUrls</th>\n",
       "      <th>noOfIpAddressInUrls</th>\n",
       "      <th>noOfHttpsLinks</th>\n",
       "      <th>no_of_attachments</th>\n",
       "      <th>class_label</th>\n",
       "      <th>noOfMaliciousWords</th>\n",
       "    </tr>\n",
       "  </thead>\n",
       "  <tbody>\n",
       "    <tr>\n",
       "      <th>0</th>\n",
       "      <td>29</td>\n",
       "      <td>0</td>\n",
       "      <td>0</td>\n",
       "      <td>1</td>\n",
       "      <td>3</td>\n",
       "      <td>0</td>\n",
       "      <td>2</td>\n",
       "      <td>5</td>\n",
       "      <td>0</td>\n",
       "      <td>2</td>\n",
       "      <td>1</td>\n",
       "      <td>1</td>\n",
       "      <td>1</td>\n",
       "      <td>1</td>\n",
       "      <td>1</td>\n",
       "      <td>6</td>\n",
       "    </tr>\n",
       "    <tr>\n",
       "      <th>1</th>\n",
       "      <td>21</td>\n",
       "      <td>0</td>\n",
       "      <td>0</td>\n",
       "      <td>0</td>\n",
       "      <td>0</td>\n",
       "      <td>0</td>\n",
       "      <td>2</td>\n",
       "      <td>5</td>\n",
       "      <td>1</td>\n",
       "      <td>9</td>\n",
       "      <td>0</td>\n",
       "      <td>0</td>\n",
       "      <td>0</td>\n",
       "      <td>0</td>\n",
       "      <td>1</td>\n",
       "      <td>46</td>\n",
       "    </tr>\n",
       "    <tr>\n",
       "      <th>2</th>\n",
       "      <td>21</td>\n",
       "      <td>0</td>\n",
       "      <td>0</td>\n",
       "      <td>0</td>\n",
       "      <td>0</td>\n",
       "      <td>0</td>\n",
       "      <td>2</td>\n",
       "      <td>6</td>\n",
       "      <td>1</td>\n",
       "      <td>8</td>\n",
       "      <td>0</td>\n",
       "      <td>0</td>\n",
       "      <td>0</td>\n",
       "      <td>0</td>\n",
       "      <td>1</td>\n",
       "      <td>28</td>\n",
       "    </tr>\n",
       "    <tr>\n",
       "      <th>3</th>\n",
       "      <td>19</td>\n",
       "      <td>0</td>\n",
       "      <td>0</td>\n",
       "      <td>0</td>\n",
       "      <td>0</td>\n",
       "      <td>0</td>\n",
       "      <td>3</td>\n",
       "      <td>8</td>\n",
       "      <td>0</td>\n",
       "      <td>6</td>\n",
       "      <td>1</td>\n",
       "      <td>1</td>\n",
       "      <td>1</td>\n",
       "      <td>0</td>\n",
       "      <td>1</td>\n",
       "      <td>70</td>\n",
       "    </tr>\n",
       "    <tr>\n",
       "      <th>4</th>\n",
       "      <td>19</td>\n",
       "      <td>0</td>\n",
       "      <td>0</td>\n",
       "      <td>0</td>\n",
       "      <td>0</td>\n",
       "      <td>0</td>\n",
       "      <td>3</td>\n",
       "      <td>8</td>\n",
       "      <td>0</td>\n",
       "      <td>6</td>\n",
       "      <td>1</td>\n",
       "      <td>1</td>\n",
       "      <td>1</td>\n",
       "      <td>0</td>\n",
       "      <td>1</td>\n",
       "      <td>70</td>\n",
       "    </tr>\n",
       "  </tbody>\n",
       "</table>\n",
       "</div>"
      ],
      "text/plain": [
       "   lengthOfEmailId  noOfDotsInEmailId  noOfDashesInEmailId  \\\n",
       "0               29                  0                    0   \n",
       "1               21                  0                    0   \n",
       "2               21                  0                    0   \n",
       "3               19                  0                    0   \n",
       "4               19                  0                    0   \n",
       "\n",
       "   noOfSpecialCharsInEmailId  noOfDigitsInEmailId  noOfSubdomainsInEmailId  \\\n",
       "0                          1                    3                        0   \n",
       "1                          0                    0                        0   \n",
       "2                          0                    0                        0   \n",
       "3                          0                    0                        0   \n",
       "4                          0                    0                        0   \n",
       "\n",
       "   noOfUrls  noOfDotsInUrls  noOfDashesInUrls  noOfSpecialCharsInUrls  \\\n",
       "0         2               5                 0                       2   \n",
       "1         2               5                 1                       9   \n",
       "2         2               6                 1                       8   \n",
       "3         3               8                 0                       6   \n",
       "4         3               8                 0                       6   \n",
       "\n",
       "   hasIpAddressInUrls  noOfIpAddressInUrls  noOfHttpsLinks  no_of_attachments  \\\n",
       "0                   1                    1               1                  1   \n",
       "1                   0                    0               0                  0   \n",
       "2                   0                    0               0                  0   \n",
       "3                   1                    1               1                  0   \n",
       "4                   1                    1               1                  0   \n",
       "\n",
       "   class_label  noOfMaliciousWords  \n",
       "0            1                   6  \n",
       "1            1                  46  \n",
       "2            1                  28  \n",
       "3            1                  70  \n",
       "4            1                  70  "
      ]
     },
     "execution_count": 13,
     "metadata": {},
     "output_type": "execute_result"
    }
   ],
   "source": [
    "df.head()"
   ]
  },
  {
   "cell_type": "markdown",
   "id": "d75b6ca2",
   "metadata": {},
   "source": [
    "Посмотрим на статистику датафрейма"
   ]
  },
  {
   "cell_type": "code",
   "execution_count": 14,
   "id": "9f31f951",
   "metadata": {},
   "outputs": [
    {
     "name": "stdout",
     "output_type": "stream",
     "text": [
      "<class 'pandas.core.frame.DataFrame'>\n",
      "Int64Index: 6558 entries, 0 to 4278\n",
      "Data columns (total 16 columns):\n",
      " #   Column                     Non-Null Count  Dtype\n",
      "---  ------                     --------------  -----\n",
      " 0   lengthOfEmailId            6558 non-null   int64\n",
      " 1   noOfDotsInEmailId          6558 non-null   int64\n",
      " 2   noOfDashesInEmailId        6558 non-null   int64\n",
      " 3   noOfSpecialCharsInEmailId  6558 non-null   int64\n",
      " 4   noOfDigitsInEmailId        6558 non-null   int64\n",
      " 5   noOfSubdomainsInEmailId    6558 non-null   int64\n",
      " 6   noOfUrls                   6558 non-null   int64\n",
      " 7   noOfDotsInUrls             6558 non-null   int64\n",
      " 8   noOfDashesInUrls           6558 non-null   int64\n",
      " 9   noOfSpecialCharsInUrls     6558 non-null   int64\n",
      " 10  hasIpAddressInUrls         6558 non-null   int64\n",
      " 11  noOfIpAddressInUrls        6558 non-null   int64\n",
      " 12  noOfHttpsLinks             6558 non-null   int64\n",
      " 13  no_of_attachments          6558 non-null   int64\n",
      " 14  class_label                6558 non-null   int64\n",
      " 15  noOfMaliciousWords         6558 non-null   int64\n",
      "dtypes: int64(16)\n",
      "memory usage: 871.0 KB\n"
     ]
    }
   ],
   "source": [
    "df.info()"
   ]
  },
  {
   "cell_type": "markdown",
   "id": "eb02872b",
   "metadata": {},
   "source": [
    "Ради оптимизации приведем значения датафрейма к типу данных int16"
   ]
  },
  {
   "cell_type": "code",
   "execution_count": 15,
   "id": "a88d19bb",
   "metadata": {},
   "outputs": [],
   "source": [
    "df = df.astype('int16')"
   ]
  },
  {
   "cell_type": "markdown",
   "id": "7a6683c3",
   "metadata": {},
   "source": [
    "Посмотрим статистику"
   ]
  },
  {
   "cell_type": "code",
   "execution_count": 16,
   "id": "3b03587f",
   "metadata": {},
   "outputs": [
    {
     "name": "stdout",
     "output_type": "stream",
     "text": [
      "<class 'pandas.core.frame.DataFrame'>\n",
      "Int64Index: 6558 entries, 0 to 4278\n",
      "Data columns (total 16 columns):\n",
      " #   Column                     Non-Null Count  Dtype\n",
      "---  ------                     --------------  -----\n",
      " 0   lengthOfEmailId            6558 non-null   int16\n",
      " 1   noOfDotsInEmailId          6558 non-null   int16\n",
      " 2   noOfDashesInEmailId        6558 non-null   int16\n",
      " 3   noOfSpecialCharsInEmailId  6558 non-null   int16\n",
      " 4   noOfDigitsInEmailId        6558 non-null   int16\n",
      " 5   noOfSubdomainsInEmailId    6558 non-null   int16\n",
      " 6   noOfUrls                   6558 non-null   int16\n",
      " 7   noOfDotsInUrls             6558 non-null   int16\n",
      " 8   noOfDashesInUrls           6558 non-null   int16\n",
      " 9   noOfSpecialCharsInUrls     6558 non-null   int16\n",
      " 10  hasIpAddressInUrls         6558 non-null   int16\n",
      " 11  noOfIpAddressInUrls        6558 non-null   int16\n",
      " 12  noOfHttpsLinks             6558 non-null   int16\n",
      " 13  no_of_attachments          6558 non-null   int16\n",
      " 14  class_label                6558 non-null   int16\n",
      " 15  noOfMaliciousWords         6558 non-null   int16\n",
      "dtypes: int16(16)\n",
      "memory usage: 256.2 KB\n"
     ]
    }
   ],
   "source": [
    "df.info()"
   ]
  },
  {
   "cell_type": "markdown",
   "id": "536a5fed",
   "metadata": {},
   "source": [
    "Сохраним датафрейм, чтобы больше не тратить время на предобработку данных"
   ]
  },
  {
   "cell_type": "code",
   "execution_count": 17,
   "id": "4010d6e3",
   "metadata": {},
   "outputs": [],
   "source": [
    "df.to_csv(\"./Data/data.csv\", sep=',')"
   ]
  },
  {
   "cell_type": "markdown",
   "id": "98251800",
   "metadata": {},
   "source": [
    "## Обучение"
   ]
  },
  {
   "cell_type": "markdown",
   "id": "a7830299",
   "metadata": {},
   "source": [
    "✔️Можем теперь начинать компиляцию отсюда (Необходимо лишь импортировать библиотеки в начале проекта)"
   ]
  },
  {
   "cell_type": "markdown",
   "id": "379e36b1",
   "metadata": {},
   "source": [
    "Загружаем обработанный датафрейм"
   ]
  },
  {
   "cell_type": "code",
   "execution_count": 18,
   "id": "1c44b123",
   "metadata": {
    "scrolled": true
   },
   "outputs": [
    {
     "data": {
      "text/html": [
       "<div>\n",
       "<style scoped>\n",
       "    .dataframe tbody tr th:only-of-type {\n",
       "        vertical-align: middle;\n",
       "    }\n",
       "\n",
       "    .dataframe tbody tr th {\n",
       "        vertical-align: top;\n",
       "    }\n",
       "\n",
       "    .dataframe thead th {\n",
       "        text-align: right;\n",
       "    }\n",
       "</style>\n",
       "<table border=\"1\" class=\"dataframe\">\n",
       "  <thead>\n",
       "    <tr style=\"text-align: right;\">\n",
       "      <th></th>\n",
       "      <th>lengthOfEmailId</th>\n",
       "      <th>noOfDotsInEmailId</th>\n",
       "      <th>noOfDashesInEmailId</th>\n",
       "      <th>noOfSpecialCharsInEmailId</th>\n",
       "      <th>noOfDigitsInEmailId</th>\n",
       "      <th>noOfSubdomainsInEmailId</th>\n",
       "      <th>noOfUrls</th>\n",
       "      <th>noOfDotsInUrls</th>\n",
       "      <th>noOfDashesInUrls</th>\n",
       "      <th>noOfSpecialCharsInUrls</th>\n",
       "      <th>hasIpAddressInUrls</th>\n",
       "      <th>noOfIpAddressInUrls</th>\n",
       "      <th>noOfHttpsLinks</th>\n",
       "      <th>no_of_attachments</th>\n",
       "      <th>class_label</th>\n",
       "      <th>noOfMaliciousWords</th>\n",
       "    </tr>\n",
       "  </thead>\n",
       "  <tbody>\n",
       "    <tr>\n",
       "      <th>0</th>\n",
       "      <td>29</td>\n",
       "      <td>0</td>\n",
       "      <td>0</td>\n",
       "      <td>1</td>\n",
       "      <td>3</td>\n",
       "      <td>0</td>\n",
       "      <td>2</td>\n",
       "      <td>5</td>\n",
       "      <td>0</td>\n",
       "      <td>2</td>\n",
       "      <td>1</td>\n",
       "      <td>1</td>\n",
       "      <td>1</td>\n",
       "      <td>1</td>\n",
       "      <td>1</td>\n",
       "      <td>6</td>\n",
       "    </tr>\n",
       "    <tr>\n",
       "      <th>1</th>\n",
       "      <td>21</td>\n",
       "      <td>0</td>\n",
       "      <td>0</td>\n",
       "      <td>0</td>\n",
       "      <td>0</td>\n",
       "      <td>0</td>\n",
       "      <td>2</td>\n",
       "      <td>5</td>\n",
       "      <td>1</td>\n",
       "      <td>9</td>\n",
       "      <td>0</td>\n",
       "      <td>0</td>\n",
       "      <td>0</td>\n",
       "      <td>0</td>\n",
       "      <td>1</td>\n",
       "      <td>46</td>\n",
       "    </tr>\n",
       "    <tr>\n",
       "      <th>2</th>\n",
       "      <td>21</td>\n",
       "      <td>0</td>\n",
       "      <td>0</td>\n",
       "      <td>0</td>\n",
       "      <td>0</td>\n",
       "      <td>0</td>\n",
       "      <td>2</td>\n",
       "      <td>6</td>\n",
       "      <td>1</td>\n",
       "      <td>8</td>\n",
       "      <td>0</td>\n",
       "      <td>0</td>\n",
       "      <td>0</td>\n",
       "      <td>0</td>\n",
       "      <td>1</td>\n",
       "      <td>28</td>\n",
       "    </tr>\n",
       "    <tr>\n",
       "      <th>3</th>\n",
       "      <td>19</td>\n",
       "      <td>0</td>\n",
       "      <td>0</td>\n",
       "      <td>0</td>\n",
       "      <td>0</td>\n",
       "      <td>0</td>\n",
       "      <td>3</td>\n",
       "      <td>8</td>\n",
       "      <td>0</td>\n",
       "      <td>6</td>\n",
       "      <td>1</td>\n",
       "      <td>1</td>\n",
       "      <td>1</td>\n",
       "      <td>0</td>\n",
       "      <td>1</td>\n",
       "      <td>70</td>\n",
       "    </tr>\n",
       "    <tr>\n",
       "      <th>4</th>\n",
       "      <td>19</td>\n",
       "      <td>0</td>\n",
       "      <td>0</td>\n",
       "      <td>0</td>\n",
       "      <td>0</td>\n",
       "      <td>0</td>\n",
       "      <td>3</td>\n",
       "      <td>8</td>\n",
       "      <td>0</td>\n",
       "      <td>6</td>\n",
       "      <td>1</td>\n",
       "      <td>1</td>\n",
       "      <td>1</td>\n",
       "      <td>0</td>\n",
       "      <td>1</td>\n",
       "      <td>70</td>\n",
       "    </tr>\n",
       "  </tbody>\n",
       "</table>\n",
       "</div>"
      ],
      "text/plain": [
       "   lengthOfEmailId  noOfDotsInEmailId  noOfDashesInEmailId  \\\n",
       "0               29                  0                    0   \n",
       "1               21                  0                    0   \n",
       "2               21                  0                    0   \n",
       "3               19                  0                    0   \n",
       "4               19                  0                    0   \n",
       "\n",
       "   noOfSpecialCharsInEmailId  noOfDigitsInEmailId  noOfSubdomainsInEmailId  \\\n",
       "0                          1                    3                        0   \n",
       "1                          0                    0                        0   \n",
       "2                          0                    0                        0   \n",
       "3                          0                    0                        0   \n",
       "4                          0                    0                        0   \n",
       "\n",
       "   noOfUrls  noOfDotsInUrls  noOfDashesInUrls  noOfSpecialCharsInUrls  \\\n",
       "0         2               5                 0                       2   \n",
       "1         2               5                 1                       9   \n",
       "2         2               6                 1                       8   \n",
       "3         3               8                 0                       6   \n",
       "4         3               8                 0                       6   \n",
       "\n",
       "   hasIpAddressInUrls  noOfIpAddressInUrls  noOfHttpsLinks  no_of_attachments  \\\n",
       "0                   1                    1               1                  1   \n",
       "1                   0                    0               0                  0   \n",
       "2                   0                    0               0                  0   \n",
       "3                   1                    1               1                  0   \n",
       "4                   1                    1               1                  0   \n",
       "\n",
       "   class_label  noOfMaliciousWords  \n",
       "0            1                   6  \n",
       "1            1                  46  \n",
       "2            1                  28  \n",
       "3            1                  70  \n",
       "4            1                  70  "
      ]
     },
     "execution_count": 18,
     "metadata": {},
     "output_type": "execute_result"
    }
   ],
   "source": [
    "df = pd.read_csv(\"./Data/data.csv\").drop('Unnamed: 0', axis=1)\n",
    "df.head()"
   ]
  },
  {
   "cell_type": "markdown",
   "id": "4a1d66fe",
   "metadata": {},
   "source": [
    "Разобьем датафрейм на обучающую и тестовую выборки"
   ]
  },
  {
   "cell_type": "code",
   "execution_count": 19,
   "id": "629fb10e",
   "metadata": {},
   "outputs": [],
   "source": [
    "x = df.drop(columns=[\"class_label\"]).values\n",
    "y = df[\"class_label\"].values\n",
    "\n",
    "x_train, x_test, y_train, y_test = train_test_split(x, y, random_state=34, test_size=0.2)"
   ]
  },
  {
   "cell_type": "markdown",
   "id": "0512ee63",
   "metadata": {},
   "source": [
    "#### Обучим набор классификаторов"
   ]
  },
  {
   "cell_type": "markdown",
   "id": "178f2a74",
   "metadata": {},
   "source": [
    "Инициализируем модели"
   ]
  },
  {
   "cell_type": "code",
   "execution_count": 20,
   "id": "260af6c4",
   "metadata": {},
   "outputs": [],
   "source": [
    "svc = SVC(kernel='sigmoid', gamma=1.0)\n",
    "knc = KNeighborsClassifier(n_neighbors=49)\n",
    "mnb = MultinomialNB(alpha=0.2)\n",
    "dtc = DecisionTreeClassifier(min_samples_split=7, random_state=111)\n",
    "lrc = LogisticRegression(solver='liblinear', penalty='l1')\n",
    "rfc = RandomForestClassifier(n_estimators=31, random_state=111)\n",
    "abc = AdaBoostClassifier(n_estimators=62, random_state=111)\n",
    "bc = BaggingClassifier(n_estimators=9, random_state=111)\n",
    "etc = ExtraTreesClassifier(n_estimators=9, random_state=111)"
   ]
  },
  {
   "cell_type": "markdown",
   "id": "f22a24da",
   "metadata": {},
   "source": [
    "Зафиксируем их в виде словаря"
   ]
  },
  {
   "cell_type": "code",
   "execution_count": 21,
   "id": "b104ffad",
   "metadata": {},
   "outputs": [],
   "source": [
    "clfs = {'SVC' : svc,'KN' : knc, 'NB': mnb, 'DT': dtc, 'LR': lrc, 'RF': rfc, 'AdaBoost': abc, 'BgC': bc, 'ETC': etc}"
   ]
  },
  {
   "cell_type": "markdown",
   "id": "aa4faf3e",
   "metadata": {},
   "source": [
    "Объявим функции обучения и классификации"
   ]
  },
  {
   "cell_type": "code",
   "execution_count": 22,
   "id": "912fc3f0",
   "metadata": {},
   "outputs": [],
   "source": [
    "#объявим функцию обучения классификаторов\n",
    "def train_classifier(clf, x_train, y_train):    \n",
    "    clf.fit(x_train, y_train)"
   ]
  },
  {
   "cell_type": "code",
   "execution_count": 23,
   "id": "82de5b03",
   "metadata": {},
   "outputs": [],
   "source": [
    "#объявим функцию классификации\n",
    "def predict_labels(clf, x):\n",
    "    return (clf.predict(x))"
   ]
  },
  {
   "cell_type": "markdown",
   "id": "a01ab1a4",
   "metadata": {},
   "source": [
    "Обучим и оценим классификаторы"
   ]
  },
  {
   "cell_type": "code",
   "execution_count": 24,
   "id": "91fe438e",
   "metadata": {},
   "outputs": [],
   "source": [
    "pred_dict={}\n",
    "#пробежимся по классификаторам\n",
    "for k,v in clfs.items():\n",
    "    #обучаем классификатор\n",
    "    train_classifier(v, x_train, y_train)\n",
    "    #сохраняем обученную модель\n",
    "    joblib.dump(v, './Models/' + k + '.pkl')\n",
    "    #классифицируем тестовые выборки\n",
    "    pred = predict_labels(v,x_test)\n",
    "    #записываем точность классификатора\n",
    "    pred_dict[k]=[accuracy_score(y_test,pred)]"
   ]
  },
  {
   "cell_type": "markdown",
   "id": "0402c154",
   "metadata": {},
   "source": [
    "✔️Можем теперь пропустить этап обучения набора классификаторов и загрузить их из файла"
   ]
  },
  {
   "cell_type": "code",
   "execution_count": 25,
   "id": "e32936eb",
   "metadata": {},
   "outputs": [],
   "source": [
    "clfs={}\n",
    "classifiers = ['SVC','KN', 'NB', 'DT', 'LR', 'RF', 'AdaBoost', 'BgC', 'ETC']\n",
    "pred_dict={}\n",
    "#пробежимся по классификаторам\n",
    "for k in classifiers:\n",
    "    #загрузим из файла обученную модель\n",
    "    clfs[k]=joblib.load('./Models/' + k + '.pkl')\n",
    "    #классифицируем тестовые выборки\n",
    "    pred = clfs[k].predict(x_test)\n",
    "    #записываем точность классификатора\n",
    "    pred_dict[k]=[accuracy_score(y_test,pred)]"
   ]
  },
  {
   "cell_type": "markdown",
   "id": "a6457bb6",
   "metadata": {},
   "source": [
    "Сформируем результирующую таблицу"
   ]
  },
  {
   "cell_type": "code",
   "execution_count": 26,
   "id": "7804a6d4",
   "metadata": {},
   "outputs": [
    {
     "data": {
      "text/html": [
       "<div>\n",
       "<style scoped>\n",
       "    .dataframe tbody tr th:only-of-type {\n",
       "        vertical-align: middle;\n",
       "    }\n",
       "\n",
       "    .dataframe tbody tr th {\n",
       "        vertical-align: top;\n",
       "    }\n",
       "\n",
       "    .dataframe thead th {\n",
       "        text-align: right;\n",
       "    }\n",
       "</style>\n",
       "<table border=\"1\" class=\"dataframe\">\n",
       "  <thead>\n",
       "    <tr style=\"text-align: right;\">\n",
       "      <th></th>\n",
       "      <th>Score</th>\n",
       "    </tr>\n",
       "  </thead>\n",
       "  <tbody>\n",
       "    <tr>\n",
       "      <th>SVC</th>\n",
       "      <td>0.669970</td>\n",
       "    </tr>\n",
       "    <tr>\n",
       "      <th>KN</th>\n",
       "      <td>0.938262</td>\n",
       "    </tr>\n",
       "    <tr>\n",
       "      <th>NB</th>\n",
       "      <td>0.936738</td>\n",
       "    </tr>\n",
       "    <tr>\n",
       "      <th>DT</th>\n",
       "      <td>0.962652</td>\n",
       "    </tr>\n",
       "    <tr>\n",
       "      <th>LR</th>\n",
       "      <td>0.951982</td>\n",
       "    </tr>\n",
       "    <tr>\n",
       "      <th>RF</th>\n",
       "      <td>0.975610</td>\n",
       "    </tr>\n",
       "    <tr>\n",
       "      <th>AdaBoost</th>\n",
       "      <td>0.964939</td>\n",
       "    </tr>\n",
       "    <tr>\n",
       "      <th>BgC</th>\n",
       "      <td>0.974085</td>\n",
       "    </tr>\n",
       "    <tr>\n",
       "      <th>ETC</th>\n",
       "      <td>0.972561</td>\n",
       "    </tr>\n",
       "  </tbody>\n",
       "</table>\n",
       "</div>"
      ],
      "text/plain": [
       "             Score\n",
       "SVC       0.669970\n",
       "KN        0.938262\n",
       "NB        0.936738\n",
       "DT        0.962652\n",
       "LR        0.951982\n",
       "RF        0.975610\n",
       "AdaBoost  0.964939\n",
       "BgC       0.974085\n",
       "ETC       0.972561"
      ]
     },
     "execution_count": 26,
     "metadata": {},
     "output_type": "execute_result"
    }
   ],
   "source": [
    "#объявляем датафрейм на основе собранной статистики по классификаторам\n",
    "res = pd.DataFrame.from_dict(pred_dict,orient='index', columns=['Score'])\n",
    "res"
   ]
  },
  {
   "cell_type": "markdown",
   "id": "9205facf",
   "metadata": {},
   "source": [
    "Визуализируем результаты"
   ]
  },
  {
   "cell_type": "code",
   "execution_count": 27,
   "id": "20263c3b",
   "metadata": {},
   "outputs": [
    {
     "data": {
      "text/plain": [
       "<matplotlib.legend.Legend at 0x23ebbc52e60>"
      ]
     },
     "execution_count": 27,
     "metadata": {},
     "output_type": "execute_result"
    },
    {
     "data": {
      "image/png": "[encoded data removed]",
      "text/plain": [
       "<Figure size 1100x600 with 1 Axes>"
      ]
     },
     "metadata": {},
     "output_type": "display_data"
    }
   ],
   "source": [
    "res.plot(kind='bar', ylim=(0.9,1.0), figsize=(11,6), align='center', colormap=\"Accent\")\n",
    "plt.xticks(np.arange(9), res.index)\n",
    "plt.ylabel('Accuracy Score')\n",
    "plt.title('Distribution by Classifier')\n",
    "plt.legend(bbox_to_anchor=(1.05, 1), loc=2, borderaxespad=0.)"
   ]
  },
  {
   "cell_type": "markdown",
   "id": "fbfb4b34",
   "metadata": {},
   "source": [
    "#### Обучим персептрон"
   ]
  },
  {
   "cell_type": "code",
   "execution_count": 28,
   "id": "08a7f303",
   "metadata": {},
   "outputs": [
    {
     "name": "stdout",
     "output_type": "stream",
     "text": [
      "Model: \"sequential\"\n",
      "_________________________________________________________________\n",
      " Layer (type)                Output Shape              Param #   \n",
      "=================================================================\n",
      " dense (Dense)               (None, 512)               8192      \n",
      "                                                                 \n",
      " activation (Activation)     (None, 512)               0         \n",
      "                                                                 \n",
      " dropout (Dropout)           (None, 512)               0         \n",
      "                                                                 \n",
      " dense_1 (Dense)             (None, 2)                 1026      \n",
      "                                                                 \n",
      " activation_1 (Activation)   (None, 2)                 0         \n",
      "                                                                 \n",
      "=================================================================\n",
      "Total params: 9,218\n",
      "Trainable params: 9,218\n",
      "Non-trainable params: 0\n",
      "_________________________________________________________________\n",
      "None\n"
     ]
    }
   ],
   "source": [
    "#настроим персептрон\n",
    "mlp_model = Sequential()\n",
    "mlp_model.add(Dense(512, input_shape=(df.shape[1]-1,)))\n",
    "mlp_model.add(Activation('relu'))\n",
    "mlp_model.add(Dropout(0.2))\n",
    "mlp_model.add(Dense(2))\n",
    "mlp_model.add(Activation('softmax'))\n",
    "\n",
    "mlp_model.compile(loss='sparse_categorical_crossentropy',\n",
    "              optimizer='adam',\n",
    "              metrics=['acc'])\n",
    "\n",
    "print(mlp_model.summary())"
   ]
  },
  {
   "cell_type": "code",
   "execution_count": 29,
   "id": "5656a1c4",
   "metadata": {
    "scrolled": true
   },
   "outputs": [
    {
     "name": "stdout",
     "output_type": "stream",
     "text": [
      "Epoch 1/10\n",
      "164/164 [==============================] - 1s 3ms/step - loss: 0.4467 - acc: 0.8933 - val_loss: 0.1981 - val_acc: 0.9489\n",
      "Epoch 2/10\n",
      "164/164 [==============================] - 0s 978us/step - loss: 0.2312 - acc: 0.9337 - val_loss: 0.1616 - val_acc: 0.9474\n",
      "Epoch 3/10\n",
      "164/164 [==============================] - 0s 982us/step - loss: 0.1990 - acc: 0.9443 - val_loss: 0.1170 - val_acc: 0.9627\n",
      "Epoch 4/10\n",
      "164/164 [==============================] - 0s 964us/step - loss: 0.1615 - acc: 0.9472 - val_loss: 0.1364 - val_acc: 0.9543\n",
      "Epoch 5/10\n",
      "164/164 [==============================] - 0s 964us/step - loss: 0.1550 - acc: 0.9499 - val_loss: 0.1284 - val_acc: 0.9543\n",
      "Epoch 6/10\n",
      "164/164 [==============================] - 0s 982us/step - loss: 0.1392 - acc: 0.9506 - val_loss: 0.1152 - val_acc: 0.9573\n",
      "Epoch 7/10\n",
      "164/164 [==============================] - 0s 964us/step - loss: 0.1194 - acc: 0.9577 - val_loss: 0.1004 - val_acc: 0.9672\n",
      "Epoch 8/10\n",
      "164/164 [==============================] - 0s 1ms/step - loss: 0.1217 - acc: 0.9550 - val_loss: 0.1035 - val_acc: 0.9642\n",
      "Epoch 9/10\n",
      "164/164 [==============================] - 0s 964us/step - loss: 0.1116 - acc: 0.9596 - val_loss: 0.0979 - val_acc: 0.9649\n",
      "Epoch 10/10\n",
      "164/164 [==============================] - 0s 970us/step - loss: 0.1137 - acc: 0.9577 - val_loss: 0.0945 - val_acc: 0.9680\n"
     ]
    }
   ],
   "source": [
    "#обучаем модель\n",
    "mlp_history = mlp_model.fit(x_train, y_train, batch_size=32, epochs=10, verbose=1, validation_data=(x_test, y_test))"
   ]
  },
  {
   "cell_type": "code",
   "execution_count": 30,
   "id": "c2c9d80c",
   "metadata": {},
   "outputs": [
    {
     "data": {
      "text/plain": [
       "['./Models/MLP.pkl']"
      ]
     },
     "execution_count": 30,
     "metadata": {},
     "output_type": "execute_result"
    }
   ],
   "source": [
    "#сохраняем обученную модель\n",
    "joblib.dump(mlp_model, './Models/MLP.pkl')"
   ]
  },
  {
   "cell_type": "markdown",
   "id": "6a1a2fed",
   "metadata": {},
   "source": [
    "✔️Можем теперь пропустить этап обучения персептрона и загрузить его из файла"
   ]
  },
  {
   "cell_type": "code",
   "execution_count": 31,
   "id": "1d8eea36",
   "metadata": {},
   "outputs": [],
   "source": [
    "#загрузим из файла обученную модель\n",
    "mlp_model=joblib.load('./Models/MLP.pkl')"
   ]
  },
  {
   "cell_type": "code",
   "execution_count": 32,
   "id": "25b7af8e",
   "metadata": {},
   "outputs": [
    {
     "name": "stdout",
     "output_type": "stream",
     "text": [
      "41/41 [==============================] - 0s 601us/step - loss: 0.0945 - acc: 0.9680\n",
      "loss: 0.09447290748357773\n",
      "accuracy: 0.9679877758026123\n"
     ]
    }
   ],
   "source": [
    "#валидируем\n",
    "score = mlp_model.evaluate(x_test, y_test, batch_size=32, verbose=1)\n",
    "print(u'loss: {}'.format(score[0]))\n",
    "print(u'accuracy: {}'.format(score[1]))"
   ]
  },
  {
   "cell_type": "code",
   "execution_count": 33,
   "id": "27892c9f",
   "metadata": {
    "scrolled": false
   },
   "outputs": [
    {
     "data": {
      "image/png": "[encoded data removed]",
      "text/plain": [
       "<Figure size 640x480 with 1 Axes>"
      ]
     },
     "metadata": {},
     "output_type": "display_data"
    },
    {
     "data": {
      "image/png": "[encoded data removed]",
      "text/plain": [
       "<Figure size 640x480 with 1 Axes>"
      ]
     },
     "metadata": {},
     "output_type": "display_data"
    }
   ],
   "source": [
    "#график точности модели\n",
    "plt.plot(mlp_history.history['acc'])\n",
    "plt.plot(mlp_history.history['val_acc'])\n",
    "plt.ylabel('accuracy')\n",
    "plt.xlabel('epoch')\n",
    "plt.legend(['train', 'test'], loc='center right')\n",
    "plt.show()\n",
    "#график потерь модели\n",
    "plt.plot(mlp_history.history['loss'])\n",
    "plt.plot(mlp_history.history['val_loss'])\n",
    "plt.ylabel('loss')\n",
    "plt.xlabel('epoch')\n",
    "plt.legend(['train', 'test'], loc='center right')\n",
    "plt.show()"
   ]
  },
  {
   "cell_type": "markdown",
   "id": "c1254a00",
   "metadata": {},
   "source": [
    "## Тестирование"
   ]
  },
  {
   "cell_type": "markdown",
   "id": "438610b3",
   "metadata": {},
   "source": [
    "Попробуем протестировать модели на дополнительных датасетах"
   ]
  },
  {
   "cell_type": "code",
   "execution_count": 34,
   "id": "953e5913",
   "metadata": {
    "scrolled": false
   },
   "outputs": [
    {
     "data": {
      "text/html": [
       "<div>\n",
       "<style scoped>\n",
       "    .dataframe tbody tr th:only-of-type {\n",
       "        vertical-align: middle;\n",
       "    }\n",
       "\n",
       "    .dataframe tbody tr th {\n",
       "        vertical-align: top;\n",
       "    }\n",
       "\n",
       "    .dataframe thead th {\n",
       "        text-align: right;\n",
       "    }\n",
       "</style>\n",
       "<table border=\"1\" class=\"dataframe\">\n",
       "  <thead>\n",
       "    <tr style=\"text-align: right;\">\n",
       "      <th></th>\n",
       "      <th>lengthOfEmailId</th>\n",
       "      <th>noOfDotsInEmailId</th>\n",
       "      <th>noOfDashesInEmailId</th>\n",
       "      <th>noOfSpecialCharsInEmailId</th>\n",
       "      <th>noOfDigitsInEmailId</th>\n",
       "      <th>noOfSubdomainsInEmailId</th>\n",
       "      <th>noOfUrls</th>\n",
       "      <th>noOfDotsInUrls</th>\n",
       "      <th>noOfDashesInUrls</th>\n",
       "      <th>noOfSpecialCharsInUrls</th>\n",
       "      <th>hasIpAddressInUrls</th>\n",
       "      <th>noOfIpAddressInUrls</th>\n",
       "      <th>noOfHttpsLinks</th>\n",
       "      <th>no_of_attachments</th>\n",
       "      <th>class_label</th>\n",
       "      <th>noOfMaliciousWords</th>\n",
       "    </tr>\n",
       "  </thead>\n",
       "  <tbody>\n",
       "    <tr>\n",
       "      <th>0</th>\n",
       "      <td>19</td>\n",
       "      <td>0</td>\n",
       "      <td>1</td>\n",
       "      <td>0</td>\n",
       "      <td>0</td>\n",
       "      <td>0</td>\n",
       "      <td>7</td>\n",
       "      <td>24</td>\n",
       "      <td>5</td>\n",
       "      <td>8</td>\n",
       "      <td>1</td>\n",
       "      <td>1</td>\n",
       "      <td>0</td>\n",
       "      <td>0</td>\n",
       "      <td>1</td>\n",
       "      <td>79</td>\n",
       "    </tr>\n",
       "    <tr>\n",
       "      <th>1</th>\n",
       "      <td>20</td>\n",
       "      <td>0</td>\n",
       "      <td>1</td>\n",
       "      <td>0</td>\n",
       "      <td>0</td>\n",
       "      <td>0</td>\n",
       "      <td>14</td>\n",
       "      <td>41</td>\n",
       "      <td>9</td>\n",
       "      <td>16</td>\n",
       "      <td>0</td>\n",
       "      <td>0</td>\n",
       "      <td>0</td>\n",
       "      <td>0</td>\n",
       "      <td>1</td>\n",
       "      <td>127</td>\n",
       "    </tr>\n",
       "    <tr>\n",
       "      <th>2</th>\n",
       "      <td>20</td>\n",
       "      <td>0</td>\n",
       "      <td>0</td>\n",
       "      <td>0</td>\n",
       "      <td>1</td>\n",
       "      <td>1</td>\n",
       "      <td>71</td>\n",
       "      <td>305</td>\n",
       "      <td>2</td>\n",
       "      <td>94</td>\n",
       "      <td>0</td>\n",
       "      <td>0</td>\n",
       "      <td>0</td>\n",
       "      <td>0</td>\n",
       "      <td>1</td>\n",
       "      <td>102</td>\n",
       "    </tr>\n",
       "    <tr>\n",
       "      <th>3</th>\n",
       "      <td>25</td>\n",
       "      <td>0</td>\n",
       "      <td>1</td>\n",
       "      <td>0</td>\n",
       "      <td>0</td>\n",
       "      <td>0</td>\n",
       "      <td>1</td>\n",
       "      <td>4</td>\n",
       "      <td>0</td>\n",
       "      <td>2</td>\n",
       "      <td>1</td>\n",
       "      <td>1</td>\n",
       "      <td>0</td>\n",
       "      <td>0</td>\n",
       "      <td>1</td>\n",
       "      <td>30</td>\n",
       "    </tr>\n",
       "    <tr>\n",
       "      <th>4</th>\n",
       "      <td>19</td>\n",
       "      <td>0</td>\n",
       "      <td>1</td>\n",
       "      <td>0</td>\n",
       "      <td>0</td>\n",
       "      <td>0</td>\n",
       "      <td>18</td>\n",
       "      <td>55</td>\n",
       "      <td>4</td>\n",
       "      <td>59</td>\n",
       "      <td>0</td>\n",
       "      <td>0</td>\n",
       "      <td>0</td>\n",
       "      <td>0</td>\n",
       "      <td>1</td>\n",
       "      <td>63</td>\n",
       "    </tr>\n",
       "  </tbody>\n",
       "</table>\n",
       "</div>"
      ],
      "text/plain": [
       "   lengthOfEmailId  noOfDotsInEmailId  noOfDashesInEmailId  \\\n",
       "0               19                  0                    1   \n",
       "1               20                  0                    1   \n",
       "2               20                  0                    0   \n",
       "3               25                  0                    1   \n",
       "4               19                  0                    1   \n",
       "\n",
       "   noOfSpecialCharsInEmailId  noOfDigitsInEmailId  noOfSubdomainsInEmailId  \\\n",
       "0                          0                    0                        0   \n",
       "1                          0                    0                        0   \n",
       "2                          0                    1                        1   \n",
       "3                          0                    0                        0   \n",
       "4                          0                    0                        0   \n",
       "\n",
       "   noOfUrls  noOfDotsInUrls  noOfDashesInUrls  noOfSpecialCharsInUrls  \\\n",
       "0         7              24                 5                       8   \n",
       "1        14              41                 9                      16   \n",
       "2        71             305                 2                      94   \n",
       "3         1               4                 0                       2   \n",
       "4        18              55                 4                      59   \n",
       "\n",
       "   hasIpAddressInUrls  noOfIpAddressInUrls  noOfHttpsLinks  no_of_attachments  \\\n",
       "0                   1                    1               0                  0   \n",
       "1                   0                    0               0                  0   \n",
       "2                   0                    0               0                  0   \n",
       "3                   1                    1               0                  0   \n",
       "4                   0                    0               0                  0   \n",
       "\n",
       "   class_label  noOfMaliciousWords  \n",
       "0            1                  79  \n",
       "1            1                 127  \n",
       "2            1                 102  \n",
       "3            1                  30  \n",
       "4            1                  63  "
      ]
     },
     "execution_count": 34,
     "metadata": {},
     "output_type": "execute_result"
    }
   ],
   "source": [
    "#загружаем три дополнительных датасета\n",
    "bonus_phishing_emails = [mailbox.mbox('./Datasets/phishing0.mbox'), \n",
    "                        mailbox.mbox('./Datasets/phishing1.mbox'), \n",
    "                        mailbox.mbox('./Datasets/phishing2.mbox')]\n",
    "\n",
    "df3 = pd.DataFrame(columns=['text', 'lengthOfEmailId', 'noOfDotsInEmailId', 'noOfDashesInEmailId', 'noOfSpecialCharsInEmailId', 'noOfDigitsInEmailId', 'noOfSubdomainsInEmailId', 'noOfUrls', 'noOfDotsInUrls', 'noOfDashesInUrls', 'noOfSpecialCharsInUrls', 'hasIpAddressInUrls', 'noOfIpAddressInUrls', 'noOfHttpsLinks','no_of_attachments','class_label'])\n",
    "stringUtil = StringUtil()\n",
    "for emails in bonus_phishing_emails:\n",
    "    for email in emails:\n",
    "        #парсим каждое фишинговое письмо\n",
    "        emailParser = EmailParser(email)\n",
    "        #определяем количество вложений\n",
    "        no_of_attachments = emailParser.get_no_of_attachments()\n",
    "        #определяем признаки почты отправителя\n",
    "        emailid_features = stringUtil.process_email_address(emailParser.get_sender_email_address())\n",
    "        #определяем признаки ссылок\n",
    "        urls_features = stringUtil.process_urls(emailParser.get_urls())\n",
    "        #выделяем количество слов стемминга\n",
    "        word_dict = stringUtil.process_text(emailParser.get_email_text())\n",
    "        #заполняем датафрейм\n",
    "        df3.loc[len(df3)] = [word_dict, emailid_features[0], emailid_features[1], emailid_features[2], emailid_features[3], emailid_features[4], emailid_features[5], urls_features[0],urls_features[1],urls_features[2],urls_features[3],urls_features[4],urls_features[5], urls_features[6], no_of_attachments, 1]\n",
    "\n",
    "#определяем самые часто встречаемые слова из фишинговых сообщений\n",
    "malicious_words = stringUtil.get_most_common_words()\n",
    "\n",
    "#заменим признак \"текст\" на признак \"самые часто встречаемые слова из фишинговых сообщений\"\n",
    "df3['noOfMaliciousWords'] = df3['text'].apply(lambda x: len(set(x.keys()).intersection(set(dict(malicious_words).keys()))))\n",
    "df3 = df3.drop(columns=['text'])\n",
    "\n",
    "df3.head()"
   ]
  },
  {
   "cell_type": "code",
   "execution_count": 35,
   "id": "cae7f6d2",
   "metadata": {
    "scrolled": false
   },
   "outputs": [
    {
     "name": "stdout",
     "output_type": "stream",
     "text": [
      "<class 'pandas.core.frame.DataFrame'>\n",
      "Int64Index: 2293 entries, 0 to 2292\n",
      "Data columns (total 16 columns):\n",
      " #   Column                     Non-Null Count  Dtype\n",
      "---  ------                     --------------  -----\n",
      " 0   lengthOfEmailId            2293 non-null   int64\n",
      " 1   noOfDotsInEmailId          2293 non-null   int64\n",
      " 2   noOfDashesInEmailId        2293 non-null   int64\n",
      " 3   noOfSpecialCharsInEmailId  2293 non-null   int64\n",
      " 4   noOfDigitsInEmailId        2293 non-null   int64\n",
      " 5   noOfSubdomainsInEmailId    2293 non-null   int64\n",
      " 6   noOfUrls                   2293 non-null   int64\n",
      " 7   noOfDotsInUrls             2293 non-null   int64\n",
      " 8   noOfDashesInUrls           2293 non-null   int64\n",
      " 9   noOfSpecialCharsInUrls     2293 non-null   int64\n",
      " 10  hasIpAddressInUrls         2293 non-null   int64\n",
      " 11  noOfIpAddressInUrls        2293 non-null   int64\n",
      " 12  noOfHttpsLinks             2293 non-null   int64\n",
      " 13  no_of_attachments          2293 non-null   int64\n",
      " 14  class_label                2293 non-null   int64\n",
      " 15  noOfMaliciousWords         2293 non-null   int64\n",
      "dtypes: int64(16)\n",
      "memory usage: 304.5 KB\n"
     ]
    }
   ],
   "source": [
    "df3.info()"
   ]
  },
  {
   "cell_type": "markdown",
   "id": "78821d76",
   "metadata": {},
   "source": [
    "Оптимизируем типы данных"
   ]
  },
  {
   "cell_type": "code",
   "execution_count": 36,
   "id": "301b084c",
   "metadata": {},
   "outputs": [
    {
     "name": "stdout",
     "output_type": "stream",
     "text": [
      "<class 'pandas.core.frame.DataFrame'>\n",
      "Int64Index: 2293 entries, 0 to 2292\n",
      "Data columns (total 16 columns):\n",
      " #   Column                     Non-Null Count  Dtype\n",
      "---  ------                     --------------  -----\n",
      " 0   lengthOfEmailId            2293 non-null   int16\n",
      " 1   noOfDotsInEmailId          2293 non-null   int16\n",
      " 2   noOfDashesInEmailId        2293 non-null   int16\n",
      " 3   noOfSpecialCharsInEmailId  2293 non-null   int16\n",
      " 4   noOfDigitsInEmailId        2293 non-null   int16\n",
      " 5   noOfSubdomainsInEmailId    2293 non-null   int16\n",
      " 6   noOfUrls                   2293 non-null   int16\n",
      " 7   noOfDotsInUrls             2293 non-null   int16\n",
      " 8   noOfDashesInUrls           2293 non-null   int16\n",
      " 9   noOfSpecialCharsInUrls     2293 non-null   int16\n",
      " 10  hasIpAddressInUrls         2293 non-null   int16\n",
      " 11  noOfIpAddressInUrls        2293 non-null   int16\n",
      " 12  noOfHttpsLinks             2293 non-null   int16\n",
      " 13  no_of_attachments          2293 non-null   int16\n",
      " 14  class_label                2293 non-null   int16\n",
      " 15  noOfMaliciousWords         2293 non-null   int16\n",
      "dtypes: int16(16)\n",
      "memory usage: 89.6 KB\n"
     ]
    }
   ],
   "source": [
    "df3 = df3.astype('int16')\n",
    "df3.info()"
   ]
  },
  {
   "cell_type": "markdown",
   "id": "7db9592c",
   "metadata": {},
   "source": [
    "Сохраним обработанный тестовый набор"
   ]
  },
  {
   "cell_type": "code",
   "execution_count": 37,
   "id": "dde74382",
   "metadata": {},
   "outputs": [],
   "source": [
    "df3.to_csv(\"./Data/data_test.csv\", sep=',')"
   ]
  },
  {
   "cell_type": "markdown",
   "id": "885e9f59",
   "metadata": {},
   "source": [
    "Загружаем датасет с файла"
   ]
  },
  {
   "cell_type": "code",
   "execution_count": 38,
   "id": "109fd5c0",
   "metadata": {},
   "outputs": [
    {
     "data": {
      "text/html": [
       "<div>\n",
       "<style scoped>\n",
       "    .dataframe tbody tr th:only-of-type {\n",
       "        vertical-align: middle;\n",
       "    }\n",
       "\n",
       "    .dataframe tbody tr th {\n",
       "        vertical-align: top;\n",
       "    }\n",
       "\n",
       "    .dataframe thead th {\n",
       "        text-align: right;\n",
       "    }\n",
       "</style>\n",
       "<table border=\"1\" class=\"dataframe\">\n",
       "  <thead>\n",
       "    <tr style=\"text-align: right;\">\n",
       "      <th></th>\n",
       "      <th>lengthOfEmailId</th>\n",
       "      <th>noOfDotsInEmailId</th>\n",
       "      <th>noOfDashesInEmailId</th>\n",
       "      <th>noOfSpecialCharsInEmailId</th>\n",
       "      <th>noOfDigitsInEmailId</th>\n",
       "      <th>noOfSubdomainsInEmailId</th>\n",
       "      <th>noOfUrls</th>\n",
       "      <th>noOfDotsInUrls</th>\n",
       "      <th>noOfDashesInUrls</th>\n",
       "      <th>noOfSpecialCharsInUrls</th>\n",
       "      <th>hasIpAddressInUrls</th>\n",
       "      <th>noOfIpAddressInUrls</th>\n",
       "      <th>noOfHttpsLinks</th>\n",
       "      <th>no_of_attachments</th>\n",
       "      <th>class_label</th>\n",
       "      <th>noOfMaliciousWords</th>\n",
       "    </tr>\n",
       "  </thead>\n",
       "  <tbody>\n",
       "    <tr>\n",
       "      <th>0</th>\n",
       "      <td>29</td>\n",
       "      <td>0</td>\n",
       "      <td>0</td>\n",
       "      <td>1</td>\n",
       "      <td>3</td>\n",
       "      <td>0</td>\n",
       "      <td>2</td>\n",
       "      <td>5</td>\n",
       "      <td>0</td>\n",
       "      <td>2</td>\n",
       "      <td>1</td>\n",
       "      <td>1</td>\n",
       "      <td>1</td>\n",
       "      <td>1</td>\n",
       "      <td>1</td>\n",
       "      <td>6</td>\n",
       "    </tr>\n",
       "    <tr>\n",
       "      <th>1</th>\n",
       "      <td>21</td>\n",
       "      <td>0</td>\n",
       "      <td>0</td>\n",
       "      <td>0</td>\n",
       "      <td>0</td>\n",
       "      <td>0</td>\n",
       "      <td>2</td>\n",
       "      <td>5</td>\n",
       "      <td>1</td>\n",
       "      <td>9</td>\n",
       "      <td>0</td>\n",
       "      <td>0</td>\n",
       "      <td>0</td>\n",
       "      <td>0</td>\n",
       "      <td>1</td>\n",
       "      <td>46</td>\n",
       "    </tr>\n",
       "    <tr>\n",
       "      <th>2</th>\n",
       "      <td>21</td>\n",
       "      <td>0</td>\n",
       "      <td>0</td>\n",
       "      <td>0</td>\n",
       "      <td>0</td>\n",
       "      <td>0</td>\n",
       "      <td>2</td>\n",
       "      <td>6</td>\n",
       "      <td>1</td>\n",
       "      <td>8</td>\n",
       "      <td>0</td>\n",
       "      <td>0</td>\n",
       "      <td>0</td>\n",
       "      <td>0</td>\n",
       "      <td>1</td>\n",
       "      <td>28</td>\n",
       "    </tr>\n",
       "    <tr>\n",
       "      <th>3</th>\n",
       "      <td>19</td>\n",
       "      <td>0</td>\n",
       "      <td>0</td>\n",
       "      <td>0</td>\n",
       "      <td>0</td>\n",
       "      <td>0</td>\n",
       "      <td>3</td>\n",
       "      <td>8</td>\n",
       "      <td>0</td>\n",
       "      <td>6</td>\n",
       "      <td>1</td>\n",
       "      <td>1</td>\n",
       "      <td>1</td>\n",
       "      <td>0</td>\n",
       "      <td>1</td>\n",
       "      <td>70</td>\n",
       "    </tr>\n",
       "    <tr>\n",
       "      <th>4</th>\n",
       "      <td>19</td>\n",
       "      <td>0</td>\n",
       "      <td>0</td>\n",
       "      <td>0</td>\n",
       "      <td>0</td>\n",
       "      <td>0</td>\n",
       "      <td>3</td>\n",
       "      <td>8</td>\n",
       "      <td>0</td>\n",
       "      <td>6</td>\n",
       "      <td>1</td>\n",
       "      <td>1</td>\n",
       "      <td>1</td>\n",
       "      <td>0</td>\n",
       "      <td>1</td>\n",
       "      <td>70</td>\n",
       "    </tr>\n",
       "  </tbody>\n",
       "</table>\n",
       "</div>"
      ],
      "text/plain": [
       "   lengthOfEmailId  noOfDotsInEmailId  noOfDashesInEmailId  \\\n",
       "0               29                  0                    0   \n",
       "1               21                  0                    0   \n",
       "2               21                  0                    0   \n",
       "3               19                  0                    0   \n",
       "4               19                  0                    0   \n",
       "\n",
       "   noOfSpecialCharsInEmailId  noOfDigitsInEmailId  noOfSubdomainsInEmailId  \\\n",
       "0                          1                    3                        0   \n",
       "1                          0                    0                        0   \n",
       "2                          0                    0                        0   \n",
       "3                          0                    0                        0   \n",
       "4                          0                    0                        0   \n",
       "\n",
       "   noOfUrls  noOfDotsInUrls  noOfDashesInUrls  noOfSpecialCharsInUrls  \\\n",
       "0         2               5                 0                       2   \n",
       "1         2               5                 1                       9   \n",
       "2         2               6                 1                       8   \n",
       "3         3               8                 0                       6   \n",
       "4         3               8                 0                       6   \n",
       "\n",
       "   hasIpAddressInUrls  noOfIpAddressInUrls  noOfHttpsLinks  no_of_attachments  \\\n",
       "0                   1                    1               1                  1   \n",
       "1                   0                    0               0                  0   \n",
       "2                   0                    0               0                  0   \n",
       "3                   1                    1               1                  0   \n",
       "4                   1                    1               1                  0   \n",
       "\n",
       "   class_label  noOfMaliciousWords  \n",
       "0            1                   6  \n",
       "1            1                  46  \n",
       "2            1                  28  \n",
       "3            1                  70  \n",
       "4            1                  70  "
      ]
     },
     "execution_count": 38,
     "metadata": {},
     "output_type": "execute_result"
    }
   ],
   "source": [
    "df3 = pd.read_csv(\"./Data/data_test.csv\").drop('Unnamed: 0', axis=1)\n",
    "df.head()"
   ]
  },
  {
   "cell_type": "code",
   "execution_count": 39,
   "id": "d264d5a6",
   "metadata": {},
   "outputs": [
    {
     "name": "stdout",
     "output_type": "stream",
     "text": [
      "72/72 [==============================] - 0s 620us/step - loss: 0.2294 - acc: 0.9167\n"
     ]
    },
    {
     "data": {
      "text/html": [
       "<div>\n",
       "<style scoped>\n",
       "    .dataframe tbody tr th:only-of-type {\n",
       "        vertical-align: middle;\n",
       "    }\n",
       "\n",
       "    .dataframe tbody tr th {\n",
       "        vertical-align: top;\n",
       "    }\n",
       "\n",
       "    .dataframe thead th {\n",
       "        text-align: right;\n",
       "    }\n",
       "</style>\n",
       "<table border=\"1\" class=\"dataframe\">\n",
       "  <thead>\n",
       "    <tr style=\"text-align: right;\">\n",
       "      <th></th>\n",
       "      <th>Score</th>\n",
       "    </tr>\n",
       "  </thead>\n",
       "  <tbody>\n",
       "    <tr>\n",
       "      <th>SVC</th>\n",
       "      <td>0.000436</td>\n",
       "    </tr>\n",
       "    <tr>\n",
       "      <th>KN</th>\n",
       "      <td>0.793720</td>\n",
       "    </tr>\n",
       "    <tr>\n",
       "      <th>NB</th>\n",
       "      <td>0.802442</td>\n",
       "    </tr>\n",
       "    <tr>\n",
       "      <th>DT</th>\n",
       "      <td>0.885303</td>\n",
       "    </tr>\n",
       "    <tr>\n",
       "      <th>LR</th>\n",
       "      <td>0.834278</td>\n",
       "    </tr>\n",
       "    <tr>\n",
       "      <th>RF</th>\n",
       "      <td>0.937200</td>\n",
       "    </tr>\n",
       "    <tr>\n",
       "      <th>AdaBoost</th>\n",
       "      <td>0.911470</td>\n",
       "    </tr>\n",
       "    <tr>\n",
       "      <th>BgC</th>\n",
       "      <td>0.912778</td>\n",
       "    </tr>\n",
       "    <tr>\n",
       "      <th>ETC</th>\n",
       "      <td>0.922372</td>\n",
       "    </tr>\n",
       "    <tr>\n",
       "      <th>MLP</th>\n",
       "      <td>0.916703</td>\n",
       "    </tr>\n",
       "  </tbody>\n",
       "</table>\n",
       "</div>"
      ],
      "text/plain": [
       "             Score\n",
       "SVC       0.000436\n",
       "KN        0.793720\n",
       "NB        0.802442\n",
       "DT        0.885303\n",
       "LR        0.834278\n",
       "RF        0.937200\n",
       "AdaBoost  0.911470\n",
       "BgC       0.912778\n",
       "ETC       0.922372\n",
       "MLP       0.916703"
      ]
     },
     "execution_count": 39,
     "metadata": {},
     "output_type": "execute_result"
    }
   ],
   "source": [
    "pred_dict={}\n",
    "# пробежимся по классификаторам\n",
    "for k,v in clfs.items():\n",
    "    # классифицируем тестовые выборки\n",
    "    pred = predict_labels(v,np.array(df3.drop(columns='class_label')))\n",
    "    # записываем точность классификатора\n",
    "    pred_dict[k]=[accuracy_score(np.array(df3['class_label']),pred)]\n",
    "\n",
    "#персептрон\n",
    "mlp_score = mlp_model.evaluate(np.array(df3.drop(columns='class_label')), np.array(df3['class_label']), batch_size=32, verbose=1)    \n",
    "pred_dict['MLP']=[mlp_score[1],]\n",
    "\n",
    "# объявляем датафрейм на основе собранной статистики по классификаторам\n",
    "res = pd.DataFrame.from_dict(pred_dict, orient='index', columns=['Score'])\n",
    "\n",
    "res"
   ]
  },
  {
   "cell_type": "code",
   "execution_count": 40,
   "id": "a6450004",
   "metadata": {},
   "outputs": [
    {
     "data": {
      "text/plain": [
       "<matplotlib.legend.Legend at 0x23ec7e77910>"
      ]
     },
     "execution_count": 40,
     "metadata": {},
     "output_type": "execute_result"
    },
    {
     "data": {
      "image/png": "[encoded data removed]",
      "text/plain": [
       "<Figure size 1100x600 with 1 Axes>"
      ]
     },
     "metadata": {},
     "output_type": "display_data"
    }
   ],
   "source": [
    "#визуализируем\n",
    "res.plot(kind='bar', ylim=(0.7,1.0), figsize=(11,6), align='center', colormap=\"Accent\")\n",
    "plt.xticks(np.arange(res.shape[0]), res.index)\n",
    "plt.ylabel('Accuracy Score')\n",
    "plt.title('Distribution by Classifier')\n",
    "plt.legend(bbox_to_anchor=(1.05, 1), loc=2, borderaxespad=0.)"
   ]
  },
  {
   "cell_type": "markdown",
   "id": "1994eb9e",
   "metadata": {},
   "source": [
    "По полученным результатам можем выделить алгоритм Random Forest как победителя в номинации лучший классификатор фишинговых сообщений (с учётом обучающих данных и выделенных признаков)."
   ]
  },
  {
   "cell_type": "markdown",
   "id": "9ea6f606",
   "metadata": {},
   "source": [
    "# Оптимизация гиперпараметров модели RF"
   ]
  },
  {
   "cell_type": "markdown",
   "id": "10445144",
   "metadata": {},
   "source": [
    "Есть несколько способов определить, какие гиперпараметры следуюет насторить для нашей модели. Хороший способ визуально оценить потенциальные оптимизированные значения гиперпараметров модели — использовать кривую проверки. Кривая проверки может быть построена на графике, чтобы показать, насколько хорошо модель работает с различными значениями одного гиперпараметра."
   ]
  },
  {
   "cell_type": "markdown",
   "id": "cb728d69",
   "metadata": {},
   "source": [
    "Воссоздадим набор данных для обучения"
   ]
  },
  {
   "cell_type": "code",
   "execution_count": 41,
   "id": "a9f055e8",
   "metadata": {},
   "outputs": [],
   "source": [
    "from sklearn import model_selection\n",
    "df = pd.read_csv(\"./Data/data.csv\").drop('Unnamed: 0', axis=1)\n",
    "x = df.drop(columns=[\"class_label\"]).values\n",
    "y = df[\"class_label\"].values\n",
    "\n",
    "x_train, x_test, y_train, y_test = train_test_split(x, y, random_state=34, test_size=0.2)"
   ]
  },
  {
   "cell_type": "markdown",
   "id": "197691f2",
   "metadata": {},
   "source": [
    "Посчитаем оптимальный параметр n_estimators"
   ]
  },
  {
   "cell_type": "code",
   "execution_count": 50,
   "id": "9be5c3a2",
   "metadata": {},
   "outputs": [],
   "source": [
    "num_est = np.arange(10, 210, 10)\n",
    "train_scoreNum, test_scoreNum = model_selection.validation_curve( \n",
    "                                RandomForestClassifier(), \n",
    "                                X = x_train, y = y_train, \n",
    "                                param_name = 'n_estimators', \n",
    "                                param_range = num_est, cv = 3)"
   ]
  },
  {
   "cell_type": "markdown",
   "id": "3b532d56",
   "metadata": {},
   "source": [
    "Отобразим на графике"
   ]
  },
  {
   "cell_type": "code",
   "execution_count": 51,
   "id": "669fa78d",
   "metadata": {},
   "outputs": [
    {
     "data": {
      "image/png": "[encoded data removed]",
      "text/plain": [
       "<Figure size 640x480 with 1 Axes>"
      ]
     },
     "metadata": {},
     "output_type": "display_data"
    }
   ],
   "source": [
    "plt.plot(num_est, np.mean(train_scoreNum, axis = 1))\n",
    "plt.plot(num_est, np.mean(test_scoreNum, axis = 1))\n",
    "plt.ylabel('accuracy')\n",
    "plt.xlabel('n_estimators')\n",
    "plt.legend(['train', 'test'], loc='center right')\n",
    "plt.show()"
   ]
  },
  {
   "cell_type": "markdown",
   "id": "00013f2e",
   "metadata": {},
   "source": [
    "Пиковое значение точности можем видеть при n_estimators в районе 130. Уточним значение"
   ]
  },
  {
   "cell_type": "code",
   "execution_count": 54,
   "id": "8ae52a41",
   "metadata": {},
   "outputs": [
    {
     "data": {
      "image/png": "[encoded data removed]",
      "text/plain": [
       "<Figure size 640x480 with 1 Axes>"
      ]
     },
     "metadata": {},
     "output_type": "display_data"
    }
   ],
   "source": [
    "num_est = np.arange(125, 140, 1)\n",
    "train_scoreNum, test_scoreNum = model_selection.validation_curve( \n",
    "                                RandomForestClassifier(), \n",
    "                                X = x_train, y = y_train, \n",
    "                                param_name = 'n_estimators', \n",
    "                                param_range = num_est, cv = 3)\n",
    "plt.plot(num_est, np.mean(train_scoreNum, axis = 1))\n",
    "plt.plot(num_est, np.mean(test_scoreNum, axis = 1))\n",
    "plt.ylabel('accuracy')\n",
    "plt.xlabel('n_estimators')\n",
    "plt.legend(['train', 'test'], loc='center right')\n",
    "plt.show()"
   ]
  },
  {
   "cell_type": "markdown",
   "id": "d2030ea1",
   "metadata": {},
   "source": [
    "Теперь явно видно, что пиковое значение точности достигается при **n_estimators = 130**. Зафиксируем данное значение."
   ]
  },
  {
   "cell_type": "markdown",
   "id": "5d2615e2",
   "metadata": {},
   "source": [
    "Далее попробуем оценить оптимальное значение гиперпараметра max_depth"
   ]
  },
  {
   "cell_type": "code",
   "execution_count": 55,
   "id": "eca53cd7",
   "metadata": {},
   "outputs": [],
   "source": [
    "num_md = np.arange(10, 110, 10)\n",
    "train_scoreNum, test_scoreNum = model_selection.validation_curve( \n",
    "                                RandomForestClassifier(n_estimators=130), \n",
    "                                X = x_train, y = y_train, \n",
    "                                param_name = 'max_depth', \n",
    "                                param_range = num_md, cv = 3)"
   ]
  },
  {
   "cell_type": "code",
   "execution_count": 56,
   "id": "0f3013a8",
   "metadata": {},
   "outputs": [
    {
     "data": {
      "image/png": "[encoded data removed]",
      "text/plain": [
       "<Figure size 640x480 with 1 Axes>"
      ]
     },
     "metadata": {},
     "output_type": "display_data"
    }
   ],
   "source": [
    "plt.plot(num_md, np.mean(train_scoreNum, axis = 1))\n",
    "plt.plot(num_md, np.mean(test_scoreNum, axis = 1))\n",
    "plt.ylabel('accuracy')\n",
    "plt.xlabel('max_depth')\n",
    "plt.legend(['train', 'test'], loc='center right')\n",
    "plt.show()"
   ]
  },
  {
   "cell_type": "markdown",
   "id": "bd7a8be5",
   "metadata": {},
   "source": [
    "На данном графике оптимальное значение гиперпараметра max_depth наблюдается в районе 40. Уточним значение"
   ]
  },
  {
   "cell_type": "code",
   "execution_count": 58,
   "id": "364d12ff",
   "metadata": {},
   "outputs": [
    {
     "data": {
      "image/png": "[encoded data removed]",
      "text/plain": [
       "<Figure size 640x480 with 1 Axes>"
      ]
     },
     "metadata": {},
     "output_type": "display_data"
    }
   ],
   "source": [
    "num_md = np.arange(40, 50, 1)\n",
    "train_scoreNum, test_scoreNum = model_selection.validation_curve( \n",
    "                                RandomForestClassifier(n_estimators=130), \n",
    "                                X = x_train, y = y_train, \n",
    "                                param_name = 'max_depth', \n",
    "                                param_range = num_md, cv = 3)\n",
    "\n",
    "plt.plot(num_md, np.mean(train_scoreNum, axis = 1))\n",
    "plt.plot(num_md, np.mean(test_scoreNum, axis = 1))\n",
    "plt.ylabel('accuracy')\n",
    "plt.xlabel('max_depth')\n",
    "plt.legend(['train', 'test'], loc='center right')\n",
    "plt.show()"
   ]
  },
  {
   "cell_type": "markdown",
   "id": "c7422a66",
   "metadata": {},
   "source": [
    "Остановимся на значении **max_depth = 47**"
   ]
  },
  {
   "cell_type": "markdown",
   "id": "5b005253",
   "metadata": {},
   "source": [
    "Посмотрим оптимальное значение гиперпараметра bootstrap"
   ]
  },
  {
   "cell_type": "code",
   "execution_count": 59,
   "id": "828f7f8a",
   "metadata": {},
   "outputs": [
    {
     "data": {
      "image/png": "[encoded data removed]",
      "text/plain": [
       "<Figure size 640x480 with 1 Axes>"
      ]
     },
     "metadata": {},
     "output_type": "display_data"
    }
   ],
   "source": [
    "num_bs = np.array([False, True])\n",
    "train_scoreNum, test_scoreNum = model_selection.validation_curve( \n",
    "                                RandomForestClassifier(n_estimators=130, max_depth=47), \n",
    "                                X = x_train, y = y_train, \n",
    "                                param_name = 'bootstrap', \n",
    "                                param_range = num_bs, cv = 3)\n",
    "\n",
    "plt.plot(num_bs, np.mean(train_scoreNum, axis = 1))\n",
    "plt.plot(num_bs, np.mean(test_scoreNum, axis = 1))\n",
    "plt.ylabel('accuracy')\n",
    "plt.xlabel('bootstrap')\n",
    "plt.legend(['train', 'test'], loc='center right')\n",
    "plt.show()"
   ]
  },
  {
   "cell_type": "markdown",
   "id": "b5fdcfa0",
   "metadata": {},
   "source": [
    "Значение точности выше при настройке **bootstrap = True**"
   ]
  },
  {
   "cell_type": "markdown",
   "id": "28c8559c",
   "metadata": {},
   "source": [
    "Попробуем обучить модель с полученными значениями гиперпараметров и оценим результат"
   ]
  },
  {
   "cell_type": "code",
   "execution_count": 60,
   "id": "c11e8ec8",
   "metadata": {},
   "outputs": [
    {
     "data": {
      "text/plain": [
       "0.9763719512195121"
      ]
     },
     "execution_count": 60,
     "metadata": {},
     "output_type": "execute_result"
    }
   ],
   "source": [
    "rf = RandomForestClassifier(n_estimators=130, max_depth=47, bootstrap=True, random_state=111)\n",
    "rf.fit(x_train, y_train)\n",
    "rf_pred = rf.predict(x_test)\n",
    "accuracy_score(y_test,rf_pred)"
   ]
  },
  {
   "cell_type": "markdown",
   "id": "6396ecc6",
   "metadata": {},
   "source": [
    "Сравним полученное значение точности с точностью базовой модели"
   ]
  },
  {
   "cell_type": "code",
   "execution_count": 61,
   "id": "500586b3",
   "metadata": {},
   "outputs": [
    {
     "data": {
      "text/plain": [
       "0.975609756097561"
      ]
     },
     "execution_count": 61,
     "metadata": {},
     "output_type": "execute_result"
    }
   ],
   "source": [
    "rfc = joblib.load('./Models/RF.pkl')\n",
    "rfc_pred = rfc.predict(x_test)\n",
    "accuracy_score(y_test,rfc_pred)"
   ]
  },
  {
   "cell_type": "markdown",
   "id": "0ce55252",
   "metadata": {},
   "source": [
    "Мы смогли достичь небольшого прироста в точности. Попробуем сравнить на дополнительных тестовых наборах"
   ]
  },
  {
   "cell_type": "code",
   "execution_count": 62,
   "id": "dd3c782d",
   "metadata": {},
   "outputs": [
    {
     "name": "stdout",
     "output_type": "stream",
     "text": [
      "rf acc: 0.935455734845181\n",
      "rfс acc: 0.9372001744439599\n"
     ]
    }
   ],
   "source": [
    "df3 = pd.read_csv(\"./Data/data_test.csv\").drop('Unnamed: 0', axis=1)\n",
    "# классифицируем тестовые выборки\n",
    "rf_pred = rf.predict(np.array(df3.drop(columns='class_label')))\n",
    "rfc_pred = rfc.predict(np.array(df3.drop(columns='class_label')))\n",
    "# запишем точность моделей\n",
    "print('rf acc:', accuracy_score(np.array(df3['class_label']),rf_pred))\n",
    "print('rfс acc:', accuracy_score(np.array(df3['class_label']),rfc_pred))"
   ]
  },
  {
   "cell_type": "markdown",
   "id": "2e2a953d",
   "metadata": {},
   "source": [
    "Точность классификации на дополнительных наборах также показала небольшое преимущество"
   ]
  },
  {
   "cell_type": "markdown",
   "id": "21873d12",
   "metadata": {},
   "source": [
    "Можно сделать вывод о том, что базовая модель самостоятельно подбирает близкие к оптимальным гиперпараметры для модели. Поэтому явное указание гиперпараметров для повышения точности классификатора может дать небольшое преимущество.\n",
    "\n",
    "Настройка гиперпараметров может быть полезна при создании модели, которая лучше подходит для классификации. В случае со случайным лесом в этом может не быть необходимости, так как случайные леса уже очень хорошо классифицируют. Использование исчерпывающего поиска по сетке для выбора значений гиперпараметров также может занять очень много времени. Однако в тех случаях, когда имеется только несколько потенциальных значений для ваших гиперпараметров или когда ваша исходная модель классификации не очень точна, может быть хорошей идеей, по крайней мере, исследовать влияние изменения некоторых значений гиперпараметров на вашу модель."
   ]
  },
  {
   "cell_type": "markdown",
   "id": "efdffa19",
   "metadata": {},
   "source": [
    "# Заключение"
   ]
  },
  {
   "cell_type": "markdown",
   "id": "6835e96c",
   "metadata": {},
   "source": [
    "В ходе работы над проектом, по полученным результатам видно, что модель случайных лесов - лучший алгоритм для обнаружения фишинговых сообщений с учетом обучающего набора и выделяемых признаков. Точность 1 предполагает, что каждое нефишинговое письмо будет корректно идентифицировано и не попадет в папку со спамом, если это будет реализовано в реальном решении.\n",
    "\n",
    "Алгоритм случайных лесов показал наивысший, среди других моделей, результат приблизительно равный 0,98. Соответственно, существует вероятность того, что небольшая часть фишинговых сообщений всё же попадет в почтовый ящик незамеченной. В случае со случайным лесом - 2 из 100 фишинговых писем останутся незамеченными.\n",
    "\n",
    "Необходимость предобработки данных и выделения признаков для классификации может влиять на производительность.\n",
    "\n",
    "Также нам удалось достичь лучших показателей точности выбранного классификатора путем подбора и явного указания гиперпараметров."
   ]
  },
  {
   "cell_type": "markdown",
   "id": "6eea3076",
   "metadata": {},
   "source": [
    "# Список используемых источников"
   ]
  },
  {
   "cell_type": "markdown",
   "id": "204598a6",
   "metadata": {},
   "source": [
    "1. Спам и фишинг в 2022 году // https://securelist.ru/ : сайт. - URL: https://securelist.ru/spam-phishing-scam-report-2022/106719/ (дата обращения: 20.03.2023);\n",
    "1. Лаборатория Касперского\" заблокировала 800 тыс. русских фишинговых писем в 2022 году // https://tass.ru/ : сайт. - URL: https://tass.ru/obschestvo/14635485 (дата обращения: 20.03.2023);\n",
    "1. Искусственный интеллект: технологии и применение // https://rdc.grfc.ru/ : сайт. - URL: https://rdc.grfc.ru/2020/12/aitech/ (дата обращения: 20.03.2023);\n",
    "1. Фишинговые письма // https://phishman.ru/ : сайт. - URL: https://phishman.ru/blog/phishing-emails (дата обращения: 20.03.2023);\n",
    "1. Не дайте себя обмануть - 7 признаков фишинговых писем // https://vc.ru : сайт. - URL: https://vc.ru/services/119070-ne-dayte-sebya-obmanut-7-priznakov-fishingovyh-pisem (дата обращения: 20.03.2023);\n",
    "1. Keras и Tensorflow - классификация текста // https://cloud.croc.ru/ : сайт. - URL: https://cloud.croc.ru/blog/about-technologies/keras-i-tensorflow-klassifikatsiya-teksta/ (дата обращения: 20.03.2023)."
   ]
  }
 ],
 "metadata": {
  "kernelspec": {
   "display_name": "Python 3 (ipykernel)",
   "language": "python",
   "name": "python3"
  },
  "language_info": {
   "codemirror_mode": {
    "name": "ipython",
    "version": 3
   },
   "file_extension": ".py",
   "mimetype": "text/x-python",
   "name": "python",
   "nbconvert_exporter": "python",
   "pygments_lexer": "ipython3",
   "version": "3.10.9"
  }
 },
 "nbformat": 4,
 "nbformat_minor": 5
}
